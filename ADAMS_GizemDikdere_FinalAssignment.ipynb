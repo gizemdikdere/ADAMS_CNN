{
 "cells": [
  {
   "cell_type": "markdown",
   "metadata": {},
   "source": [
    "Created by Gizem Dikdere.\n",
    "396072 TU Berlin"
   ]
  },
  {
   "cell_type": "markdown",
   "metadata": {},
   "source": [
    "# 1.Introduction"
   ]
  },
  {
   "cell_type": "markdown",
   "metadata": {},
   "source": [
    "In 1990, Adobe released Adobe Photoshop and since then, it is understood that \"camera never lies\" is not sustainable anymore. It can be used easily by people for personal harmless purposes but also photo editing or changing can be for manipulating news about famous people or politicians.\n",
    "\n",
    "Noawadays, not only photos but also videos can be used for manipulating people and changing truths in the eyes of people. \"Deep Fakes\" are throwing fear around[1].\n",
    "\n",
    "In fact, the technology improved in in two opposite way. Some people are finding way to manipulate images or videos while some other people are finding ways to detect the changes in the images or videos. Adobe has started developing tools to detect the altered photos[2].\n",
    "\n",
    "As a beginning, in this project, it is aimed to detect the altered/photoshoped photos for a given set of data by building CNN based tool."
   ]
  },
  {
   "cell_type": "markdown",
   "metadata": {
    "colab_type": "text",
    "id": "39DS1ZJ2zI21"
   },
   "source": [
    "# 2.Data Loading"
   ]
  },
  {
   "cell_type": "code",
   "execution_count": null,
   "metadata": {
    "colab": {
     "base_uri": "https://localhost:8080/",
     "height": 189
    },
    "colab_type": "code",
    "id": "Pwvzr65CkgXE",
    "outputId": "dca60529-37ed-485b-b07d-8836be02410e"
   },
   "outputs": [],
   "source": [
    "from google.colab import drive\n",
    "drive.mount('/content/drive')"
   ]
  },
  {
   "cell_type": "code",
   "execution_count": null,
   "metadata": {
    "_cell_guid": "b1076dfc-b9ad-4769-8c92-a6c4dae69d19",
    "_uuid": "8f2839f25d086af736a60e9eeb907d3b93b6e0e5",
    "colab": {
     "base_uri": "https://localhost:8080/",
     "height": 34
    },
    "colab_type": "code",
    "id": "C7CPBPGxkCqF",
    "outputId": "f06260f8-2a5a-44bb-c9db-569fa8243cf1"
   },
   "outputs": [
    {
     "name": "stdout",
     "output_type": "stream",
     "text": [
      "['real', 'fake']\n"
     ]
    }
   ],
   "source": [
    "import numpy as np\n",
    "import pandas as pd\n",
    "import os\n",
    "import cv2\n",
    "import matplotlib.pyplot as plt\n",
    "%matplotlib inline\n",
    "import random\n",
    "import gc\n",
    "np.random.seed(42)\n",
    "print(os.listdir('/content/drive/My Drive/adams-faces-ss19/training/'))"
   ]
  },
  {
   "cell_type": "code",
   "execution_count": null,
   "metadata": {
    "colab": {},
    "colab_type": "code",
    "id": "MSOD59ogkCqV"
   },
   "outputs": [],
   "source": [
    "train_dir_fake= 'drive/My Drive/adams-faces-ss19/training/fake'\n",
    "train_fake= ['drive/My Drive/adams-faces-ss19/training/fake/{}'.format(i) for i in os.listdir(train_dir_fake)] \n",
    "\n",
    "train_dir_real= 'drive/My Drive/adams-faces-ss19/training/real'\n",
    "train_real= ['drive/My Drive/adams-faces-ss19/training/real/{}'.format(i) for i in os.listdir(train_dir_real)] "
   ]
  },
  {
   "cell_type": "markdown",
   "metadata": {
    "colab_type": "text",
    "id": "UXa9r8_bkCql"
   },
   "source": [
    "\"train_fake\" is a list that keeps the fake images' paths and names.\n",
    "\"train_real\" is a list that keeps the real images' paths and names."
   ]
  },
  {
   "cell_type": "code",
   "execution_count": null,
   "metadata": {
    "colab": {},
    "colab_type": "code",
    "id": "Imt1SzyJkCqq"
   },
   "outputs": [],
   "source": [
    "train_imgs = train_fake + train_real"
   ]
  },
  {
   "cell_type": "markdown",
   "metadata": {
    "colab_type": "text",
    "id": "1eymdxGbkCqz"
   },
   "source": [
    "By adding train_fake and train_real, training images' paths and names are created. "
   ]
  },
  {
   "cell_type": "code",
   "execution_count": null,
   "metadata": {
    "colab": {
     "base_uri": "https://localhost:8080/",
     "height": 34
    },
    "colab_type": "code",
    "id": "L7OtazFVsoUk",
    "outputId": "39925a50-9a05-45bf-bb0b-2b688ae396c7"
   },
   "outputs": [
    {
     "data": {
      "text/plain": [
       "8"
      ]
     },
     "execution_count": 5,
     "metadata": {
      "tags": []
     },
     "output_type": "execute_result"
    }
   ],
   "source": [
    "del train_real\n",
    "del train_fake\n",
    "gc.collect()"
   ]
  },
  {
   "cell_type": "markdown",
   "metadata": {
    "colab_type": "text",
    "id": "A4LAsZ2Dvqt2"
   },
   "source": [
    "Train_fake and train_real is deleted to save memory. Without getting rid of useless variables, the session on Google Colab is crashing earlier due to memory limits. "
   ]
  },
  {
   "cell_type": "code",
   "execution_count": null,
   "metadata": {
    "colab": {
     "base_uri": "https://localhost:8080/",
     "height": 1000
    },
    "colab_type": "code",
    "id": "RGVjtWYHsxAh",
    "outputId": "33f566de-88b4-46f1-9dff-5aa94a0cbb3f"
   },
   "outputs": [
    {
     "data": {
      "text/plain": [
       "['drive/My Drive/adams-faces-ss19/training/fake/mid_139_1111.jpg',\n",
       " 'drive/My Drive/adams-faces-ss19/training/fake/mid_40_1111.jpg',\n",
       " 'drive/My Drive/adams-faces-ss19/training/fake/mid_257_1111.jpg',\n",
       " 'drive/My Drive/adams-faces-ss19/training/fake/easy_76_1111.jpg',\n",
       " 'drive/My Drive/adams-faces-ss19/training/fake/mid_9_1110.jpg',\n",
       " 'drive/My Drive/adams-faces-ss19/training/fake/mid_272_1010.jpg',\n",
       " 'drive/My Drive/adams-faces-ss19/training/fake/mid_41_1111.jpg',\n",
       " 'drive/My Drive/adams-faces-ss19/training/fake/mid_290_1100.jpg',\n",
       " 'drive/My Drive/adams-faces-ss19/training/fake/mid_316_1111.jpg',\n",
       " 'drive/My Drive/adams-faces-ss19/training/fake/mid_170_1111.jpg',\n",
       " 'drive/My Drive/adams-faces-ss19/training/fake/mid_291_1100.jpg',\n",
       " 'drive/My Drive/adams-faces-ss19/training/fake/mid_14_1101.jpg',\n",
       " 'drive/My Drive/adams-faces-ss19/training/fake/easy_23_1100.jpg',\n",
       " 'drive/My Drive/adams-faces-ss19/training/fake/mid_195_1111.jpg',\n",
       " 'drive/My Drive/adams-faces-ss19/training/fake/mid_275_1100.jpg',\n",
       " 'drive/My Drive/adams-faces-ss19/training/fake/mid_274_1100.jpg',\n",
       " 'drive/My Drive/adams-faces-ss19/training/fake/hard_20_1111.jpg',\n",
       " 'drive/My Drive/adams-faces-ss19/training/fake/mid_194_1111.jpg',\n",
       " 'drive/My Drive/adams-faces-ss19/training/fake/easy_80_0001.jpg',\n",
       " 'drive/My Drive/adams-faces-ss19/training/fake/mid_8_1111.jpg',\n",
       " 'drive/My Drive/adams-faces-ss19/training/fake/mid_37_1111.jpg',\n",
       " 'drive/My Drive/adams-faces-ss19/training/fake/mid_210_0011.jpg',\n",
       " 'drive/My Drive/adams-faces-ss19/training/fake/mid_166_1100.jpg',\n",
       " 'drive/My Drive/adams-faces-ss19/training/fake/easy_31_0011.jpg',\n",
       " 'drive/My Drive/adams-faces-ss19/training/fake/mid_152_1100.jpg',\n",
       " 'drive/My Drive/adams-faces-ss19/training/fake/easy_87_0110.jpg',\n",
       " 'drive/My Drive/adams-faces-ss19/training/fake/mid_167_1100.jpg',\n",
       " 'drive/My Drive/adams-faces-ss19/training/fake/mid_45_0010.jpg',\n",
       " 'drive/My Drive/adams-faces-ss19/training/fake/mid_91_1111.jpg',\n",
       " 'drive/My Drive/adams-faces-ss19/training/fake/easy_28_1100.jpg',\n",
       " 'drive/My Drive/adams-faces-ss19/training/fake/mid_90_1111.jpg',\n",
       " 'drive/My Drive/adams-faces-ss19/training/fake/easy_96_0011.jpg',\n",
       " 'drive/My Drive/adams-faces-ss19/training/fake/mid_169_0001.jpg',\n",
       " 'drive/My Drive/adams-faces-ss19/training/fake/hard_15_1111.jpg',\n",
       " 'drive/My Drive/adams-faces-ss19/training/fake/mid_110_1100.jpg',\n",
       " 'drive/My Drive/adams-faces-ss19/training/fake/mid_240_1100.jpg',\n",
       " 'drive/My Drive/adams-faces-ss19/training/fake/hard_14_1111.jpg',\n",
       " 'drive/My Drive/adams-faces-ss19/training/fake/easy_101_0010.jpg',\n",
       " 'drive/My Drive/adams-faces-ss19/training/fake/mid_144_1110.jpg',\n",
       " 'drive/My Drive/adams-faces-ss19/training/fake/mid_145_1111.jpg',\n",
       " 'drive/My Drive/adams-faces-ss19/training/fake/mid_322_1111.jpg',\n",
       " 'drive/My Drive/adams-faces-ss19/training/fake/easy_7_1100.jpg',\n",
       " 'drive/My Drive/adams-faces-ss19/training/fake/mid_74_1111.jpg',\n",
       " 'drive/My Drive/adams-faces-ss19/training/fake/mid_248_0111.jpg',\n",
       " 'drive/My Drive/adams-faces-ss19/training/fake/mid_75_1111.jpg',\n",
       " 'drive/My Drive/adams-faces-ss19/training/fake/mid_19_1000.jpg',\n",
       " 'drive/My Drive/adams-faces-ss19/training/fake/mid_262_1111.jpg',\n",
       " 'drive/My Drive/adams-faces-ss19/training/fake/easy_18_0011.jpg',\n",
       " 'drive/My Drive/adams-faces-ss19/training/fake/mid_286_1100.jpg',\n",
       " 'drive/My Drive/adams-faces-ss19/training/fake/easy_45_1010.jpg',\n",
       " 'drive/My Drive/adams-faces-ss19/training/fake/easy_34_1100.jpg',\n",
       " 'drive/My Drive/adams-faces-ss19/training/fake/mid_209_1111.jpg',\n",
       " 'drive/My Drive/adams-faces-ss19/training/fake/mid_2_1101.jpg',\n",
       " 'drive/My Drive/adams-faces-ss19/training/fake/mid_57_1111.jpg',\n",
       " 'drive/My Drive/adams-faces-ss19/training/fake/easy_60_1111.jpg',\n",
       " 'drive/My Drive/adams-faces-ss19/training/fake/easy_6_1110.jpg',\n",
       " 'drive/My Drive/adams-faces-ss19/training/fake/mid_56_1111.jpg',\n",
       " 'drive/My Drive/adams-faces-ss19/training/fake/mid_323_1101.jpg',\n",
       " 'drive/My Drive/adams-faces-ss19/training/fake/mid_241_1111.jpg',\n",
       " 'drive/My Drive/adams-faces-ss19/training/fake/easy_16_1111.jpg',\n",
       " 'drive/My Drive/adams-faces-ss19/training/fake/easy_8_0010.jpg',\n",
       " 'drive/My Drive/adams-faces-ss19/training/fake/mid_159_1111.jpg',\n",
       " 'drive/My Drive/adams-faces-ss19/training/fake/mid_208_1110.jpg',\n",
       " 'drive/My Drive/adams-faces-ss19/training/fake/easy_85_1111.jpg',\n",
       " 'drive/My Drive/adams-faces-ss19/training/fake/mid_3_1100.jpg',\n",
       " 'drive/My Drive/adams-faces-ss19/training/fake/mid_237_1111.jpg',\n",
       " 'drive/My Drive/adams-faces-ss19/training/fake/mid_20_1111.jpg',\n",
       " 'drive/My Drive/adams-faces-ss19/training/fake/mid_236_1111.jpg',\n",
       " 'drive/My Drive/adams-faces-ss19/training/fake/easy_43_1100.jpg',\n",
       " 'drive/My Drive/adams-faces-ss19/training/fake/mid_69_1111.jpg',\n",
       " 'drive/My Drive/adams-faces-ss19/training/fake/mid_68_1111.jpg',\n",
       " 'drive/My Drive/adams-faces-ss19/training/fake/mid_182_1111.jpg',\n",
       " 'drive/My Drive/adams-faces-ss19/training/fake/mid_263_1100.jpg',\n",
       " 'drive/My Drive/adams-faces-ss19/training/fake/mid_183_1111.jpg',\n",
       " 'drive/My Drive/adams-faces-ss19/training/fake/mid_125_1111.jpg',\n",
       " 'drive/My Drive/adams-faces-ss19/training/fake/mid_218_1011.jpg',\n",
       " 'drive/My Drive/adams-faces-ss19/training/fake/mid_134_1010.jpg',\n",
       " 'drive/My Drive/adams-faces-ss19/training/fake/hard_7_1111.jpg',\n",
       " 'drive/My Drive/adams-faces-ss19/training/fake/mid_256_1100.jpg',\n",
       " 'drive/My Drive/adams-faces-ss19/training/fake/mid_115_0011.jpg',\n",
       " 'drive/My Drive/adams-faces-ss19/training/fake/mid_165_0101.jpg',\n",
       " 'drive/My Drive/adams-faces-ss19/training/fake/mid_188_1111.jpg',\n",
       " 'drive/My Drive/adams-faces-ss19/training/fake/mid_136_0001.jpg',\n",
       " 'drive/My Drive/adams-faces-ss19/training/fake/mid_203_1111.jpg',\n",
       " 'drive/My Drive/adams-faces-ss19/training/fake/easy_79_0001.jpg',\n",
       " 'drive/My Drive/adams-faces-ss19/training/fake/mid_269_1100.jpg',\n",
       " 'drive/My Drive/adams-faces-ss19/training/fake/mid_62_1110.jpg',\n",
       " 'drive/My Drive/adams-faces-ss19/training/fake/mid_171_1100.jpg',\n",
       " 'drive/My Drive/adams-faces-ss19/training/fake/mid_15_1111.jpg',\n",
       " 'drive/My Drive/adams-faces-ss19/training/fake/mid_63_1111.jpg',\n",
       " 'drive/My Drive/adams-faces-ss19/training/fake/mid_86_1111.jpg',\n",
       " 'drive/My Drive/adams-faces-ss19/training/fake/mid_87_1111.jpg',\n",
       " 'drive/My Drive/adams-faces-ss19/training/fake/hard_21_1101.jpg',\n",
       " 'drive/My Drive/adams-faces-ss19/training/fake/mid_317_1101.jpg',\n",
       " 'drive/My Drive/adams-faces-ss19/training/fake/mid_202_1110.jpg',\n",
       " 'drive/My Drive/adams-faces-ss19/training/fake/mid_306_1111.jpg',\n",
       " 'drive/My Drive/adams-faces-ss19/training/fake/mid_36_1100.jpg',\n",
       " 'drive/My Drive/adams-faces-ss19/training/fake/mid_221_1100.jpg',\n",
       " 'drive/My Drive/adams-faces-ss19/training/fake/mid_124_1110.jpg',\n",
       " 'drive/My Drive/adams-faces-ss19/training/fake/mid_264_1101.jpg',\n",
       " 'drive/My Drive/adams-faces-ss19/training/fake/hard_6_1110.jpg',\n",
       " 'drive/My Drive/adams-faces-ss19/training/fake/mid_162_0011.jpg',\n",
       " 'drive/My Drive/adams-faces-ss19/training/fake/mid_153_1111.jpg',\n",
       " 'drive/My Drive/adams-faces-ss19/training/fake/mid_185_1110.jpg',\n",
       " 'drive/My Drive/adams-faces-ss19/training/fake/easy_32_1100.jpg',\n",
       " 'drive/My Drive/adams-faces-ss19/training/fake/mid_18_1111.jpg',\n",
       " 'drive/My Drive/adams-faces-ss19/training/fake/mid_191_0111.jpg',\n",
       " 'drive/My Drive/adams-faces-ss19/training/fake/mid_50_1111.jpg',\n",
       " 'drive/My Drive/adams-faces-ss19/training/fake/mid_276_0011.jpg',\n",
       " 'drive/My Drive/adams-faces-ss19/training/fake/mid_225_0111.jpg',\n",
       " 'drive/My Drive/adams-faces-ss19/training/fake/mid_214_1011.jpg',\n",
       " 'drive/My Drive/adams-faces-ss19/training/fake/mid_51_1111.jpg',\n",
       " 'drive/My Drive/adams-faces-ss19/training/fake/easy_57_0010.jpg',\n",
       " 'drive/My Drive/adams-faces-ss19/training/fake/mid_230_1110.jpg',\n",
       " 'drive/My Drive/adams-faces-ss19/training/fake/easy_83_1110.jpg',\n",
       " 'drive/My Drive/adams-faces-ss19/training/fake/easy_1_1110.jpg',\n",
       " 'drive/My Drive/adams-faces-ss19/training/fake/mid_128_1110.jpg',\n",
       " 'drive/My Drive/adams-faces-ss19/training/fake/mid_247_1111.jpg',\n",
       " 'drive/My Drive/adams-faces-ss19/training/fake/mid_27_1111.jpg',\n",
       " 'drive/My Drive/adams-faces-ss19/training/fake/hard_12_1101.jpg',\n",
       " 'drive/My Drive/adams-faces-ss19/training/fake/mid_116_1111.jpg',\n",
       " 'drive/My Drive/adams-faces-ss19/training/fake/mid_142_1100.jpg',\n",
       " 'drive/My Drive/adams-faces-ss19/training/fake/mid_85_0011.jpg',\n",
       " 'drive/My Drive/adams-faces-ss19/training/fake/mid_270_0101.jpg',\n",
       " 'drive/My Drive/adams-faces-ss19/training/fake/mid_279_1111.jpg',\n",
       " 'drive/My Drive/adams-faces-ss19/training/fake/mid_143_1100.jpg',\n",
       " 'drive/My Drive/adams-faces-ss19/training/fake/easy_21_0011.jpg',\n",
       " 'drive/My Drive/adams-faces-ss19/training/fake/easy_11_1111.jpg',\n",
       " 'drive/My Drive/adams-faces-ss19/training/fake/mid_127_0011.jpg',\n",
       " 'drive/My Drive/adams-faces-ss19/training/fake/mid_160_1110.jpg',\n",
       " 'drive/My Drive/adams-faces-ss19/training/fake/mid_117_1111.jpg',\n",
       " 'drive/My Drive/adams-faces-ss19/training/fake/mid_327_0111.jpg',\n",
       " 'drive/My Drive/adams-faces-ss19/training/fake/mid_123_1111.jpg',\n",
       " 'drive/My Drive/adams-faces-ss19/training/fake/easy_71_1100.jpg',\n",
       " 'drive/My Drive/adams-faces-ss19/training/fake/mid_181_0011.jpg',\n",
       " 'drive/My Drive/adams-faces-ss19/training/fake/easy_4_0011.jpg',\n",
       " 'drive/My Drive/adams-faces-ss19/training/fake/mid_80_1111.jpg',\n",
       " 'drive/My Drive/adams-faces-ss19/training/fake/mid_296_1111.jpg',\n",
       " 'drive/My Drive/adams-faces-ss19/training/fake/easy_93_1010.jpg',\n",
       " 'drive/My Drive/adams-faces-ss19/training/fake/mid_78_1101.jpg',\n",
       " 'drive/My Drive/adams-faces-ss19/training/fake/easy_86_0011.jpg',\n",
       " 'drive/My Drive/adams-faces-ss19/training/fake/easy_15_0011.jpg',\n",
       " 'drive/My Drive/adams-faces-ss19/training/fake/mid_204_1111.jpg',\n",
       " 'drive/My Drive/adams-faces-ss19/training/fake/mid_13_1111.jpg',\n",
       " 'drive/My Drive/adams-faces-ss19/training/fake/mid_12_1111.jpg',\n",
       " 'drive/My Drive/adams-faces-ss19/training/fake/mid_283_0111.jpg',\n",
       " 'drive/My Drive/adams-faces-ss19/training/fake/mid_65_1111.jpg',\n",
       " 'drive/My Drive/adams-faces-ss19/training/fake/mid_243_0011.jpg',\n",
       " 'drive/My Drive/adams-faces-ss19/training/fake/mid_164_0011.jpg',\n",
       " 'drive/My Drive/adams-faces-ss19/training/fake/mid_234_0010.jpg',\n",
       " 'drive/My Drive/adams-faces-ss19/training/fake/mid_30_1110.jpg',\n",
       " 'drive/My Drive/adams-faces-ss19/training/fake/hard_18_1111.jpg',\n",
       " 'drive/My Drive/adams-faces-ss19/training/fake/mid_122_1100.jpg',\n",
       " 'drive/My Drive/adams-faces-ss19/training/fake/mid_154_1111.jpg',\n",
       " 'drive/My Drive/adams-faces-ss19/training/fake/easy_41_0001.jpg',\n",
       " 'drive/My Drive/adams-faces-ss19/training/fake/easy_54_1010.jpg',\n",
       " 'drive/My Drive/adams-faces-ss19/training/fake/hard_19_1111.jpg',\n",
       " 'drive/My Drive/adams-faces-ss19/training/fake/mid_298_0001.jpg',\n",
       " 'drive/My Drive/adams-faces-ss19/training/fake/easy_62_0001.jpg',\n",
       " 'drive/My Drive/adams-faces-ss19/training/fake/mid_250_1111.jpg',\n",
       " 'drive/My Drive/adams-faces-ss19/training/fake/easy_37_0010.jpg',\n",
       " 'drive/My Drive/adams-faces-ss19/training/fake/mid_219_1111.jpg',\n",
       " 'drive/My Drive/adams-faces-ss19/training/fake/mid_273_1101.jpg',\n",
       " 'drive/My Drive/adams-faces-ss19/training/fake/mid_176_1111.jpg',\n",
       " 'drive/My Drive/adams-faces-ss19/training/fake/mid_177_1111.jpg',\n",
       " 'drive/My Drive/adams-faces-ss19/training/fake/mid_251_1111.jpg',\n",
       " 'drive/My Drive/adams-faces-ss19/training/fake/mid_46_1111.jpg',\n",
       " 'drive/My Drive/adams-faces-ss19/training/fake/mid_100_1110.jpg',\n",
       " 'drive/My Drive/adams-faces-ss19/training/fake/mid_101_1111.jpg',\n",
       " 'drive/My Drive/adams-faces-ss19/training/fake/mid_79_1111.jpg',\n",
       " 'drive/My Drive/adams-faces-ss19/training/fake/easy_52_1100.jpg',\n",
       " 'drive/My Drive/adams-faces-ss19/training/fake/easy_104_1000.jpg',\n",
       " 'drive/My Drive/adams-faces-ss19/training/fake/mid_155_1100.jpg',\n",
       " 'drive/My Drive/adams-faces-ss19/training/fake/mid_81_1101.jpg',\n",
       " 'drive/My Drive/adams-faces-ss19/training/fake/mid_64_1100.jpg',\n",
       " 'drive/My Drive/adams-faces-ss19/training/fake/hard_27_1111.jpg',\n",
       " 'drive/My Drive/adams-faces-ss19/training/fake/mid_193_1111.jpg',\n",
       " 'drive/My Drive/adams-faces-ss19/training/fake/mid_192_1111.jpg',\n",
       " 'drive/My Drive/adams-faces-ss19/training/fake/mid_47_1110.jpg',\n",
       " 'drive/My Drive/adams-faces-ss19/training/fake/easy_49_1000.jpg',\n",
       " 'drive/My Drive/adams-faces-ss19/training/fake/easy_103_1111.jpg',\n",
       " 'drive/My Drive/adams-faces-ss19/training/fake/mid_227_1111.jpg',\n",
       " 'drive/My Drive/adams-faces-ss19/training/fake/mid_112_0001.jpg',\n",
       " 'drive/My Drive/adams-faces-ss19/training/fake/easy_22_1010.jpg',\n",
       " 'drive/My Drive/adams-faces-ss19/training/fake/mid_212_1111.jpg',\n",
       " 'drive/My Drive/adams-faces-ss19/training/fake/mid_158_1010.jpg',\n",
       " 'drive/My Drive/adams-faces-ss19/training/fake/mid_226_1111.jpg',\n",
       " 'drive/My Drive/adams-faces-ss19/training/fake/mid_31_1111.jpg',\n",
       " 'drive/My Drive/adams-faces-ss19/training/fake/easy_74_0010.jpg',\n",
       " 'drive/My Drive/adams-faces-ss19/training/fake/mid_96_1111.jpg',\n",
       " 'drive/My Drive/adams-faces-ss19/training/fake/mid_213_1111.jpg',\n",
       " 'drive/My Drive/adams-faces-ss19/training/fake/hard_30_1101.jpg',\n",
       " 'drive/My Drive/adams-faces-ss19/training/fake/mid_184_1101.jpg',\n",
       " 'drive/My Drive/adams-faces-ss19/training/fake/mid_281_1111.jpg',\n",
       " 'drive/My Drive/adams-faces-ss19/training/fake/mid_97_1111.jpg',\n",
       " 'drive/My Drive/adams-faces-ss19/training/fake/mid_26_1101.jpg',\n",
       " 'drive/My Drive/adams-faces-ss19/training/fake/mid_278_1101.jpg',\n",
       " 'drive/My Drive/adams-faces-ss19/training/fake/mid_73_1110.jpg',\n",
       " 'drive/My Drive/adams-faces-ss19/training/fake/hard_13_1111.jpg',\n",
       " 'drive/My Drive/adams-faces-ss19/training/fake/mid_280_1111.jpg',\n",
       " 'drive/My Drive/adams-faces-ss19/training/fake/easy_66_1101.jpg',\n",
       " 'drive/My Drive/adams-faces-ss19/training/fake/easy_19_0111.jpg',\n",
       " 'drive/My Drive/adams-faces-ss19/training/fake/mid_253_0101.jpg',\n",
       " 'drive/My Drive/adams-faces-ss19/training/fake/mid_4_1111.jpg',\n",
       " 'drive/My Drive/adams-faces-ss19/training/fake/mid_231_1100.jpg',\n",
       " 'drive/My Drive/adams-faces-ss19/training/fake/mid_265_1111.jpg',\n",
       " 'drive/My Drive/adams-faces-ss19/training/fake/mid_324_1111.jpg',\n",
       " 'drive/My Drive/adams-faces-ss19/training/fake/mid_135_1110.jpg',\n",
       " 'drive/My Drive/adams-faces-ss19/training/fake/easy_50_0110.jpg',\n",
       " 'drive/My Drive/adams-faces-ss19/training/fake/mid_255_0011.jpg',\n",
       " 'drive/My Drive/adams-faces-ss19/training/fake/mid_198_1111.jpg',\n",
       " 'drive/My Drive/adams-faces-ss19/training/fake/mid_295_0111.jpg',\n",
       " 'drive/My Drive/adams-faces-ss19/training/fake/mid_133_1001.jpg',\n",
       " 'drive/My Drive/adams-faces-ss19/training/fake/mid_72_1111.jpg',\n",
       " 'drive/My Drive/adams-faces-ss19/training/fake/mid_307_1101.jpg',\n",
       " 'drive/My Drive/adams-faces-ss19/training/fake/hard_31_0011.jpg',\n",
       " 'drive/My Drive/adams-faces-ss19/training/fake/mid_249_1111.jpg',\n",
       " 'drive/My Drive/adams-faces-ss19/training/fake/easy_27_1000.jpg',\n",
       " 'drive/My Drive/adams-faces-ss19/training/fake/easy_75_1100.jpg',\n",
       " 'drive/My Drive/adams-faces-ss19/training/fake/hard_4_1111.jpg',\n",
       " 'drive/My Drive/adams-faces-ss19/training/fake/hard_5_1111.jpg',\n",
       " 'drive/My Drive/adams-faces-ss19/training/fake/mid_17_1111.jpg',\n",
       " 'drive/My Drive/adams-faces-ss19/training/fake/mid_201_1111.jpg',\n",
       " 'drive/My Drive/adams-faces-ss19/training/fake/easy_58_0011.jpg',\n",
       " 'drive/My Drive/adams-faces-ss19/training/fake/mid_35_1101.jpg',\n",
       " 'drive/My Drive/adams-faces-ss19/training/fake/mid_200_1111.jpg',\n",
       " 'drive/My Drive/adams-faces-ss19/training/fake/mid_301_0101.jpg',\n",
       " 'drive/My Drive/adams-faces-ss19/training/fake/mid_16_1111.jpg',\n",
       " 'drive/My Drive/adams-faces-ss19/training/fake/mid_105_1101.jpg',\n",
       " 'drive/My Drive/adams-faces-ss19/training/fake/easy_56_1110.jpg',\n",
       " 'drive/My Drive/adams-faces-ss19/training/fake/easy_35_0110.jpg',\n",
       " 'drive/My Drive/adams-faces-ss19/training/fake/mid_33_1011.jpg',\n",
       " 'drive/My Drive/adams-faces-ss19/training/fake/mid_309_1111.jpg',\n",
       " 'drive/My Drive/adams-faces-ss19/training/fake/mid_308_1111.jpg',\n",
       " 'drive/My Drive/adams-faces-ss19/training/fake/easy_20_1111.jpg',\n",
       " 'drive/My Drive/adams-faces-ss19/training/fake/mid_99_1100.jpg',\n",
       " 'drive/My Drive/adams-faces-ss19/training/fake/mid_315_1101.jpg',\n",
       " 'drive/My Drive/adams-faces-ss19/training/fake/mid_246_0011.jpg',\n",
       " 'drive/My Drive/adams-faces-ss19/training/fake/mid_196_1100.jpg',\n",
       " 'drive/My Drive/adams-faces-ss19/training/fake/mid_84_1111.jpg',\n",
       " 'drive/My Drive/adams-faces-ss19/training/fake/mid_314_1101.jpg',\n",
       " 'drive/My Drive/adams-faces-ss19/training/fake/mid_61_1111.jpg',\n",
       " 'drive/My Drive/adams-faces-ss19/training/fake/mid_137_1011.jpg',\n",
       " 'drive/My Drive/adams-faces-ss19/training/fake/mid_104_1100.jpg',\n",
       " 'drive/My Drive/adams-faces-ss19/training/fake/mid_126_1110.jpg',\n",
       " 'drive/My Drive/adams-faces-ss19/training/fake/mid_119_1111.jpg',\n",
       " 'drive/My Drive/adams-faces-ss19/training/fake/mid_29_1111.jpg',\n",
       " 'drive/My Drive/adams-faces-ss19/training/fake/easy_59_0010.jpg',\n",
       " 'drive/My Drive/adams-faces-ss19/training/fake/hard_8_1000.jpg',\n",
       " 'drive/My Drive/adams-faces-ss19/training/fake/mid_150_1111.jpg',\n",
       " 'drive/My Drive/adams-faces-ss19/training/fake/mid_28_1111.jpg',\n",
       " 'drive/My Drive/adams-faces-ss19/training/fake/mid_180_1110.jpg',\n",
       " 'drive/My Drive/adams-faces-ss19/training/fake/mid_261_1101.jpg',\n",
       " 'drive/My Drive/adams-faces-ss19/training/fake/easy_88_0011.jpg',\n",
       " 'drive/My Drive/adams-faces-ss19/training/fake/mid_205_0011.jpg',\n",
       " 'drive/My Drive/adams-faces-ss19/training/fake/mid_242_1111.jpg',\n",
       " 'drive/My Drive/adams-faces-ss19/training/fake/mid_297_0010.jpg',\n",
       " 'drive/My Drive/adams-faces-ss19/training/fake/mid_55_1111.jpg',\n",
       " 'drive/My Drive/adams-faces-ss19/training/fake/mid_1_1101.jpg',\n",
       " 'drive/My Drive/adams-faces-ss19/training/fake/mid_54_1111.jpg',\n",
       " 'drive/My Drive/adams-faces-ss19/training/fake/mid_23_1111.jpg',\n",
       " 'drive/My Drive/adams-faces-ss19/training/fake/easy_77_0111.jpg',\n",
       " 'drive/My Drive/adams-faces-ss19/training/fake/easy_14_1111.jpg',\n",
       " 'drive/My Drive/adams-faces-ss19/training/fake/easy_24_0011.jpg',\n",
       " 'drive/My Drive/adams-faces-ss19/training/fake/mid_163_1001.jpg',\n",
       " 'drive/My Drive/adams-faces-ss19/training/fake/easy_63_1110.jpg',\n",
       " 'drive/My Drive/adams-faces-ss19/training/fake/mid_178_1111.jpg',\n",
       " 'drive/My Drive/adams-faces-ss19/training/fake/easy_89_0010.jpg',\n",
       " 'drive/My Drive/adams-faces-ss19/training/fake/easy_94_0001.jpg',\n",
       " 'drive/My Drive/adams-faces-ss19/training/fake/hard_34_1111.jpg',\n",
       " 'drive/My Drive/adams-faces-ss19/training/fake/easy_36_1111.jpg',\n",
       " 'drive/My Drive/adams-faces-ss19/training/fake/mid_299_1100.jpg',\n",
       " 'drive/My Drive/adams-faces-ss19/training/fake/mid_149_0011.jpg',\n",
       " 'drive/My Drive/adams-faces-ss19/training/fake/mid_179_1111.jpg',\n",
       " 'drive/My Drive/adams-faces-ss19/training/fake/mid_148_0001.jpg',\n",
       " 'drive/My Drive/adams-faces-ss19/training/fake/mid_92_1111.jpg',\n",
       " 'drive/My Drive/adams-faces-ss19/training/fake/mid_93_1111.jpg',\n",
       " 'drive/My Drive/adams-faces-ss19/training/fake/mid_303_1100.jpg',\n",
       " 'drive/My Drive/adams-faces-ss19/training/fake/mid_77_1110.jpg',\n",
       " 'drive/My Drive/adams-faces-ss19/training/fake/mid_217_1111.jpg',\n",
       " 'drive/My Drive/adams-faces-ss19/training/fake/mid_302_1100.jpg',\n",
       " 'drive/My Drive/adams-faces-ss19/training/fake/mid_285_1111.jpg',\n",
       " 'drive/My Drive/adams-faces-ss19/training/fake/hard_16_1111.jpg',\n",
       " 'drive/My Drive/adams-faces-ss19/training/fake/mid_131_1111.jpg',\n",
       " 'drive/My Drive/adams-faces-ss19/training/fake/mid_22_1101.jpg',\n",
       " 'drive/My Drive/adams-faces-ss19/training/fake/easy_13_1010.jpg',\n",
       " 'drive/My Drive/adams-faces-ss19/training/fake/mid_130_1111.jpg',\n",
       " 'drive/My Drive/adams-faces-ss19/training/fake/easy_38_0010.jpg',\n",
       " 'drive/My Drive/adams-faces-ss19/training/fake/mid_147_1110.jpg',\n",
       " 'drive/My Drive/adams-faces-ss19/training/fake/mid_321_1110.jpg',\n",
       " 'drive/My Drive/adams-faces-ss19/training/fake/hard_26_0011.jpg',\n",
       " 'drive/My Drive/adams-faces-ss19/training/fake/mid_48_1111.jpg',\n",
       " 'drive/My Drive/adams-faces-ss19/training/fake/mid_49_1111.jpg',\n",
       " 'drive/My Drive/adams-faces-ss19/training/fake/hard_33_1011.jpg',\n",
       " 'drive/My Drive/adams-faces-ss19/training/fake/mid_235_1100.jpg',\n",
       " 'drive/My Drive/adams-faces-ss19/training/fake/mid_320_1111.jpg',\n",
       " 'drive/My Drive/adams-faces-ss19/training/fake/mid_146_1111.jpg',\n",
       " 'drive/My Drive/adams-faces-ss19/training/fake/mid_311_0011.jpg',\n",
       " 'drive/My Drive/adams-faces-ss19/training/fake/easy_39_0011.jpg',\n",
       " 'drive/My Drive/adams-faces-ss19/training/fake/mid_229_1111.jpg',\n",
       " 'drive/My Drive/adams-faces-ss19/training/fake/easy_30_1001.jpg',\n",
       " 'drive/My Drive/adams-faces-ss19/training/fake/mid_228_1111.jpg',\n",
       " 'drive/My Drive/adams-faces-ss19/training/fake/easy_53_0001.jpg',\n",
       " 'drive/My Drive/adams-faces-ss19/training/fake/easy_40_1111.jpg',\n",
       " 'drive/My Drive/adams-faces-ss19/training/fake/easy_70_0011.jpg',\n",
       " 'drive/My Drive/adams-faces-ss19/training/fake/easy_5_1100.jpg',\n",
       " 'drive/My Drive/adams-faces-ss19/training/fake/hard_28_1111.jpg',\n",
       " 'drive/My Drive/adams-faces-ss19/training/fake/hard_29_1111.jpg',\n",
       " 'drive/My Drive/adams-faces-ss19/training/fake/mid_113_1100.jpg',\n",
       " 'drive/My Drive/adams-faces-ss19/training/fake/mid_260_1111.jpg',\n",
       " 'drive/My Drive/adams-faces-ss19/training/fake/mid_76_1111.jpg',\n",
       " 'drive/My Drive/adams-faces-ss19/training/fake/mid_284_1110.jpg',\n",
       " 'drive/My Drive/adams-faces-ss19/training/fake/mid_254_1111.jpg',\n",
       " 'drive/My Drive/adams-faces-ss19/training/fake/mid_43_1111.jpg',\n",
       " 'drive/My Drive/adams-faces-ss19/training/fake/mid_42_1111.jpg',\n",
       " 'drive/My Drive/adams-faces-ss19/training/fake/mid_199_0011.jpg',\n",
       " 'drive/My Drive/adams-faces-ss19/training/fake/easy_9_1010.jpg',\n",
       " 'drive/My Drive/adams-faces-ss19/training/fake/easy_33_0010.jpg',\n",
       " 'drive/My Drive/adams-faces-ss19/training/fake/mid_98_1111.jpg',\n",
       " 'drive/My Drive/adams-faces-ss19/training/fake/mid_222_1110.jpg',\n",
       " 'drive/My Drive/adams-faces-ss19/training/fake/easy_44_0011.jpg',\n",
       " 'drive/My Drive/adams-faces-ss19/training/fake/mid_5_0011.jpg',\n",
       " 'drive/My Drive/adams-faces-ss19/training/fake/easy_68_1100.jpg',\n",
       " 'drive/My Drive/adams-faces-ss19/training/fake/hard_23_1110.jpg',\n",
       " 'drive/My Drive/adams-faces-ss19/training/fake/mid_197_1110.jpg',\n",
       " 'drive/My Drive/adams-faces-ss19/training/fake/mid_325_0011.jpg',\n",
       " 'drive/My Drive/adams-faces-ss19/training/fake/mid_60_1101.jpg',\n",
       " 'drive/My Drive/adams-faces-ss19/training/fake/mid_173_1110.jpg',\n",
       " 'drive/My Drive/adams-faces-ss19/training/fake/mid_293_1101.jpg',\n",
       " 'drive/My Drive/adams-faces-ss19/training/fake/mid_172_1111.jpg',\n",
       " 'drive/My Drive/adams-faces-ss19/training/fake/easy_82_0001.jpg',\n",
       " 'drive/My Drive/adams-faces-ss19/training/fake/mid_300_0111.jpg',\n",
       " 'drive/My Drive/adams-faces-ss19/training/fake/mid_239_1011.jpg',\n",
       " 'drive/My Drive/adams-faces-ss19/training/fake/mid_277_1100.jpg',\n",
       " 'drive/My Drive/adams-faces-ss19/training/fake/hard_22_1111.jpg',\n",
       " 'drive/My Drive/adams-faces-ss19/training/fake/easy_10_0001.jpg',\n",
       " 'drive/My Drive/adams-faces-ss19/training/fake/mid_223_1111.jpg',\n",
       " 'drive/My Drive/adams-faces-ss19/training/fake/mid_34_1111.jpg',\n",
       " 'drive/My Drive/adams-faces-ss19/training/fake/easy_90_1111.jpg',\n",
       " 'drive/My Drive/adams-faces-ss19/training/fake/mid_151_1100.jpg',\n",
       " 'drive/My Drive/adams-faces-ss19/training/fake/easy_61_0111.jpg',\n",
       " 'drive/My Drive/adams-faces-ss19/training/fake/easy_92_0011.jpg',\n",
       " 'drive/My Drive/adams-faces-ss19/training/fake/easy_25_0110.jpg',\n",
       " 'drive/My Drive/adams-faces-ss19/training/fake/mid_220_0011.jpg',\n",
       " 'drive/My Drive/adams-faces-ss19/training/fake/easy_99_0101.jpg',\n",
       " 'drive/My Drive/adams-faces-ss19/training/fake/mid_108_1110.jpg',\n",
       " 'drive/My Drive/adams-faces-ss19/training/fake/mid_318_1111.jpg',\n",
       " 'drive/My Drive/adams-faces-ss19/training/fake/easy_47_1110.jpg',\n",
       " 'drive/My Drive/adams-faces-ss19/training/fake/mid_319_1111.jpg',\n",
       " 'drive/My Drive/adams-faces-ss19/training/fake/mid_94_1111.jpg',\n",
       " 'drive/My Drive/adams-faces-ss19/training/fake/mid_245_1100.jpg',\n",
       " 'drive/My Drive/adams-faces-ss19/training/fake/hard_10_1111.jpg',\n",
       " 'drive/My Drive/adams-faces-ss19/training/fake/mid_187_1101.jpg',\n",
       " 'drive/My Drive/adams-faces-ss19/training/fake/mid_6_1111.jpg',\n",
       " 'drive/My Drive/adams-faces-ss19/training/fake/mid_53_1100.jpg',\n",
       " 'drive/My Drive/adams-faces-ss19/training/fake/mid_141_1110.jpg',\n",
       " 'drive/My Drive/adams-faces-ss19/training/fake/easy_48_0011.jpg',\n",
       " 'drive/My Drive/adams-faces-ss19/training/fake/easy_78_1111.jpg',\n",
       " 'drive/My Drive/adams-faces-ss19/training/fake/mid_107_0010.jpg',\n",
       " 'drive/My Drive/adams-faces-ss19/training/fake/easy_3_1100.jpg',\n",
       " 'drive/My Drive/adams-faces-ss19/training/fake/mid_39_1111.jpg',\n",
       " 'drive/My Drive/adams-faces-ss19/training/fake/mid_70_1111.jpg',\n",
       " 'drive/My Drive/adams-faces-ss19/training/fake/mid_38_1111.jpg',\n",
       " 'drive/My Drive/adams-faces-ss19/training/fake/easy_102_0101.jpg',\n",
       " 'drive/My Drive/adams-faces-ss19/training/fake/easy_95_0101.jpg',\n",
       " 'drive/My Drive/adams-faces-ss19/training/fake/mid_268_0010.jpg',\n",
       " 'drive/My Drive/adams-faces-ss19/training/fake/mid_258_1110.jpg',\n",
       " 'drive/My Drive/adams-faces-ss19/training/fake/mid_140_1111.jpg',\n",
       " 'drive/My Drive/adams-faces-ss19/training/fake/mid_71_1111.jpg',\n",
       " 'drive/My Drive/adams-faces-ss19/training/fake/mid_326_1111.jpg',\n",
       " 'drive/My Drive/adams-faces-ss19/training/fake/mid_305_1101.jpg',\n",
       " 'drive/My Drive/adams-faces-ss19/training/fake/mid_267_1111.jpg',\n",
       " 'drive/My Drive/adams-faces-ss19/training/fake/mid_186_1100.jpg',\n",
       " 'drive/My Drive/adams-faces-ss19/training/fake/mid_174_1111.jpg',\n",
       " 'drive/My Drive/adams-faces-ss19/training/fake/mid_138_0011.jpg',\n",
       " 'drive/My Drive/adams-faces-ss19/training/fake/mid_109_1111.jpg',\n",
       " 'drive/My Drive/adams-faces-ss19/training/fake/easy_72_1111.jpg',\n",
       " 'drive/My Drive/adams-faces-ss19/training/fake/mid_312_1111.jpg',\n",
       " 'drive/My Drive/adams-faces-ss19/training/fake/mid_120_1100.jpg',\n",
       " 'drive/My Drive/adams-faces-ss19/training/fake/mid_44_1111.jpg',\n",
       " 'drive/My Drive/adams-faces-ss19/training/fake/mid_58_1100.jpg',\n",
       " 'drive/My Drive/adams-faces-ss19/training/fake/mid_175_1111.jpg',\n",
       " 'drive/My Drive/adams-faces-ss19/training/fake/easy_26_1100.jpg',\n",
       " 'drive/My Drive/adams-faces-ss19/training/fake/easy_69_1011.jpg',\n",
       " 'drive/My Drive/adams-faces-ss19/training/fake/mid_11_1100.jpg',\n",
       " 'drive/My Drive/adams-faces-ss19/training/fake/mid_161_0110.jpg',\n",
       " 'drive/My Drive/adams-faces-ss19/training/fake/mid_103_1111.jpg',\n",
       " 'drive/My Drive/adams-faces-ss19/training/fake/mid_66_1100.jpg',\n",
       " 'drive/My Drive/adams-faces-ss19/training/fake/mid_32_1111.jpg',\n",
       " 'drive/My Drive/adams-faces-ss19/training/fake/hard_25_1111.jpg',\n",
       " 'drive/My Drive/adams-faces-ss19/training/fake/mid_190_1111.jpg',\n",
       " 'drive/My Drive/adams-faces-ss19/training/fake/easy_91_1000.jpg',\n",
       " 'drive/My Drive/adams-faces-ss19/training/fake/easy_73_1110.jpg',\n",
       " 'drive/My Drive/adams-faces-ss19/training/fake/mid_224_1111.jpg',\n",
       " 'drive/My Drive/adams-faces-ss19/training/fake/mid_111_0001.jpg',\n",
       " 'drive/My Drive/adams-faces-ss19/training/fake/easy_100_1111.jpg',\n",
       " 'drive/My Drive/adams-faces-ss19/training/fake/mid_215_0011.jpg',\n",
       " 'drive/My Drive/adams-faces-ss19/training/fake/easy_97_1111.jpg',\n",
       " 'drive/My Drive/adams-faces-ss19/training/fake/mid_82_1111.jpg',\n",
       " 'drive/My Drive/adams-faces-ss19/training/fake/hard_3_1111.jpg',\n",
       " 'drive/My Drive/adams-faces-ss19/training/fake/mid_292_1000.jpg',\n",
       " 'drive/My Drive/adams-faces-ss19/training/fake/mid_59_1111.jpg',\n",
       " 'drive/My Drive/adams-faces-ss19/training/fake/mid_287_0001.jpg',\n",
       " 'drive/My Drive/adams-faces-ss19/training/fake/mid_83_1111.jpg',\n",
       " 'drive/My Drive/adams-faces-ss19/training/fake/easy_67_0101.jpg',\n",
       " 'drive/My Drive/adams-faces-ss19/training/fake/mid_129_0101.jpg',\n",
       " 'drive/My Drive/adams-faces-ss19/training/fake/easy_17_0011.jpg',\n",
       " 'drive/My Drive/adams-faces-ss19/training/fake/mid_21_0011.jpg',\n",
       " 'drive/My Drive/adams-faces-ss19/training/fake/mid_168_1111.jpg',\n",
       " 'drive/My Drive/adams-faces-ss19/training/fake/mid_207_1111.jpg',\n",
       " 'drive/My Drive/adams-faces-ss19/training/fake/mid_132_0001.jpg',\n",
       " 'drive/My Drive/adams-faces-ss19/training/fake/mid_10_1111.jpg',\n",
       " 'drive/My Drive/adams-faces-ss19/training/fake/mid_206_1111.jpg',\n",
       " 'drive/My Drive/adams-faces-ss19/training/fake/easy_51_1110.jpg',\n",
       " 'drive/My Drive/adams-faces-ss19/training/fake/easy_84_0011.jpg',\n",
       " 'drive/My Drive/adams-faces-ss19/training/fake/mid_294_1110.jpg',\n",
       " 'drive/My Drive/adams-faces-ss19/training/fake/mid_102_1100.jpg',\n",
       " 'drive/My Drive/adams-faces-ss19/training/fake/mid_67_1111.jpg',\n",
       " 'drive/My Drive/adams-faces-ss19/training/fake/easy_98_0001.jpg',\n",
       " 'drive/My Drive/adams-faces-ss19/training/fake/hard_24_1100.jpg',\n",
       " 'drive/My Drive/adams-faces-ss19/training/fake/mid_271_1111.jpg',\n",
       " 'drive/My Drive/adams-faces-ss19/training/fake/mid_313_1101.jpg',\n",
       " 'drive/My Drive/adams-faces-ss19/training/fake/mid_288_1101.jpg',\n",
       " 'drive/My Drive/adams-faces-ss19/training/fake/mid_289_1101.jpg',\n",
       " 'drive/My Drive/adams-faces-ss19/training/fake/mid_238_1111.jpg',\n",
       " 'drive/My Drive/adams-faces-ss19/training/fake/mid_118_1000.jpg',\n",
       " 'drive/My Drive/adams-faces-ss19/training/fake/mid_252_1101.jpg',\n",
       " 'drive/My Drive/adams-faces-ss19/training/fake/mid_157_1111.jpg',\n",
       " 'drive/My Drive/adams-faces-ss19/training/fake/mid_211_1100.jpg',\n",
       " 'drive/My Drive/adams-faces-ss19/training/fake/easy_29_0011.jpg',\n",
       " 'drive/My Drive/adams-faces-ss19/training/fake/mid_114_1110.jpg',\n",
       " 'drive/My Drive/adams-faces-ss19/training/fake/mid_156_1111.jpg',\n",
       " 'drive/My Drive/adams-faces-ss19/training/fake/mid_121_1110.jpg',\n",
       " 'drive/My Drive/adams-faces-ss19/training/fake/easy_42_0001.jpg',\n",
       " 'drive/My Drive/adams-faces-ss19/training/fake/mid_89_1111.jpg',\n",
       " 'drive/My Drive/adams-faces-ss19/training/fake/mid_282_1100.jpg',\n",
       " 'drive/My Drive/adams-faces-ss19/training/fake/mid_304_1111.jpg',\n",
       " 'drive/My Drive/adams-faces-ss19/training/fake/mid_95_1100.jpg',\n",
       " 'drive/My Drive/adams-faces-ss19/training/fake/mid_266_1101.jpg',\n",
       " 'drive/My Drive/adams-faces-ss19/training/fake/easy_65_1111.jpg',\n",
       " 'drive/My Drive/adams-faces-ss19/training/fake/mid_52_1111.jpg',\n",
       " 'drive/My Drive/adams-faces-ss19/training/fake/hard_11_1100.jpg',\n",
       " 'drive/My Drive/adams-faces-ss19/training/fake/mid_189_0011.jpg',\n",
       " 'drive/My Drive/adams-faces-ss19/training/fake/mid_216_1011.jpg',\n",
       " 'drive/My Drive/adams-faces-ss19/training/fake/hard_9_1111.jpg',\n",
       " 'drive/My Drive/adams-faces-ss19/training/fake/easy_12_1110.jpg',\n",
       " 'drive/My Drive/adams-faces-ss19/training/fake/easy_64_1111.jpg',\n",
       " 'drive/My Drive/adams-faces-ss19/training/fake/easy_55_0011.jpg',\n",
       " 'drive/My Drive/adams-faces-ss19/training/fake/mid_24_1111.jpg',\n",
       " 'drive/My Drive/adams-faces-ss19/training/fake/mid_25_1111.jpg',\n",
       " 'drive/My Drive/adams-faces-ss19/training/fake/mid_259_1101.jpg',\n",
       " 'drive/My Drive/adams-faces-ss19/training/fake/mid_233_1111.jpg',\n",
       " 'drive/My Drive/adams-faces-ss19/training/fake/mid_106_0001.jpg',\n",
       " 'drive/My Drive/adams-faces-ss19/training/fake/mid_232_1111.jpg',\n",
       " 'drive/My Drive/adams-faces-ss19/training/fake/mid_244_1110.jpg',\n",
       " 'drive/My Drive/adams-faces-ss19/training/fake/easy_81_1111.jpg',\n",
       " 'drive/My Drive/adams-faces-ss19/training/fake/mid_7_1100.jpg',\n",
       " 'drive/My Drive/adams-faces-ss19/training/fake/easy_2_1111.jpg',\n",
       " 'drive/My Drive/adams-faces-ss19/training/fake/hard_32_1111.jpg',\n",
       " 'drive/My Drive/adams-faces-ss19/training/fake/mid_88_1110.jpg',\n",
       " 'drive/My Drive/adams-faces-ss19/training/fake/easy_46_1100.jpg',\n",
       " 'drive/My Drive/adams-faces-ss19/training/fake/hard_17_1010.jpg',\n",
       " 'drive/My Drive/adams-faces-ss19/training/fake/mid_310_0111.jpg',\n",
       " 'drive/My Drive/adams-faces-ss19/training/real/real_00251.jpg',\n",
       " 'drive/My Drive/adams-faces-ss19/training/real/real_00047.jpg',\n",
       " 'drive/My Drive/adams-faces-ss19/training/real/real_00523.jpg',\n",
       " 'drive/My Drive/adams-faces-ss19/training/real/real_00537.jpg',\n",
       " 'drive/My Drive/adams-faces-ss19/training/real/real_00279.jpg',\n",
       " 'drive/My Drive/adams-faces-ss19/training/real/real_00245.jpg',\n",
       " 'drive/My Drive/adams-faces-ss19/training/real/real_00721.jpg',\n",
       " 'drive/My Drive/adams-faces-ss19/training/real/real_00286.jpg',\n",
       " 'drive/My Drive/adams-faces-ss19/training/real/real_00292.jpg',\n",
       " 'drive/My Drive/adams-faces-ss19/training/real/real_00735.jpg',\n",
       " 'drive/My Drive/adams-faces-ss19/training/real/real_00053.jpg',\n",
       " 'drive/My Drive/adams-faces-ss19/training/real/real_00709.jpg',\n",
       " 'drive/My Drive/adams-faces-ss19/training/real/real_00090.jpg',\n",
       " 'drive/My Drive/adams-faces-ss19/training/real/real_00866.jpg',\n",
       " 'drive/My Drive/adams-faces-ss19/training/real/real_00084.jpg',\n",
       " 'drive/My Drive/adams-faces-ss19/training/real/real_00641.jpg',\n",
       " 'drive/My Drive/adams-faces-ss19/training/real/real_00127.jpg',\n",
       " 'drive/My Drive/adams-faces-ss19/training/real/real_00872.jpg',\n",
       " 'drive/My Drive/adams-faces-ss19/training/real/real_00133.jpg',\n",
       " 'drive/My Drive/adams-faces-ss19/training/real/real_00669.jpg',\n",
       " 'drive/My Drive/adams-faces-ss19/training/real/real_00655.jpg',\n",
       " 'drive/My Drive/adams-faces-ss19/training/real/real_00325.jpg',\n",
       " 'drive/My Drive/adams-faces-ss19/training/real/real_00682.jpg',\n",
       " 'drive/My Drive/adams-faces-ss19/training/real/real_00696.jpg',\n",
       " 'drive/My Drive/adams-faces-ss19/training/real/real_00443.jpg',\n",
       " 'drive/My Drive/adams-faces-ss19/training/real/real_00457.jpg',\n",
       " 'drive/My Drive/adams-faces-ss19/training/real/real_00331.jpg',\n",
       " 'drive/My Drive/adams-faces-ss19/training/real/real_00330.jpg',\n",
       " 'drive/My Drive/adams-faces-ss19/training/real/real_00480.jpg',\n",
       " 'drive/My Drive/adams-faces-ss19/training/real/real_00319.jpg',\n",
       " 'drive/My Drive/adams-faces-ss19/training/real/real_00495.jpg',\n",
       " 'drive/My Drive/adams-faces-ss19/training/real/real_00494.jpg',\n",
       " 'drive/My Drive/adams-faces-ss19/training/real/real_00481.jpg',\n",
       " 'drive/My Drive/adams-faces-ss19/training/real/real_00324.jpg',\n",
       " 'drive/My Drive/adams-faces-ss19/training/real/real_00456.jpg',\n",
       " 'drive/My Drive/adams-faces-ss19/training/real/real_00318.jpg',\n",
       " 'drive/My Drive/adams-faces-ss19/training/real/real_00442.jpg',\n",
       " 'drive/My Drive/adams-faces-ss19/training/real/real_00085.jpg',\n",
       " 'drive/My Drive/adams-faces-ss19/training/real/real_00873.jpg',\n",
       " 'drive/My Drive/adams-faces-ss19/training/real/real_00867.jpg',\n",
       " 'drive/My Drive/adams-faces-ss19/training/real/real_00697.jpg',\n",
       " 'drive/My Drive/adams-faces-ss19/training/real/real_00091.jpg',\n",
       " 'drive/My Drive/adams-faces-ss19/training/real/real_00668.jpg',\n",
       " 'drive/My Drive/adams-faces-ss19/training/real/real_00683.jpg',\n",
       " 'drive/My Drive/adams-faces-ss19/training/real/real_00654.jpg',\n",
       " 'drive/My Drive/adams-faces-ss19/training/real/real_00132.jpg',\n",
       " 'drive/My Drive/adams-faces-ss19/training/real/real_00708.jpg',\n",
       " 'drive/My Drive/adams-faces-ss19/training/real/real_00640.jpg',\n",
       " 'drive/My Drive/adams-faces-ss19/training/real/real_00126.jpg',\n",
       " 'drive/My Drive/adams-faces-ss19/training/real/real_00046.jpg',\n",
       " 'drive/My Drive/adams-faces-ss19/training/real/real_00720.jpg',\n",
       " 'drive/My Drive/adams-faces-ss19/training/real/real_00734.jpg',\n",
       " 'drive/My Drive/adams-faces-ss19/training/real/real_00536.jpg',\n",
       " 'drive/My Drive/adams-faces-ss19/training/real/real_00287.jpg',\n",
       " 'drive/My Drive/adams-faces-ss19/training/real/real_00293.jpg',\n",
       " 'drive/My Drive/adams-faces-ss19/training/real/real_00052.jpg',\n",
       " 'drive/My Drive/adams-faces-ss19/training/real/real_00246.jpg',\n",
       " 'drive/My Drive/adams-faces-ss19/training/real/real_00522.jpg',\n",
       " 'drive/My Drive/adams-faces-ss19/training/real/real_00278.jpg',\n",
       " 'drive/My Drive/adams-faces-ss19/training/real/real_00244.jpg',\n",
       " 'drive/My Drive/adams-faces-ss19/training/real/real_00250.jpg',\n",
       " 'drive/My Drive/adams-faces-ss19/training/real/real_00520.jpg',\n",
       " 'drive/My Drive/adams-faces-ss19/training/real/real_00534.jpg',\n",
       " 'drive/My Drive/adams-faces-ss19/training/real/real_00078.jpg',\n",
       " 'drive/My Drive/adams-faces-ss19/training/real/real_00252.jpg',\n",
       " 'drive/My Drive/adams-faces-ss19/training/real/real_00508.jpg',\n",
       " 'drive/My Drive/adams-faces-ss19/training/real/real_00285.jpg',\n",
       " 'drive/My Drive/adams-faces-ss19/training/real/real_00087.jpg',\n",
       " 'drive/My Drive/adams-faces-ss19/training/real/real_00722.jpg',\n",
       " 'drive/My Drive/adams-faces-ss19/training/real/real_00291.jpg',\n",
       " 'drive/My Drive/adams-faces-ss19/training/real/real_00044.jpg',\n",
       " 'drive/My Drive/adams-faces-ss19/training/real/real_00050.jpg',\n",
       " 'drive/My Drive/adams-faces-ss19/training/real/real_00736.jpg',\n",
       " 'drive/My Drive/adams-faces-ss19/training/real/real_00093.jpg',\n",
       " 'drive/My Drive/adams-faces-ss19/training/real/real_00656.jpg',\n",
       " 'drive/My Drive/adams-faces-ss19/training/real/real_00865.jpg',\n",
       " 'drive/My Drive/adams-faces-ss19/training/real/real_00124.jpg',\n",
       " 'drive/My Drive/adams-faces-ss19/training/real/real_00130.jpg',\n",
       " 'drive/My Drive/adams-faces-ss19/training/real/real_00642.jpg',\n",
       " 'drive/My Drive/adams-faces-ss19/training/real/real_00332.jpg',\n",
       " 'drive/My Drive/adams-faces-ss19/training/real/real_00118.jpg',\n",
       " 'drive/My Drive/adams-faces-ss19/training/real/real_00695.jpg',\n",
       " 'drive/My Drive/adams-faces-ss19/training/real/real_00859.jpg',\n",
       " 'drive/My Drive/adams-faces-ss19/training/real/real_00454.jpg',\n",
       " 'drive/My Drive/adams-faces-ss19/training/real/real_00681.jpg',\n",
       " 'drive/My Drive/adams-faces-ss19/training/real/real_00871.jpg',\n",
       " 'drive/My Drive/adams-faces-ss19/training/real/real_00440.jpg',\n",
       " 'drive/My Drive/adams-faces-ss19/training/real/real_00326.jpg',\n",
       " 'drive/My Drive/adams-faces-ss19/training/real/real_00468.jpg',\n",
       " 'drive/My Drive/adams-faces-ss19/training/real/real_00497.jpg',\n",
       " 'drive/My Drive/adams-faces-ss19/training/real/real_00333.jpg',\n",
       " 'drive/My Drive/adams-faces-ss19/training/real/real_00483.jpg',\n",
       " 'drive/My Drive/adams-faces-ss19/training/real/real_00482.jpg',\n",
       " 'drive/My Drive/adams-faces-ss19/training/real/real_00496.jpg',\n",
       " 'drive/My Drive/adams-faces-ss19/training/real/real_00469.jpg',\n",
       " 'drive/My Drive/adams-faces-ss19/training/real/real_00455.jpg',\n",
       " 'drive/My Drive/adams-faces-ss19/training/real/real_00441.jpg',\n",
       " 'drive/My Drive/adams-faces-ss19/training/real/real_00327.jpg',\n",
       " 'drive/My Drive/adams-faces-ss19/training/real/real_00864.jpg',\n",
       " 'drive/My Drive/adams-faces-ss19/training/real/real_00870.jpg',\n",
       " 'drive/My Drive/adams-faces-ss19/training/real/real_00680.jpg',\n",
       " 'drive/My Drive/adams-faces-ss19/training/real/real_00858.jpg',\n",
       " 'drive/My Drive/adams-faces-ss19/training/real/real_00694.jpg',\n",
       " 'drive/My Drive/adams-faces-ss19/training/real/real_00092.jpg',\n",
       " 'drive/My Drive/adams-faces-ss19/training/real/real_00643.jpg',\n",
       " 'drive/My Drive/adams-faces-ss19/training/real/real_00125.jpg',\n",
       " 'drive/My Drive/adams-faces-ss19/training/real/real_00657.jpg',\n",
       " 'drive/My Drive/adams-faces-ss19/training/real/real_00119.jpg',\n",
       " 'drive/My Drive/adams-faces-ss19/training/real/real_00086.jpg',\n",
       " 'drive/My Drive/adams-faces-ss19/training/real/real_00131.jpg',\n",
       " 'drive/My Drive/adams-faces-ss19/training/real/real_00079.jpg',\n",
       " 'drive/My Drive/adams-faces-ss19/training/real/real_00051.jpg',\n",
       " 'drive/My Drive/adams-faces-ss19/training/real/real_00737.jpg',\n",
       " 'drive/My Drive/adams-faces-ss19/training/real/real_00247.jpg',\n",
       " 'drive/My Drive/adams-faces-ss19/training/real/real_00045.jpg',\n",
       " 'drive/My Drive/adams-faces-ss19/training/real/real_00723.jpg',\n",
       " 'drive/My Drive/adams-faces-ss19/training/real/real_00284.jpg',\n",
       " 'drive/My Drive/adams-faces-ss19/training/real/real_00290.jpg',\n",
       " 'drive/My Drive/adams-faces-ss19/training/real/real_00509.jpg',\n",
       " 'drive/My Drive/adams-faces-ss19/training/real/real_00521.jpg',\n",
       " 'drive/My Drive/adams-faces-ss19/training/real/real_00535.jpg',\n",
       " 'drive/My Drive/adams-faces-ss19/training/real/real_00253.jpg',\n",
       " 'drive/My Drive/adams-faces-ss19/training/real/real_00519.jpg',\n",
       " 'drive/My Drive/adams-faces-ss19/training/real/real_00525.jpg',\n",
       " 'drive/My Drive/adams-faces-ss19/training/real/real_00733.jpg',\n",
       " 'drive/My Drive/adams-faces-ss19/training/real/real_00243.jpg',\n",
       " 'drive/My Drive/adams-faces-ss19/training/real/real_00257.jpg',\n",
       " 'drive/My Drive/adams-faces-ss19/training/real/real_00531.jpg',\n",
       " 'drive/My Drive/adams-faces-ss19/training/real/real_00280.jpg',\n",
       " 'drive/My Drive/adams-faces-ss19/training/real/real_00055.jpg',\n",
       " 'drive/My Drive/adams-faces-ss19/training/real/real_00069.jpg',\n",
       " 'drive/My Drive/adams-faces-ss19/training/real/real_00294.jpg',\n",
       " 'drive/My Drive/adams-faces-ss19/training/real/real_00082.jpg',\n",
       " 'drive/My Drive/adams-faces-ss19/training/real/real_00727.jpg',\n",
       " 'drive/My Drive/adams-faces-ss19/training/real/real_00041.jpg',\n",
       " 'drive/My Drive/adams-faces-ss19/training/real/real_00096.jpg',\n",
       " 'drive/My Drive/adams-faces-ss19/training/real/real_00109.jpg',\n",
       " 'drive/My Drive/adams-faces-ss19/training/real/real_00135.jpg',\n",
       " 'drive/My Drive/adams-faces-ss19/training/real/real_00653.jpg',\n",
       " 'drive/My Drive/adams-faces-ss19/training/real/real_00647.jpg',\n",
       " 'drive/My Drive/adams-faces-ss19/training/real/real_00684.jpg',\n",
       " 'drive/My Drive/adams-faces-ss19/training/real/real_00121.jpg',\n",
       " 'drive/My Drive/adams-faces-ss19/training/real/real_00874.jpg',\n",
       " 'drive/My Drive/adams-faces-ss19/training/real/real_00860.jpg',\n",
       " 'drive/My Drive/adams-faces-ss19/training/real/real_00479.jpg',\n",
       " 'drive/My Drive/adams-faces-ss19/training/real/real_00690.jpg',\n",
       " 'drive/My Drive/adams-faces-ss19/training/real/real_00848.jpg',\n",
       " 'drive/My Drive/adams-faces-ss19/training/real/real_00451.jpg',\n",
       " 'drive/My Drive/adams-faces-ss19/training/real/real_00337.jpg',\n",
       " 'drive/My Drive/adams-faces-ss19/training/real/real_00450.jpg',\n",
       " 'drive/My Drive/adams-faces-ss19/training/real/real_00445.jpg',\n",
       " 'drive/My Drive/adams-faces-ss19/training/real/real_00323.jpg',\n",
       " 'drive/My Drive/adams-faces-ss19/training/real/real_00492.jpg',\n",
       " 'drive/My Drive/adams-faces-ss19/training/real/real_00486.jpg',\n",
       " 'drive/My Drive/adams-faces-ss19/training/real/real_00336.jpg',\n",
       " 'drive/My Drive/adams-faces-ss19/training/real/real_00487.jpg',\n",
       " 'drive/My Drive/adams-faces-ss19/training/real/real_00322.jpg',\n",
       " 'drive/My Drive/adams-faces-ss19/training/real/real_00493.jpg',\n",
       " 'drive/My Drive/adams-faces-ss19/training/real/real_00478.jpg',\n",
       " 'drive/My Drive/adams-faces-ss19/training/real/real_00444.jpg',\n",
       " 'drive/My Drive/adams-faces-ss19/training/real/real_00685.jpg',\n",
       " 'drive/My Drive/adams-faces-ss19/training/real/real_00691.jpg',\n",
       " 'drive/My Drive/adams-faces-ss19/training/real/real_00861.jpg',\n",
       " 'drive/My Drive/adams-faces-ss19/training/real/real_00849.jpg',\n",
       " 'drive/My Drive/adams-faces-ss19/training/real/real_00097.jpg',\n",
       " 'drive/My Drive/adams-faces-ss19/training/real/real_00875.jpg',\n",
       " 'drive/My Drive/adams-faces-ss19/training/real/real_00646.jpg',\n",
       " 'drive/My Drive/adams-faces-ss19/training/real/real_00134.jpg',\n",
       " 'drive/My Drive/adams-faces-ss19/training/real/real_00120.jpg',\n",
       " 'drive/My Drive/adams-faces-ss19/training/real/real_00083.jpg',\n",
       " 'drive/My Drive/adams-faces-ss19/training/real/real_00652.jpg',\n",
       " 'drive/My Drive/adams-faces-ss19/training/real/real_00108.jpg',\n",
       " 'drive/My Drive/adams-faces-ss19/training/real/real_00732.jpg',\n",
       " 'drive/My Drive/adams-faces-ss19/training/real/real_00054.jpg',\n",
       " 'drive/My Drive/adams-faces-ss19/training/real/real_00040.jpg',\n",
       " 'drive/My Drive/adams-faces-ss19/training/real/real_00726.jpg',\n",
       " 'drive/My Drive/adams-faces-ss19/training/real/real_00242.jpg',\n",
       " 'drive/My Drive/adams-faces-ss19/training/real/real_00068.jpg',\n",
       " 'drive/My Drive/adams-faces-ss19/training/real/real_00295.jpg',\n",
       " 'drive/My Drive/adams-faces-ss19/training/real/real_00256.jpg',\n",
       " 'drive/My Drive/adams-faces-ss19/training/real/real_00281.jpg',\n",
       " 'drive/My Drive/adams-faces-ss19/training/real/real_00518.jpg',\n",
       " 'drive/My Drive/adams-faces-ss19/training/real/real_00530.jpg',\n",
       " 'drive/My Drive/adams-faces-ss19/training/real/real_00524.jpg',\n",
       " 'drive/My Drive/adams-faces-ss19/training/real/real_00268.jpg',\n",
       " 'drive/My Drive/adams-faces-ss19/training/real/real_00532.jpg',\n",
       " 'drive/My Drive/adams-faces-ss19/training/real/real_00724.jpg',\n",
       " 'drive/My Drive/adams-faces-ss19/training/real/real_00254.jpg',\n",
       " 'drive/My Drive/adams-faces-ss19/training/real/real_00297.jpg',\n",
       " 'drive/My Drive/adams-faces-ss19/training/real/real_00526.jpg',\n",
       " 'drive/My Drive/adams-faces-ss19/training/real/real_00240.jpg',\n",
       " 'drive/My Drive/adams-faces-ss19/training/real/real_00042.jpg',\n",
       " 'drive/My Drive/adams-faces-ss19/training/real/real_00283.jpg',\n",
       " 'drive/My Drive/adams-faces-ss19/training/real/real_00718.jpg',\n",
       " 'drive/My Drive/adams-faces-ss19/training/real/real_00056.jpg',\n",
       " 'drive/My Drive/adams-faces-ss19/training/real/real_00730.jpg',\n",
       " 'drive/My Drive/adams-faces-ss19/training/real/real_00095.jpg',\n",
       " 'drive/My Drive/adams-faces-ss19/training/real/real_00081.jpg',\n",
       " 'drive/My Drive/adams-faces-ss19/training/real/real_00678.jpg',\n",
       " 'drive/My Drive/adams-faces-ss19/training/real/real_00687.jpg',\n",
       " 'drive/My Drive/adams-faces-ss19/training/real/real_00122.jpg',\n",
       " 'drive/My Drive/adams-faces-ss19/training/real/real_00644.jpg',\n",
       " 'drive/My Drive/adams-faces-ss19/training/real/real_00650.jpg',\n",
       " 'drive/My Drive/adams-faces-ss19/training/real/real_00693.jpg',\n",
       " 'drive/My Drive/adams-faces-ss19/training/real/real_00136.jpg',\n",
       " 'drive/My Drive/adams-faces-ss19/training/real/real_00888.jpg',\n",
       " 'drive/My Drive/adams-faces-ss19/training/real/real_00308.jpg',\n",
       " 'drive/My Drive/adams-faces-ss19/training/real/real_00877.jpg',\n",
       " 'drive/My Drive/adams-faces-ss19/training/real/real_00863.jpg',\n",
       " 'drive/My Drive/adams-faces-ss19/training/real/real_00446.jpg',\n",
       " 'drive/My Drive/adams-faces-ss19/training/real/real_00320.jpg',\n",
       " 'drive/My Drive/adams-faces-ss19/training/real/real_00447.jpg',\n",
       " 'drive/My Drive/adams-faces-ss19/training/real/real_00452.jpg',\n",
       " 'drive/My Drive/adams-faces-ss19/training/real/real_00334.jpg',\n",
       " 'drive/My Drive/adams-faces-ss19/training/real/real_00485.jpg',\n",
       " 'drive/My Drive/adams-faces-ss19/training/real/real_00321.jpg',\n",
       " 'drive/My Drive/adams-faces-ss19/training/real/real_00491.jpg',\n",
       " 'drive/My Drive/adams-faces-ss19/training/real/real_00490.jpg',\n",
       " 'drive/My Drive/adams-faces-ss19/training/real/real_00309.jpg',\n",
       " 'drive/My Drive/adams-faces-ss19/training/real/real_00335.jpg',\n",
       " 'drive/My Drive/adams-faces-ss19/training/real/real_00484.jpg',\n",
       " 'drive/My Drive/adams-faces-ss19/training/real/real_00692.jpg',\n",
       " 'drive/My Drive/adams-faces-ss19/training/real/real_00453.jpg',\n",
       " 'drive/My Drive/adams-faces-ss19/training/real/real_00686.jpg',\n",
       " 'drive/My Drive/adams-faces-ss19/training/real/real_00080.jpg',\n",
       " 'drive/My Drive/adams-faces-ss19/training/real/real_00876.jpg',\n",
       " 'drive/My Drive/adams-faces-ss19/training/real/real_00862.jpg',\n",
       " 'drive/My Drive/adams-faces-ss19/training/real/real_00889.jpg',\n",
       " 'drive/My Drive/adams-faces-ss19/training/real/real_00094.jpg',\n",
       " 'drive/My Drive/adams-faces-ss19/training/real/real_00137.jpg',\n",
       " 'drive/My Drive/adams-faces-ss19/training/real/real_00651.jpg',\n",
       " 'drive/My Drive/adams-faces-ss19/training/real/real_00645.jpg',\n",
       " 'drive/My Drive/adams-faces-ss19/training/real/real_00679.jpg',\n",
       " 'drive/My Drive/adams-faces-ss19/training/real/real_00123.jpg',\n",
       " 'drive/My Drive/adams-faces-ss19/training/real/real_00725.jpg',\n",
       " 'drive/My Drive/adams-faces-ss19/training/real/real_00043.jpg',\n",
       " 'drive/My Drive/adams-faces-ss19/training/real/real_00057.jpg',\n",
       " 'drive/My Drive/adams-faces-ss19/training/real/real_00719.jpg',\n",
       " 'drive/My Drive/adams-faces-ss19/training/real/real_00731.jpg',\n",
       " 'drive/My Drive/adams-faces-ss19/training/real/real_00269.jpg',\n",
       " 'drive/My Drive/adams-faces-ss19/training/real/real_00241.jpg',\n",
       " 'drive/My Drive/adams-faces-ss19/training/real/real_00282.jpg',\n",
       " 'drive/My Drive/adams-faces-ss19/training/real/real_00296.jpg',\n",
       " 'drive/My Drive/adams-faces-ss19/training/real/real_00554.jpg',\n",
       " 'drive/My Drive/adams-faces-ss19/training/real/real_00255.jpg',\n",
       " 'drive/My Drive/adams-faces-ss19/training/real/real_00527.jpg',\n",
       " 'drive/My Drive/adams-faces-ss19/training/real/real_00533.jpg',\n",
       " 'drive/My Drive/adams-faces-ss19/training/real/real_00232.jpg',\n",
       " 'drive/My Drive/adams-faces-ss19/training/real/real_00226.jpg',\n",
       " 'drive/My Drive/adams-faces-ss19/training/real/real_00018.jpg',\n",
       " 'drive/My Drive/adams-faces-ss19/training/real/real_00540.jpg',\n",
       " 'drive/My Drive/adams-faces-ss19/training/real/real_00568.jpg',\n",
       " 'drive/My Drive/adams-faces-ss19/training/real/real_00597.jpg',\n",
       " 'drive/My Drive/adams-faces-ss19/training/real/real_00795.jpg',\n",
       " 'drive/My Drive/adams-faces-ss19/training/real/real_00030.jpg',\n",
       " 'drive/My Drive/adams-faces-ss19/training/real/real_00583.jpg',\n",
       " 'drive/My Drive/adams-faces-ss19/training/real/real_00742.jpg',\n",
       " 'drive/My Drive/adams-faces-ss19/training/real/real_00756.jpg',\n",
       " 'drive/My Drive/adams-faces-ss19/training/real/real_00024.jpg',\n",
       " 'drive/My Drive/adams-faces-ss19/training/real/real_00781.jpg',\n",
       " 'drive/My Drive/adams-faces-ss19/training/real/real_00144.jpg',\n",
       " 'drive/My Drive/adams-faces-ss19/training/real/real_00622.jpg',\n",
       " 'drive/My Drive/adams-faces-ss19/training/real/real_00636.jpg',\n",
       " 'drive/My Drive/adams-faces-ss19/training/real/real_00420.jpg',\n",
       " 'drive/My Drive/adams-faces-ss19/training/real/real_00150.jpg',\n",
       " 'drive/My Drive/adams-faces-ss19/training/real/real_00178.jpg',\n",
       " 'drive/My Drive/adams-faces-ss19/training/real/real_00346.jpg',\n",
       " 'drive/My Drive/adams-faces-ss19/training/real/real_00187.jpg',\n",
       " 'drive/My Drive/adams-faces-ss19/training/real/real_00839.jpg',\n",
       " 'drive/My Drive/adams-faces-ss19/training/real/real_00193.jpg',\n",
       " 'drive/My Drive/adams-faces-ss19/training/real/real_00805.jpg',\n",
       " 'drive/My Drive/adams-faces-ss19/training/real/real_00811.jpg',\n",
       " 'drive/My Drive/adams-faces-ss19/training/real/real_00352.jpg',\n",
       " 'drive/My Drive/adams-faces-ss19/training/real/real_00421.jpg',\n",
       " 'drive/My Drive/adams-faces-ss19/training/real/real_00434.jpg',\n",
       " 'drive/My Drive/adams-faces-ss19/training/real/real_00408.jpg',\n",
       " 'drive/My Drive/adams-faces-ss19/training/real/real_00347.jpg',\n",
       " 'drive/My Drive/adams-faces-ss19/training/real/real_00391.jpg',\n",
       " 'drive/My Drive/adams-faces-ss19/training/real/real_00385.jpg',\n",
       " 'drive/My Drive/adams-faces-ss19/training/real/real_00384.jpg',\n",
       " 'drive/My Drive/adams-faces-ss19/training/real/real_00390.jpg',\n",
       " 'drive/My Drive/adams-faces-ss19/training/real/real_00810.jpg',\n",
       " 'drive/My Drive/adams-faces-ss19/training/real/real_00435.jpg',\n",
       " 'drive/My Drive/adams-faces-ss19/training/real/real_00353.jpg',\n",
       " 'drive/My Drive/adams-faces-ss19/training/real/real_00409.jpg',\n",
       " 'drive/My Drive/adams-faces-ss19/training/real/real_00804.jpg',\n",
       " 'drive/My Drive/adams-faces-ss19/training/real/real_00192.jpg',\n",
       " 'drive/My Drive/adams-faces-ss19/training/real/real_00186.jpg',\n",
       " 'drive/My Drive/adams-faces-ss19/training/real/real_00838.jpg',\n",
       " 'drive/My Drive/adams-faces-ss19/training/real/real_00019.jpg',\n",
       " 'drive/My Drive/adams-faces-ss19/training/real/real_00179.jpg',\n",
       " 'drive/My Drive/adams-faces-ss19/training/real/real_00145.jpg',\n",
       " 'drive/My Drive/adams-faces-ss19/training/real/real_00637.jpg',\n",
       " 'drive/My Drive/adams-faces-ss19/training/real/real_00151.jpg',\n",
       " 'drive/My Drive/adams-faces-ss19/training/real/real_00623.jpg',\n",
       " 'drive/My Drive/adams-faces-ss19/training/real/real_00780.jpg',\n",
       " 'drive/My Drive/adams-faces-ss19/training/real/real_00743.jpg',\n",
       " 'drive/My Drive/adams-faces-ss19/training/real/real_00794.jpg',\n",
       " 'drive/My Drive/adams-faces-ss19/training/real/real_00025.jpg',\n",
       " 'drive/My Drive/adams-faces-ss19/training/real/real_00031.jpg',\n",
       " 'drive/My Drive/adams-faces-ss19/training/real/real_00543.jpg',\n",
       " 'drive/My Drive/adams-faces-ss19/training/real/real_00757.jpg',\n",
       " 'drive/My Drive/adams-faces-ss19/training/real/real_00582.jpg',\n",
       " 'drive/My Drive/adams-faces-ss19/training/real/real_00225.jpg',\n",
       " 'drive/My Drive/adams-faces-ss19/training/real/real_00569.jpg',\n",
       " 'drive/My Drive/adams-faces-ss19/training/real/real_00596.jpg',\n",
       " 'drive/My Drive/adams-faces-ss19/training/real/real_00541.jpg',\n",
       " 'drive/My Drive/adams-faces-ss19/training/real/real_00227.jpg',\n",
       " 'drive/My Drive/adams-faces-ss19/training/real/real_00231.jpg',\n",
       " 'drive/My Drive/adams-faces-ss19/training/real/real_00233.jpg',\n",
       " 'drive/My Drive/adams-faces-ss19/training/real/real_00555.jpg',\n",
       " 'drive/My Drive/adams-faces-ss19/training/real/real_00557.jpg',\n",
       " 'drive/My Drive/adams-faces-ss19/training/real/real_00219.jpg',\n",
       " 'drive/My Drive/adams-faces-ss19/training/real/real_00580.jpg',\n",
       " 'drive/My Drive/adams-faces-ss19/training/real/real_00796.jpg',\n",
       " 'drive/My Drive/adams-faces-ss19/training/real/real_00594.jpg',\n",
       " 'drive/My Drive/adams-faces-ss19/training/real/real_00027.jpg',\n",
       " 'drive/My Drive/adams-faces-ss19/training/real/real_00755.jpg',\n",
       " 'drive/My Drive/adams-faces-ss19/training/real/real_00769.jpg',\n",
       " 'drive/My Drive/adams-faces-ss19/training/real/real_00033.jpg',\n",
       " 'drive/My Drive/adams-faces-ss19/training/real/real_00741.jpg',\n",
       " 'drive/My Drive/adams-faces-ss19/training/real/real_00153.jpg',\n",
       " 'drive/My Drive/adams-faces-ss19/training/real/real_00635.jpg',\n",
       " 'drive/My Drive/adams-faces-ss19/training/real/real_00782.jpg',\n",
       " 'drive/My Drive/adams-faces-ss19/training/real/real_00621.jpg',\n",
       " 'drive/My Drive/adams-faces-ss19/training/real/real_00147.jpg',\n",
       " 'drive/My Drive/adams-faces-ss19/training/real/real_00423.jpg',\n",
       " 'drive/My Drive/adams-faces-ss19/training/real/real_00609.jpg',\n",
       " 'drive/My Drive/adams-faces-ss19/training/real/real_00190.jpg',\n",
       " 'drive/My Drive/adams-faces-ss19/training/real/real_00184.jpg',\n",
       " 'drive/My Drive/adams-faces-ss19/training/real/real_00379.jpg',\n",
       " 'drive/My Drive/adams-faces-ss19/training/real/real_00812.jpg',\n",
       " 'drive/My Drive/adams-faces-ss19/training/real/real_00806.jpg',\n",
       " 'drive/My Drive/adams-faces-ss19/training/real/real_00351.jpg',\n",
       " 'drive/My Drive/adams-faces-ss19/training/real/real_00437.jpg',\n",
       " 'drive/My Drive/adams-faces-ss19/training/real/real_00345.jpg',\n",
       " 'drive/My Drive/adams-faces-ss19/training/real/real_00392.jpg',\n",
       " 'drive/My Drive/adams-faces-ss19/training/real/real_00386.jpg',\n",
       " 'drive/My Drive/adams-faces-ss19/training/real/real_00387.jpg',\n",
       " 'drive/My Drive/adams-faces-ss19/training/real/real_00393.jpg',\n",
       " 'drive/My Drive/adams-faces-ss19/training/real/real_00185.jpg',\n",
       " 'drive/My Drive/adams-faces-ss19/training/real/real_00378.jpg',\n",
       " 'drive/My Drive/adams-faces-ss19/training/real/real_00344.jpg',\n",
       " 'drive/My Drive/adams-faces-ss19/training/real/real_00422.jpg',\n",
       " 'drive/My Drive/adams-faces-ss19/training/real/real_00436.jpg',\n",
       " 'drive/My Drive/adams-faces-ss19/training/real/real_00191.jpg',\n",
       " 'drive/My Drive/adams-faces-ss19/training/real/real_00350.jpg',\n",
       " 'drive/My Drive/adams-faces-ss19/training/real/real_00807.jpg',\n",
       " 'drive/My Drive/adams-faces-ss19/training/real/real_00813.jpg',\n",
       " 'drive/My Drive/adams-faces-ss19/training/real/real_00608.jpg',\n",
       " 'drive/My Drive/adams-faces-ss19/training/real/real_00026.jpg',\n",
       " 'drive/My Drive/adams-faces-ss19/training/real/real_00620.jpg',\n",
       " 'drive/My Drive/adams-faces-ss19/training/real/real_00152.jpg',\n",
       " 'drive/My Drive/adams-faces-ss19/training/real/real_00146.jpg',\n",
       " 'drive/My Drive/adams-faces-ss19/training/real/real_00634.jpg',\n",
       " 'drive/My Drive/adams-faces-ss19/training/real/real_00740.jpg',\n",
       " 'drive/My Drive/adams-faces-ss19/training/real/real_00783.jpg',\n",
       " 'drive/My Drive/adams-faces-ss19/training/real/real_00797.jpg',\n",
       " 'drive/My Drive/adams-faces-ss19/training/real/real_00768.jpg',\n",
       " 'drive/My Drive/adams-faces-ss19/training/real/real_00754.jpg',\n",
       " 'drive/My Drive/adams-faces-ss19/training/real/real_00595.jpg',\n",
       " 'drive/My Drive/adams-faces-ss19/training/real/real_00032.jpg',\n",
       " 'drive/My Drive/adams-faces-ss19/training/real/real_00581.jpg',\n",
       " 'drive/My Drive/adams-faces-ss19/training/real/real_00218.jpg',\n",
       " 'drive/My Drive/adams-faces-ss19/training/real/real_00230.jpg',\n",
       " 'drive/My Drive/adams-faces-ss19/training/real/real_00234.jpg',\n",
       " 'drive/My Drive/adams-faces-ss19/training/real/real_00542.jpg',\n",
       " 'drive/My Drive/adams-faces-ss19/training/real/real_00556.jpg',\n",
       " 'drive/My Drive/adams-faces-ss19/training/real/real_00546.jpg',\n",
       " 'drive/My Drive/adams-faces-ss19/training/real/real_00208.jpg',\n",
       " 'drive/My Drive/adams-faces-ss19/training/real/real_00220.jpg',\n",
       " 'drive/My Drive/adams-faces-ss19/training/real/real_00224.jpg',\n",
       " 'drive/My Drive/adams-faces-ss19/training/real/real_00585.jpg',\n",
       " 'drive/My Drive/adams-faces-ss19/training/real/real_00552.jpg',\n",
       " 'drive/My Drive/adams-faces-ss19/training/real/real_00591.jpg',\n",
       " 'drive/My Drive/adams-faces-ss19/training/real/real_00778.jpg',\n",
       " 'drive/My Drive/adams-faces-ss19/training/real/real_00156.jpg',\n",
       " 'drive/My Drive/adams-faces-ss19/training/real/real_00744.jpg',\n",
       " 'drive/My Drive/adams-faces-ss19/training/real/real_00022.jpg',\n",
       " 'drive/My Drive/adams-faces-ss19/training/real/real_00036.jpg',\n",
       " 'drive/My Drive/adams-faces-ss19/training/real/real_00142.jpg',\n",
       " 'drive/My Drive/adams-faces-ss19/training/real/real_00750.jpg',\n",
       " 'drive/My Drive/adams-faces-ss19/training/real/real_00787.jpg',\n",
       " 'drive/My Drive/adams-faces-ss19/training/real/real_00630.jpg',\n",
       " 'drive/My Drive/adams-faces-ss19/training/real/real_00793.jpg',\n",
       " 'drive/My Drive/adams-faces-ss19/training/real/real_00618.jpg',\n",
       " 'drive/My Drive/adams-faces-ss19/training/real/real_00624.jpg',\n",
       " 'drive/My Drive/adams-faces-ss19/training/real/real_00817.jpg',\n",
       " 'drive/My Drive/adams-faces-ss19/training/real/real_00397.jpg',\n",
       " 'drive/My Drive/adams-faces-ss19/training/real/real_00181.jpg',\n",
       " 'drive/My Drive/adams-faces-ss19/training/real/real_00803.jpg',\n",
       " 'drive/My Drive/adams-faces-ss19/training/real/real_00195.jpg',\n",
       " 'drive/My Drive/adams-faces-ss19/training/real/real_00383.jpg',\n",
       " 'drive/My Drive/adams-faces-ss19/training/real/real_00354.jpg',\n",
       " 'drive/My Drive/adams-faces-ss19/training/real/real_00368.jpg',\n",
       " 'drive/My Drive/adams-faces-ss19/training/real/real_00432.jpg',\n",
       " 'drive/My Drive/adams-faces-ss19/training/real/real_00340.jpg',\n",
       " 'drive/My Drive/adams-faces-ss19/training/real/real_00426.jpg',\n",
       " 'drive/My Drive/adams-faces-ss19/training/real/real_00382.jpg',\n",
       " 'drive/My Drive/adams-faces-ss19/training/real/real_00396.jpg',\n",
       " 'drive/My Drive/adams-faces-ss19/training/real/real_00816.jpg',\n",
       " 'drive/My Drive/adams-faces-ss19/training/real/real_00427.jpg',\n",
       " 'drive/My Drive/adams-faces-ss19/training/real/real_00341.jpg',\n",
       " 'drive/My Drive/adams-faces-ss19/training/real/real_00355.jpg',\n",
       " 'drive/My Drive/adams-faces-ss19/training/real/real_00143.jpg',\n",
       " 'drive/My Drive/adams-faces-ss19/training/real/real_00369.jpg',\n",
       " 'drive/My Drive/adams-faces-ss19/training/real/real_00433.jpg',\n",
       " 'drive/My Drive/adams-faces-ss19/training/real/real_00180.jpg',\n",
       " 'drive/My Drive/adams-faces-ss19/training/real/real_00194.jpg',\n",
       " 'drive/My Drive/adams-faces-ss19/training/real/real_00802.jpg',\n",
       " 'drive/My Drive/adams-faces-ss19/training/real/real_00625.jpg',\n",
       " 'drive/My Drive/adams-faces-ss19/training/real/real_00631.jpg',\n",
       " 'drive/My Drive/adams-faces-ss19/training/real/real_00157.jpg',\n",
       " 'drive/My Drive/adams-faces-ss19/training/real/real_00619.jpg',\n",
       " 'drive/My Drive/adams-faces-ss19/training/real/real_00792.jpg',\n",
       " 'drive/My Drive/adams-faces-ss19/training/real/real_00590.jpg',\n",
       " 'drive/My Drive/adams-faces-ss19/training/real/real_00786.jpg',\n",
       " 'drive/My Drive/adams-faces-ss19/training/real/real_00745.jpg',\n",
       " 'drive/My Drive/adams-faces-ss19/training/real/real_00751.jpg',\n",
       " 'drive/My Drive/adams-faces-ss19/training/real/real_00037.jpg',\n",
       " 'drive/My Drive/adams-faces-ss19/training/real/real_00584.jpg',\n",
       " 'drive/My Drive/adams-faces-ss19/training/real/real_00023.jpg',\n",
       " 'drive/My Drive/adams-faces-ss19/training/real/real_00779.jpg',\n",
       " 'drive/My Drive/adams-faces-ss19/training/real/real_00553.jpg',\n",
       " 'drive/My Drive/adams-faces-ss19/training/real/real_00235.jpg',\n",
       " 'drive/My Drive/adams-faces-ss19/training/real/real_00592.jpg',\n",
       " 'drive/My Drive/adams-faces-ss19/training/real/real_00221.jpg',\n",
       " 'drive/My Drive/adams-faces-ss19/training/real/real_00547.jpg',\n",
       " 'drive/My Drive/adams-faces-ss19/training/real/real_00209.jpg',\n",
       " 'drive/My Drive/adams-faces-ss19/training/real/real_00586.jpg',\n",
       " 'drive/My Drive/adams-faces-ss19/training/real/real_00237.jpg',\n",
       " 'drive/My Drive/adams-faces-ss19/training/real/real_00579.jpg',\n",
       " 'drive/My Drive/adams-faces-ss19/training/real/real_00551.jpg',\n",
       " 'drive/My Drive/adams-faces-ss19/training/real/real_00009.jpg',\n",
       " 'drive/My Drive/adams-faces-ss19/training/real/real_00545.jpg',\n",
       " 'drive/My Drive/adams-faces-ss19/training/real/real_00223.jpg',\n",
       " 'drive/My Drive/adams-faces-ss19/training/real/real_00753.jpg',\n",
       " 'drive/My Drive/adams-faces-ss19/training/real/real_00035.jpg',\n",
       " 'drive/My Drive/adams-faces-ss19/training/real/real_00021.jpg',\n",
       " 'drive/My Drive/adams-faces-ss19/training/real/real_00633.jpg',\n",
       " 'drive/My Drive/adams-faces-ss19/training/real/real_00790.jpg',\n",
       " 'drive/My Drive/adams-faces-ss19/training/real/real_00747.jpg',\n",
       " 'drive/My Drive/adams-faces-ss19/training/real/real_00169.jpg',\n",
       " 'drive/My Drive/adams-faces-ss19/training/real/real_00784.jpg',\n",
       " 'drive/My Drive/adams-faces-ss19/training/real/real_00800.jpg',\n",
       " 'drive/My Drive/adams-faces-ss19/training/real/real_00141.jpg',\n",
       " 'drive/My Drive/adams-faces-ss19/training/real/real_00155.jpg',\n",
       " 'drive/My Drive/adams-faces-ss19/training/real/real_00627.jpg',\n",
       " 'drive/My Drive/adams-faces-ss19/training/real/real_00814.jpg',\n",
       " 'drive/My Drive/adams-faces-ss19/training/real/real_00182.jpg',\n",
       " 'drive/My Drive/adams-faces-ss19/training/real/real_00394.jpg',\n",
       " 'drive/My Drive/adams-faces-ss19/training/real/real_00828.jpg',\n",
       " 'drive/My Drive/adams-faces-ss19/training/real/real_00196.jpg',\n",
       " 'drive/My Drive/adams-faces-ss19/training/real/real_00343.jpg',\n",
       " 'drive/My Drive/adams-faces-ss19/training/real/real_00419.jpg',\n",
       " 'drive/My Drive/adams-faces-ss19/training/real/real_00395.jpg',\n",
       " 'drive/My Drive/adams-faces-ss19/training/real/real_00425.jpg',\n",
       " 'drive/My Drive/adams-faces-ss19/training/real/real_00431.jpg',\n",
       " 'drive/My Drive/adams-faces-ss19/training/real/real_00380.jpg',\n",
       " 'drive/My Drive/adams-faces-ss19/training/real/real_00357.jpg',\n",
       " 'drive/My Drive/adams-faces-ss19/training/real/real_00381.jpg',\n",
       " 'drive/My Drive/adams-faces-ss19/training/real/real_00430.jpg',\n",
       " 'drive/My Drive/adams-faces-ss19/training/real/real_00801.jpg',\n",
       " 'drive/My Drive/adams-faces-ss19/training/real/real_00356.jpg',\n",
       " 'drive/My Drive/adams-faces-ss19/training/real/real_00424.jpg',\n",
       " 'drive/My Drive/adams-faces-ss19/training/real/real_00342.jpg',\n",
       " 'drive/My Drive/adams-faces-ss19/training/real/real_00154.jpg',\n",
       " 'drive/My Drive/adams-faces-ss19/training/real/real_00418.jpg',\n",
       " 'drive/My Drive/adams-faces-ss19/training/real/real_00183.jpg',\n",
       " 'drive/My Drive/adams-faces-ss19/training/real/real_00197.jpg',\n",
       " 'drive/My Drive/adams-faces-ss19/training/real/real_00829.jpg',\n",
       " 'drive/My Drive/adams-faces-ss19/training/real/real_00632.jpg',\n",
       " 'drive/My Drive/adams-faces-ss19/training/real/real_00815.jpg',\n",
       " 'drive/My Drive/adams-faces-ss19/training/real/real_00626.jpg',\n",
       " 'drive/My Drive/adams-faces-ss19/training/real/real_00587.jpg',\n",
       " 'drive/My Drive/adams-faces-ss19/training/real/real_00140.jpg',\n",
       " 'drive/My Drive/adams-faces-ss19/training/real/real_00168.jpg',\n",
       " 'drive/My Drive/adams-faces-ss19/training/real/real_00785.jpg',\n",
       " 'drive/My Drive/adams-faces-ss19/training/real/real_00791.jpg',\n",
       " 'drive/My Drive/adams-faces-ss19/training/real/real_00593.jpg',\n",
       " 'drive/My Drive/adams-faces-ss19/training/real/real_00746.jpg',\n",
       " 'drive/My Drive/adams-faces-ss19/training/real/real_00020.jpg',\n",
       " 'drive/My Drive/adams-faces-ss19/training/real/real_00544.jpg',\n",
       " 'drive/My Drive/adams-faces-ss19/training/real/real_00752.jpg',\n",
       " 'drive/My Drive/adams-faces-ss19/training/real/real_00034.jpg',\n",
       " 'drive/My Drive/adams-faces-ss19/training/real/real_00008.jpg',\n",
       " 'drive/My Drive/adams-faces-ss19/training/real/real_00222.jpg',\n",
       " 'drive/My Drive/adams-faces-ss19/training/real/real_00236.jpg',\n",
       " 'drive/My Drive/adams-faces-ss19/training/real/real_00777.jpg',\n",
       " 'drive/My Drive/adams-faces-ss19/training/real/real_00578.jpg',\n",
       " 'drive/My Drive/adams-faces-ss19/training/real/real_00550.jpg',\n",
       " 'drive/My Drive/adams-faces-ss19/training/real/real_00213.jpg',\n",
       " 'drive/My Drive/adams-faces-ss19/training/real/real_00575.jpg',\n",
       " 'drive/My Drive/adams-faces-ss19/training/real/real_00763.jpg',\n",
       " 'drive/My Drive/adams-faces-ss19/training/real/real_00207.jpg',\n",
       " 'drive/My Drive/adams-faces-ss19/training/real/real_00561.jpg',\n",
       " 'drive/My Drive/adams-faces-ss19/training/real/real_00549.jpg',\n",
       " 'drive/My Drive/adams-faces-ss19/training/real/real_00005.jpg',\n",
       " 'drive/My Drive/adams-faces-ss19/training/real/real_00011.jpg',\n",
       " 'drive/My Drive/adams-faces-ss19/training/real/real_00039.jpg',\n",
       " 'drive/My Drive/adams-faces-ss19/training/real/real_00788.jpg',\n",
       " 'drive/My Drive/adams-faces-ss19/training/real/real_00603.jpg',\n",
       " 'drive/My Drive/adams-faces-ss19/training/real/real_00165.jpg',\n",
       " 'drive/My Drive/adams-faces-ss19/training/real/real_00401.jpg',\n",
       " 'drive/My Drive/adams-faces-ss19/training/real/real_00617.jpg',\n",
       " 'drive/My Drive/adams-faces-ss19/training/real/real_00171.jpg',\n",
       " 'drive/My Drive/adams-faces-ss19/training/real/real_00818.jpg',\n",
       " 'drive/My Drive/adams-faces-ss19/training/real/real_00159.jpg',\n",
       " 'drive/My Drive/adams-faces-ss19/training/real/real_00367.jpg',\n",
       " 'drive/My Drive/adams-faces-ss19/training/real/real_00830.jpg',\n",
       " 'drive/My Drive/adams-faces-ss19/training/real/real_00824.jpg',\n",
       " 'drive/My Drive/adams-faces-ss19/training/real/real_00373.jpg',\n",
       " 'drive/My Drive/adams-faces-ss19/training/real/real_00415.jpg',\n",
       " 'drive/My Drive/adams-faces-ss19/training/real/real_00831.jpg',\n",
       " 'drive/My Drive/adams-faces-ss19/training/real/real_00398.jpg',\n",
       " 'drive/My Drive/adams-faces-ss19/training/real/real_00429.jpg',\n",
       " 'drive/My Drive/adams-faces-ss19/training/real/real_00428.jpg',\n",
       " 'drive/My Drive/adams-faces-ss19/training/real/real_00399.jpg',\n",
       " 'drive/My Drive/adams-faces-ss19/training/real/real_00825.jpg',\n",
       " 'drive/My Drive/adams-faces-ss19/training/real/real_00414.jpg',\n",
       " 'drive/My Drive/adams-faces-ss19/training/real/real_00372.jpg',\n",
       " 'drive/My Drive/adams-faces-ss19/training/real/real_00366.jpg',\n",
       " 'drive/My Drive/adams-faces-ss19/training/real/real_00400.jpg',\n",
       " 'drive/My Drive/adams-faces-ss19/training/real/real_00819.jpg',\n",
       " 'drive/My Drive/adams-faces-ss19/training/real/real_00158.jpg',\n",
       " 'drive/My Drive/adams-faces-ss19/training/real/real_00616.jpg',\n",
       " 'drive/My Drive/adams-faces-ss19/training/real/real_00164.jpg',\n",
       " 'drive/My Drive/adams-faces-ss19/training/real/real_00170.jpg',\n",
       " 'drive/My Drive/adams-faces-ss19/training/real/real_00776.jpg',\n",
       " 'drive/My Drive/adams-faces-ss19/training/real/real_00789.jpg',\n",
       " 'drive/My Drive/adams-faces-ss19/training/real/real_00602.jpg',\n",
       " 'drive/My Drive/adams-faces-ss19/training/real/real_00762.jpg',\n",
       " 'drive/My Drive/adams-faces-ss19/training/real/real_00038.jpg',\n",
       " 'drive/My Drive/adams-faces-ss19/training/real/real_00548.jpg',\n",
       " 'drive/My Drive/adams-faces-ss19/training/real/real_00010.jpg',\n",
       " 'drive/My Drive/adams-faces-ss19/training/real/real_00004.jpg',\n",
       " 'drive/My Drive/adams-faces-ss19/training/real/real_00206.jpg',\n",
       " ...]"
      ]
     },
     "execution_count": 6,
     "metadata": {
      "tags": []
     },
     "output_type": "execute_result"
    }
   ],
   "source": [
    "train_imgs"
   ]
  },
  {
   "cell_type": "markdown",
   "metadata": {
    "colab_type": "text",
    "id": "Hg-ALAk9kCrC"
   },
   "source": [
    "\"train_imgs\" is a list that keeps the real and fake images' path and name. "
   ]
  },
  {
   "cell_type": "markdown",
   "metadata": {
    "colab_type": "text",
    "id": "Rb8JWR-6kCrD"
   },
   "source": [
    "Let's plot the first 3 images. "
   ]
  },
  {
   "cell_type": "code",
   "execution_count": null,
   "metadata": {
    "colab": {
     "base_uri": "https://localhost:8080/",
     "height": 773
    },
    "colab_type": "code",
    "id": "HGTfrg1jkCrE",
    "outputId": "792e7033-f0e6-4b37-aa01-e3a763e2b6c1"
   },
   "outputs": [
    {
     "data": {
      "image/png": "[encoded data removed]",
      "text/plain": [
       "<Figure size 432x288 with 1 Axes>"
      ]
     },
     "metadata": {
      "tags": []
     },
     "output_type": "display_data"
    },
    {
     "data": {
      "image/png": "[encoded data removed]",
      "text/plain": [
       "<Figure size 432x288 with 1 Axes>"
      ]
     },
     "metadata": {
      "tags": []
     },
     "output_type": "display_data"
    },
    {
     "data": {
      "image/png": "[encoded data removed]",
      "text/plain": [
       "<Figure size 432x288 with 1 Axes>"
      ]
     },
     "metadata": {
      "tags": []
     },
     "output_type": "display_data"
    }
   ],
   "source": [
    "import matplotlib.image as mpimg\n",
    "for ima in train_imgs[0:3]:\n",
    "    img=mpimg.imread(ima)\n",
    "    imgplot = plt.imshow(img)\n",
    "    plt.show()"
   ]
  },
  {
   "cell_type": "code",
   "execution_count": null,
   "metadata": {
    "colab": {},
    "colab_type": "code",
    "id": "_tX-ZWswkCrJ"
   },
   "outputs": [],
   "source": [
    "def read_image(list_of_images):\n",
    "    \n",
    "    X = [] # X is for the images\n",
    "    y = [] # y is for the labels \n",
    "    \n",
    "    for image in list_of_images:\n",
    "        X.append(cv2.imread(image, cv2.IMREAD_COLOR))\n",
    "        if 'easy' in image:\n",
    "            y.append(1)\n",
    "        elif 'hard' in image:\n",
    "            y.append(1)\n",
    "        elif 'mid' in image:\n",
    "            y.append(1)\n",
    "        elif 'real' in image:\n",
    "            y.append(0)\n",
    "    \n",
    "    return X, y"
   ]
  },
  {
   "cell_type": "markdown",
   "metadata": {
    "colab_type": "text",
    "id": "C-TAnR_GkCrM"
   },
   "source": [
    "This function reads the images and turns them into arrays. X is keeping the image arrays and y is keeping the labels. If there is 'easy', 'hard' or 'mid' in the image name, it means that the image is fake and its label should be 1. If there is 'real' in the image name, it means that the image is real and its label should be 0. "
   ]
  },
  {
   "cell_type": "code",
   "execution_count": null,
   "metadata": {
    "colab": {},
    "colab_type": "code",
    "id": "2HWrUzYNkCrN"
   },
   "outputs": [],
   "source": [
    "X, y = read_image(train_imgs)"
   ]
  },
  {
   "cell_type": "code",
   "execution_count": null,
   "metadata": {
    "colab": {
     "base_uri": "https://localhost:8080/",
     "height": 34
    },
    "colab_type": "code",
    "id": "7kGz-uyo55Rb",
    "outputId": "153a531d-5375-45b3-c454-082a4cfabde9"
   },
   "outputs": [
    {
     "data": {
      "text/plain": [
       "0"
      ]
     },
     "execution_count": 9,
     "metadata": {
      "tags": []
     },
     "output_type": "execute_result"
    }
   ],
   "source": [
    "del train_imgs\n",
    "gc.collect()"
   ]
  },
  {
   "cell_type": "code",
   "execution_count": null,
   "metadata": {
    "colab": {
     "base_uri": "https://localhost:8080/",
     "height": 298
    },
    "colab_type": "code",
    "id": "bYLdN3R5kCrR",
    "outputId": "6a312cbf-1be5-4955-8872-4c50e4764190"
   },
   "outputs": [
    {
     "data": {
      "text/plain": [
       "Text(0.5, 1.0, 'Real vs Fake')"
      ]
     },
     "execution_count": 10,
     "metadata": {
      "tags": []
     },
     "output_type": "execute_result"
    },
    {
     "data": {
      "image/png": "[encoded data removed]",
      "text/plain": [
       "<Figure size 432x288 with 1 Axes>"
      ]
     },
     "metadata": {
      "tags": []
     },
     "output_type": "display_data"
    }
   ],
   "source": [
    "import seaborn as sns\n",
    "\n",
    "X = np.array(X)\n",
    "y = np.array(y)\n",
    "\n",
    "sns.countplot(y)\n",
    "plt.title('Real vs Fake')\n"
   ]
  },
  {
   "cell_type": "markdown",
   "metadata": {
    "colab_type": "text",
    "id": "XGNzQZ_ZkCrV"
   },
   "source": [
    "The graph above shows the count values for real and fake images. There are 891 real and 463 fake images in the training set. It seems like the data is not balanced. "
   ]
  },
  {
   "cell_type": "code",
   "execution_count": null,
   "metadata": {
    "colab": {
     "base_uri": "https://localhost:8080/",
     "height": 85
    },
    "colab_type": "code",
    "id": "hDh9pTaOkCrY",
    "outputId": "2349028a-ebbd-401a-8353-3496526ed5ba"
   },
   "outputs": [
    {
     "name": "stdout",
     "output_type": "stream",
     "text": [
      "Shape of train images is: (1083, 600, 600, 3)\n",
      "Shape of validation images is: (271, 600, 600, 3)\n",
      "Shape of labels is: (1083,)\n",
      "Shape of labels is: (271,)\n"
     ]
    }
   ],
   "source": [
    "from sklearn.model_selection import train_test_split\n",
    "X_train, X_val, y_train, y_val = train_test_split(X, y, test_size=0.2, random_state=42)\n",
    "\n",
    "print(\"Shape of train images is:\", X_train.shape)\n",
    "print(\"Shape of validation images is:\", X_val.shape)\n",
    "print(\"Shape of labels is:\", y_train.shape)\n",
    "print(\"Shape of labels is:\", y_val.shape)"
   ]
  },
  {
   "cell_type": "code",
   "execution_count": null,
   "metadata": {
    "colab": {
     "base_uri": "https://localhost:8080/",
     "height": 34
    },
    "colab_type": "code",
    "id": "q2P-cjG75uLh",
    "outputId": "179fe036-597a-4648-b8a3-199ef31d9345"
   },
   "outputs": [
    {
     "data": {
      "text/plain": [
       "18"
      ]
     },
     "execution_count": 12,
     "metadata": {
      "tags": []
     },
     "output_type": "execute_result"
    }
   ],
   "source": [
    "del X\n",
    "del y\n",
    "gc.collect()"
   ]
  },
  {
   "cell_type": "markdown",
   "metadata": {
    "colab_type": "text",
    "id": "uvQ3xrxakCrc"
   },
   "source": [
    "train_test_split is used to create the validation set. test_size is 0.2, which means that 20% of the training set will be randomly assigned as the validation set. "
   ]
  },
  {
   "cell_type": "markdown",
   "metadata": {
    "colab_type": "text",
    "id": "MrhA8Uddzs5i"
   },
   "source": [
    "There are 1083 train images and 271 validation images in total. The shape of the the images is 600,600,3. 3 at the end means that the photos are colored, not gray scaled. "
   ]
  },
  {
   "cell_type": "markdown",
   "metadata": {
    "colab_type": "text",
    "id": "vG7nOTWUkCre"
   },
   "source": [
    "Now, the data is ready, the model can be built."
   ]
  },
  {
   "cell_type": "markdown",
   "metadata": {
    "colab_type": "text",
    "id": "Q0wk-TETzWL6"
   },
   "source": [
    "# 3.Models"
   ]
  },
  {
   "cell_type": "markdown",
   "metadata": {
    "colab_type": "text",
    "id": "9xh_Z_8m0Taf"
   },
   "source": [
    "###  3.1 CNN model"
   ]
  },
  {
   "cell_type": "markdown",
   "metadata": {},
   "source": [
    "The first model is the simple convolutional neural network model. \n",
    "\n",
    "3 Conv2D layers, 3 MaxPooling layer, 1 Flatten, 1 Dense, 1 Dropout and 1 Dense layer with the sigmoid activation is used in total.\n",
    "\n",
    "Sequential model is created and Conv2D layer is added. The first Conv2D layer has 32 neurons. Kernel size is (3,3) as filter. He_normal initializer, relu activation is used. Strides is (2,2) and input size is same with the shape of the images.  \n",
    "\n",
    "After Conv2D layers , MaxPooling layers are used. The 2nd Conv2D layer after that is the same with the first except the number of neurons this time is 64.\n",
    "\n",
    "After the last MaxPooling layer, Flatten is used.\n",
    "\n",
    "There is one Dropout layer between the Dense layers to prevent overfitting. At the end, there is a Dense layer with 1 neuron and sigmoid activation since the problem is binary classification."
   ]
  },
  {
   "cell_type": "code",
   "execution_count": null,
   "metadata": {
    "colab": {
     "base_uri": "https://localhost:8080/",
     "height": 34
    },
    "colab_type": "code",
    "id": "CYlv7Wp_kCrf",
    "outputId": "72a74924-38bd-463b-f097-bcd7ccbd41fe"
   },
   "outputs": [],
   "source": [
    "import keras\n",
    "from keras import models\n",
    "from keras import optimizers\n",
    "from keras.preprocessing.image import ImageDataGenerator\n",
    "from keras.preprocessing.image import img_to_array, load_img\n",
    "from keras.layers import Conv2D \n",
    "from keras.layers import MaxPooling2D\n",
    "from keras.layers.core import Dense, Dropout, Activation, Flatten\n",
    "from keras.models import Sequential"
   ]
  },
  {
   "cell_type": "code",
   "execution_count": null,
   "metadata": {
    "colab": {
     "base_uri": "https://localhost:8080/",
     "height": 328
    },
    "colab_type": "code",
    "id": "q49JRwR2kCri",
    "outputId": "cf6c4189-c65e-4024-ae2e-47fe9ef4b6e3"
   },
   "outputs": [],
   "source": [
    "seed=42\n",
    "\n",
    "model = models.Sequential()\n",
    "model.add(Conv2D(32, (3, 3), strides=(2,2), kernel_initializer=keras.initializers.he_normal(seed=seed) ,padding=\"same\",activation='relu',input_shape=(600, 600, 3)))\n",
    "model.add(MaxPooling2D((2, 2)))\n",
    "model.add(Conv2D(64, (3, 3), strides=(2,2), kernel_initializer=keras.initializers.he_normal(seed=seed) ,padding=\"same\", activation='relu'))\n",
    "model.add(MaxPooling2D((2, 2)))\n",
    "model.add(Conv2D(32, (3, 3), activation='relu'))\n",
    "model.add(MaxPooling2D((2, 2)))\n",
    "model.add(Flatten())\n",
    "model.add(Dense(16, activation='relu'))\n",
    "model.add(Dropout(0.1))\n",
    "model.add(Dense(1, activation='sigmoid'))"
   ]
  },
  {
   "cell_type": "code",
   "execution_count": null,
   "metadata": {
    "colab": {
     "base_uri": "https://localhost:8080/",
     "height": 508
    },
    "colab_type": "code",
    "id": "wM8cUzxHkCrl",
    "outputId": "c7a20b23-9f3c-4deb-a5b4-8c2aadfb92ff"
   },
   "outputs": [
    {
     "name": "stdout",
     "output_type": "stream",
     "text": [
      "_________________________________________________________________\n",
      "Layer (type)                 Output Shape              Param #   \n",
      "=================================================================\n",
      "conv2d_1 (Conv2D)            (None, 300, 300, 32)      896       \n",
      "_________________________________________________________________\n",
      "max_pooling2d_1 (MaxPooling2 (None, 150, 150, 32)      0         \n",
      "_________________________________________________________________\n",
      "conv2d_2 (Conv2D)            (None, 75, 75, 64)        18496     \n",
      "_________________________________________________________________\n",
      "max_pooling2d_2 (MaxPooling2 (None, 37, 37, 64)        0         \n",
      "_________________________________________________________________\n",
      "conv2d_3 (Conv2D)            (None, 35, 35, 32)        18464     \n",
      "_________________________________________________________________\n",
      "max_pooling2d_3 (MaxPooling2 (None, 17, 17, 32)        0         \n",
      "_________________________________________________________________\n",
      "flatten_1 (Flatten)          (None, 9248)              0         \n",
      "_________________________________________________________________\n",
      "dense_1 (Dense)              (None, 16)                147984    \n",
      "_________________________________________________________________\n",
      "dropout_1 (Dropout)          (None, 16)                0         \n",
      "_________________________________________________________________\n",
      "dense_2 (Dense)              (None, 1)                 17        \n",
      "=================================================================\n",
      "Total params: 185,857\n",
      "Trainable params: 185,857\n",
      "Non-trainable params: 0\n",
      "_________________________________________________________________\n"
     ]
    }
   ],
   "source": [
    "model.summary()"
   ]
  },
  {
   "cell_type": "code",
   "execution_count": null,
   "metadata": {
    "colab": {
     "base_uri": "https://localhost:8080/",
     "height": 128
    },
    "colab_type": "code",
    "id": "XKfKAwm7kCro",
    "outputId": "a61be514-2b4a-4f7b-a855-8595e33c1387"
   },
   "outputs": [],
   "source": [
    "model.compile(loss='binary_crossentropy', optimizer=optimizers.Adam(lr=1e-4), metrics=['acc'])"
   ]
  },
  {
   "cell_type": "markdown",
   "metadata": {},
   "source": [
    "The loss is binary_crossentropy, Adam optimizer with learning rate 1e-4 is chosen and as the metrics accuracy is used."
   ]
  },
  {
   "cell_type": "markdown",
   "metadata": {},
   "source": [
    "In the cells below, data augmentation is applied to training set. \n",
    "\n",
    "The size of the data set is small, that's why the augmentation is necessary to increase the size of the data set and prevent overfitting. No augmentation is applied to validation set, just rescaling to get values between 0 and 1."
   ]
  },
  {
   "cell_type": "code",
   "execution_count": null,
   "metadata": {
    "colab": {},
    "colab_type": "code",
    "id": "R2wTrIt5kCrr"
   },
   "outputs": [],
   "source": [
    "batch_size=16"
   ]
  },
  {
   "cell_type": "code",
   "execution_count": null,
   "metadata": {
    "colab": {},
    "colab_type": "code",
    "id": "chc9Fi7-kCru"
   },
   "outputs": [],
   "source": [
    "train_datagen = ImageDataGenerator(rescale=1./255,   \n",
    "                                    rotation_range=40,\n",
    "                                    width_shift_range=0.2,\n",
    "                                    height_shift_range=0.2,\n",
    "                                    shear_range=0.2,\n",
    "                                    zoom_range=0.2,\n",
    "                                    horizontal_flip=True,)\n",
    "\n",
    "val_datagen = ImageDataGenerator(rescale=1./255)  #We do not augment validation data. we only perform rescale"
   ]
  },
  {
   "cell_type": "markdown",
   "metadata": {
    "colab_type": "text",
    "id": "H_NYk5tfzljn"
   },
   "source": []
  },
  {
   "cell_type": "code",
   "execution_count": null,
   "metadata": {
    "colab": {},
    "colab_type": "code",
    "id": "kot0aMirkCrw"
   },
   "outputs": [],
   "source": [
    "train_generator = train_datagen.flow(X_train, y_train, batch_size=batch_size)\n",
    "val_generator = val_datagen.flow(X_val, y_val, batch_size=batch_size)"
   ]
  },
  {
   "cell_type": "markdown",
   "metadata": {},
   "source": [
    "Since the data imbalanced, class weights are used to cope with that."
   ]
  },
  {
   "cell_type": "code",
   "execution_count": null,
   "metadata": {
    "colab": {
     "base_uri": "https://localhost:8080/",
     "height": 35
    },
    "colab_type": "code",
    "id": "wM-wakoEkCry",
    "outputId": "b565aeb6-8c74-41b7-8892-da64dc947fe1"
   },
   "outputs": [
    {
     "data": {
      "text/plain": [
       "array([0.76160338, 1.45564516])"
      ]
     },
     "execution_count": 22,
     "metadata": {
      "tags": []
     },
     "output_type": "execute_result"
    }
   ],
   "source": [
    "from sklearn.utils import class_weight\n",
    "class_weights = class_weight.compute_class_weight('balanced',\n",
    "                                                 np.unique(y_train),\n",
    "                                                 y_train)\n",
    "class_weights"
   ]
  },
  {
   "cell_type": "code",
   "execution_count": null,
   "metadata": {
    "colab": {
     "base_uri": "https://localhost:8080/",
     "height": 1000
    },
    "colab_type": "code",
    "id": "MWMPmjmukCr0",
    "outputId": "6a9a536a-5ecb-4fc2-8373-72b1ee63fcf5"
   },
   "outputs": [
    {
     "name": "stdout",
     "output_type": "stream",
     "text": [
      "Epoch 1/100\n",
      "67/67 [==============================] - 85s 1s/step - loss: 0.6585 - acc: 0.6474 - val_loss: 0.6394 - val_acc: 0.6641\n",
      "Epoch 2/100\n",
      "67/67 [==============================] - 83s 1s/step - loss: 0.6505 - acc: 0.6522 - val_loss: 0.6605 - val_acc: 0.6706\n",
      "Epoch 3/100\n",
      "67/67 [==============================] - 83s 1s/step - loss: 0.6493 - acc: 0.6598 - val_loss: 0.6368 - val_acc: 0.6745\n",
      "Epoch 4/100\n",
      "67/67 [==============================] - 83s 1s/step - loss: 0.6526 - acc: 0.6508 - val_loss: 0.6666 - val_acc: 0.6275\n",
      "Epoch 5/100\n",
      "67/67 [==============================] - 81s 1s/step - loss: 0.6444 - acc: 0.6609 - val_loss: 0.6154 - val_acc: 0.7020\n",
      "Epoch 6/100\n",
      "67/67 [==============================] - 81s 1s/step - loss: 0.6528 - acc: 0.6494 - val_loss: 0.6424 - val_acc: 0.6667\n",
      "Epoch 7/100\n",
      "67/67 [==============================] - 81s 1s/step - loss: 0.6457 - acc: 0.6605 - val_loss: 0.6484 - val_acc: 0.6471\n",
      "Epoch 8/100\n",
      "67/67 [==============================] - 81s 1s/step - loss: 0.6485 - acc: 0.6517 - val_loss: 0.6475 - val_acc: 0.6588\n",
      "Epoch 9/100\n",
      "67/67 [==============================] - 81s 1s/step - loss: 0.6352 - acc: 0.6615 - val_loss: 0.6212 - val_acc: 0.6824\n",
      "Epoch 10/100\n",
      "67/67 [==============================] - 81s 1s/step - loss: 0.6435 - acc: 0.6499 - val_loss: 0.6524 - val_acc: 0.6431\n",
      "Epoch 11/100\n",
      "67/67 [==============================] - 82s 1s/step - loss: 0.6451 - acc: 0.6577 - val_loss: 0.6460 - val_acc: 0.6667\n",
      "Epoch 12/100\n",
      "67/67 [==============================] - 81s 1s/step - loss: 0.6426 - acc: 0.6559 - val_loss: 0.6225 - val_acc: 0.7059\n",
      "Epoch 13/100\n",
      "67/67 [==============================] - 82s 1s/step - loss: 0.6394 - acc: 0.6568 - val_loss: 0.6988 - val_acc: 0.6196\n",
      "Epoch 14/100\n",
      "67/67 [==============================] - 81s 1s/step - loss: 0.6407 - acc: 0.6621 - val_loss: 0.6393 - val_acc: 0.6627\n",
      "Epoch 15/100\n",
      "67/67 [==============================] - 81s 1s/step - loss: 0.6328 - acc: 0.6677 - val_loss: 0.6311 - val_acc: 0.6706\n",
      "Epoch 16/100\n",
      "67/67 [==============================] - 81s 1s/step - loss: 0.6391 - acc: 0.6550 - val_loss: 0.6388 - val_acc: 0.6588\n",
      "Epoch 17/100\n",
      "67/67 [==============================] - 82s 1s/step - loss: 0.6459 - acc: 0.6411 - val_loss: 0.6386 - val_acc: 0.6706\n",
      "Epoch 18/100\n",
      "67/67 [==============================] - 82s 1s/step - loss: 0.6203 - acc: 0.6810 - val_loss: 0.6431 - val_acc: 0.6602\n",
      "Epoch 19/100\n",
      "67/67 [==============================] - 81s 1s/step - loss: 0.6544 - acc: 0.6323 - val_loss: 0.6507 - val_acc: 0.6431\n",
      "Epoch 20/100\n",
      "67/67 [==============================] - 81s 1s/step - loss: 0.6208 - acc: 0.6777 - val_loss: 0.6181 - val_acc: 0.7216\n",
      "Epoch 21/100\n",
      "67/67 [==============================] - 81s 1s/step - loss: 0.6576 - acc: 0.6242 - val_loss: 0.6482 - val_acc: 0.6510\n",
      "Epoch 22/100\n",
      "67/67 [==============================] - 81s 1s/step - loss: 0.6341 - acc: 0.6625 - val_loss: 0.6498 - val_acc: 0.6588\n",
      "Epoch 23/100\n",
      "67/67 [==============================] - 82s 1s/step - loss: 0.6191 - acc: 0.6714 - val_loss: 0.6440 - val_acc: 0.6510\n",
      "Epoch 24/100\n",
      "67/67 [==============================] - 83s 1s/step - loss: 0.6377 - acc: 0.6506 - val_loss: 0.6410 - val_acc: 0.6588\n",
      "Epoch 25/100\n",
      "67/67 [==============================] - 83s 1s/step - loss: 0.6398 - acc: 0.6512 - val_loss: 0.6380 - val_acc: 0.6706\n",
      "Epoch 26/100\n",
      "67/67 [==============================] - 83s 1s/step - loss: 0.6295 - acc: 0.6578 - val_loss: 0.6493 - val_acc: 0.6745\n",
      "Epoch 27/100\n",
      "67/67 [==============================] - 82s 1s/step - loss: 0.6367 - acc: 0.6533 - val_loss: 0.6516 - val_acc: 0.6588\n",
      "Epoch 28/100\n",
      "67/67 [==============================] - 82s 1s/step - loss: 0.6326 - acc: 0.6560 - val_loss: 0.6518 - val_acc: 0.6784\n",
      "Epoch 29/100\n",
      "67/67 [==============================] - 83s 1s/step - loss: 0.6283 - acc: 0.6602 - val_loss: 0.6512 - val_acc: 0.6510\n",
      "Epoch 30/100\n",
      "67/67 [==============================] - 84s 1s/step - loss: 0.6300 - acc: 0.6548 - val_loss: 0.6571 - val_acc: 0.6627\n",
      "Epoch 31/100\n",
      "67/67 [==============================] - 84s 1s/step - loss: 0.6312 - acc: 0.6509 - val_loss: 0.6485 - val_acc: 0.6667\n",
      "Epoch 32/100\n",
      "67/67 [==============================] - 83s 1s/step - loss: 0.6208 - acc: 0.6629 - val_loss: 0.6518 - val_acc: 0.6471\n",
      "Epoch 33/100\n",
      "67/67 [==============================] - 83s 1s/step - loss: 0.6170 - acc: 0.6639 - val_loss: 0.6454 - val_acc: 0.6784\n",
      "Epoch 34/100\n",
      "67/67 [==============================] - 84s 1s/step - loss: 0.6250 - acc: 0.6573 - val_loss: 0.6570 - val_acc: 0.6588\n",
      "Epoch 35/100\n",
      "67/67 [==============================] - 83s 1s/step - loss: 0.6202 - acc: 0.6671 - val_loss: 0.6671 - val_acc: 0.6445\n",
      "Epoch 36/100\n",
      "67/67 [==============================] - 83s 1s/step - loss: 0.6288 - acc: 0.6573 - val_loss: 0.6517 - val_acc: 0.6510\n",
      "Epoch 37/100\n",
      "67/67 [==============================] - 84s 1s/step - loss: 0.6254 - acc: 0.6518 - val_loss: 0.6583 - val_acc: 0.6431\n",
      "Epoch 38/100\n",
      "67/67 [==============================] - 84s 1s/step - loss: 0.6075 - acc: 0.6721 - val_loss: 0.6604 - val_acc: 0.6510\n",
      "Epoch 39/100\n",
      "67/67 [==============================] - 84s 1s/step - loss: 0.6361 - acc: 0.6503 - val_loss: 0.6487 - val_acc: 0.6588\n",
      "Epoch 40/100\n",
      "67/67 [==============================] - 84s 1s/step - loss: 0.6185 - acc: 0.6592 - val_loss: 0.6506 - val_acc: 0.6706\n",
      "Epoch 41/100\n",
      "67/67 [==============================] - 84s 1s/step - loss: 0.6133 - acc: 0.6629 - val_loss: 0.6355 - val_acc: 0.7059\n",
      "Epoch 42/100\n",
      "67/67 [==============================] - 83s 1s/step - loss: 0.6114 - acc: 0.6598 - val_loss: 0.6888 - val_acc: 0.6157\n",
      "Epoch 43/100\n",
      "67/67 [==============================] - 84s 1s/step - loss: 0.6197 - acc: 0.6630 - val_loss: 0.6543 - val_acc: 0.6510\n",
      "Epoch 44/100\n",
      "67/67 [==============================] - 84s 1s/step - loss: 0.6139 - acc: 0.6724 - val_loss: 0.6598 - val_acc: 0.6627\n",
      "Epoch 45/100\n",
      "67/67 [==============================] - 84s 1s/step - loss: 0.6189 - acc: 0.6633 - val_loss: 0.6407 - val_acc: 0.6667\n",
      "Epoch 46/100\n",
      "67/67 [==============================] - 83s 1s/step - loss: 0.6185 - acc: 0.6616 - val_loss: 0.6716 - val_acc: 0.6431\n",
      "Epoch 47/100\n",
      "67/67 [==============================] - 82s 1s/step - loss: 0.6219 - acc: 0.6687 - val_loss: 0.6542 - val_acc: 0.6784\n",
      "Epoch 48/100\n",
      "67/67 [==============================] - 82s 1s/step - loss: 0.6189 - acc: 0.6559 - val_loss: 0.6358 - val_acc: 0.6588\n",
      "Epoch 49/100\n",
      "67/67 [==============================] - 81s 1s/step - loss: 0.6133 - acc: 0.6555 - val_loss: 0.6895 - val_acc: 0.6314\n",
      "Epoch 50/100\n",
      "67/67 [==============================] - 82s 1s/step - loss: 0.6098 - acc: 0.6644 - val_loss: 0.6516 - val_acc: 0.6431\n",
      "Epoch 51/100\n",
      "67/67 [==============================] - 82s 1s/step - loss: 0.6109 - acc: 0.6732 - val_loss: 0.6480 - val_acc: 0.6510\n",
      "Epoch 52/100\n",
      "67/67 [==============================] - 82s 1s/step - loss: 0.6155 - acc: 0.6598 - val_loss: 0.6559 - val_acc: 0.6680\n",
      "Epoch 53/100\n",
      "67/67 [==============================] - 81s 1s/step - loss: 0.6208 - acc: 0.6481 - val_loss: 0.6567 - val_acc: 0.6392\n",
      "Epoch 54/100\n",
      "67/67 [==============================] - 82s 1s/step - loss: 0.6214 - acc: 0.6620 - val_loss: 0.6403 - val_acc: 0.6588\n",
      "Epoch 55/100\n",
      "67/67 [==============================] - 82s 1s/step - loss: 0.5995 - acc: 0.6937 - val_loss: 0.6552 - val_acc: 0.6510\n",
      "Epoch 56/100\n",
      "67/67 [==============================] - 81s 1s/step - loss: 0.6050 - acc: 0.6774 - val_loss: 0.6760 - val_acc: 0.6471\n",
      "Epoch 57/100\n",
      "67/67 [==============================] - 82s 1s/step - loss: 0.6213 - acc: 0.6593 - val_loss: 0.6328 - val_acc: 0.6667\n",
      "Epoch 58/100\n",
      "67/67 [==============================] - 82s 1s/step - loss: 0.6114 - acc: 0.6715 - val_loss: 0.6735 - val_acc: 0.6078\n",
      "Epoch 59/100\n",
      "67/67 [==============================] - 82s 1s/step - loss: 0.6078 - acc: 0.6665 - val_loss: 0.6411 - val_acc: 0.6471\n",
      "Epoch 60/100\n",
      "67/67 [==============================] - 82s 1s/step - loss: 0.6102 - acc: 0.6858 - val_loss: 0.6665 - val_acc: 0.6745\n",
      "Epoch 61/100\n",
      "67/67 [==============================] - 82s 1s/step - loss: 0.6124 - acc: 0.6691 - val_loss: 0.6546 - val_acc: 0.6039\n",
      "Epoch 62/100\n",
      "67/67 [==============================] - 82s 1s/step - loss: 0.5984 - acc: 0.6750 - val_loss: 0.7122 - val_acc: 0.6157\n",
      "Epoch 63/100\n",
      "67/67 [==============================] - 80s 1s/step - loss: 0.6134 - acc: 0.6505 - val_loss: 0.6472 - val_acc: 0.6314\n",
      "Epoch 64/100\n",
      "67/67 [==============================] - 80s 1s/step - loss: 0.5958 - acc: 0.6726 - val_loss: 0.6826 - val_acc: 0.6118\n",
      "Epoch 65/100\n",
      "67/67 [==============================] - 81s 1s/step - loss: 0.6121 - acc: 0.6643 - val_loss: 0.6543 - val_acc: 0.6275\n",
      "Epoch 66/100\n",
      "67/67 [==============================] - 82s 1s/step - loss: 0.6072 - acc: 0.6649 - val_loss: 0.6887 - val_acc: 0.5882\n",
      "Epoch 67/100\n",
      "67/67 [==============================] - 83s 1s/step - loss: 0.6024 - acc: 0.6691 - val_loss: 0.6612 - val_acc: 0.6471\n",
      "Epoch 68/100\n",
      "67/67 [==============================] - 81s 1s/step - loss: 0.6071 - acc: 0.6574 - val_loss: 0.6773 - val_acc: 0.6627\n",
      "Epoch 69/100\n",
      "67/67 [==============================] - 82s 1s/step - loss: 0.5944 - acc: 0.6856 - val_loss: 0.6469 - val_acc: 0.6523\n",
      "Epoch 70/100\n",
      "67/67 [==============================] - 82s 1s/step - loss: 0.5962 - acc: 0.6775 - val_loss: 0.6819 - val_acc: 0.6549\n",
      "Epoch 71/100\n",
      "67/67 [==============================] - 82s 1s/step - loss: 0.6008 - acc: 0.6773 - val_loss: 0.6630 - val_acc: 0.6235\n",
      "Epoch 72/100\n",
      "67/67 [==============================] - 81s 1s/step - loss: 0.6004 - acc: 0.6718 - val_loss: 0.7045 - val_acc: 0.6118\n",
      "Epoch 73/100\n",
      "67/67 [==============================] - 82s 1s/step - loss: 0.5940 - acc: 0.6736 - val_loss: 0.6571 - val_acc: 0.6431\n",
      "Epoch 74/100\n",
      "67/67 [==============================] - 82s 1s/step - loss: 0.6078 - acc: 0.6722 - val_loss: 0.6728 - val_acc: 0.6627\n",
      "Epoch 75/100\n",
      "67/67 [==============================] - 82s 1s/step - loss: 0.5904 - acc: 0.6806 - val_loss: 0.6271 - val_acc: 0.6902\n",
      "Epoch 76/100\n",
      "67/67 [==============================] - 81s 1s/step - loss: 0.5958 - acc: 0.6607 - val_loss: 0.6564 - val_acc: 0.6392\n",
      "Epoch 77/100\n",
      "67/67 [==============================] - 82s 1s/step - loss: 0.5882 - acc: 0.6891 - val_loss: 0.7305 - val_acc: 0.5725\n",
      "Epoch 78/100\n",
      "67/67 [==============================] - 81s 1s/step - loss: 0.5981 - acc: 0.6737 - val_loss: 0.6798 - val_acc: 0.6667\n",
      "Epoch 79/100\n",
      "67/67 [==============================] - 82s 1s/step - loss: 0.6026 - acc: 0.6726 - val_loss: 0.6206 - val_acc: 0.6706\n",
      "Epoch 80/100\n",
      "67/67 [==============================] - 82s 1s/step - loss: 0.5933 - acc: 0.6838 - val_loss: 0.7251 - val_acc: 0.6078\n",
      "Epoch 81/100\n",
      "67/67 [==============================] - 82s 1s/step - loss: 0.5887 - acc: 0.6911 - val_loss: 0.6971 - val_acc: 0.6667\n",
      "Epoch 82/100\n",
      "67/67 [==============================] - 82s 1s/step - loss: 0.5985 - acc: 0.6745 - val_loss: 0.6544 - val_acc: 0.6078\n",
      "Epoch 83/100\n",
      "67/67 [==============================] - 83s 1s/step - loss: 0.5839 - acc: 0.6833 - val_loss: 0.6722 - val_acc: 0.6745\n",
      "Epoch 84/100\n",
      "67/67 [==============================] - 83s 1s/step - loss: 0.5820 - acc: 0.6806 - val_loss: 0.7066 - val_acc: 0.6588\n",
      "Epoch 85/100\n",
      "67/67 [==============================] - 83s 1s/step - loss: 0.5739 - acc: 0.6750 - val_loss: 0.6679 - val_acc: 0.6706\n",
      "Epoch 86/100\n",
      "67/67 [==============================] - 83s 1s/step - loss: 0.5993 - acc: 0.6456 - val_loss: 0.6750 - val_acc: 0.6406\n",
      "Epoch 87/100\n",
      "67/67 [==============================] - 83s 1s/step - loss: 0.5671 - acc: 0.7095 - val_loss: 0.6804 - val_acc: 0.6667\n",
      "Epoch 88/100\n",
      "67/67 [==============================] - 83s 1s/step - loss: 0.5849 - acc: 0.6900 - val_loss: 0.6763 - val_acc: 0.6745\n",
      "Epoch 89/100\n",
      "67/67 [==============================] - 82s 1s/step - loss: 0.5947 - acc: 0.6784 - val_loss: 0.6732 - val_acc: 0.6667\n",
      "Epoch 90/100\n",
      "67/67 [==============================] - 82s 1s/step - loss: 0.5841 - acc: 0.7003 - val_loss: 0.6964 - val_acc: 0.6078\n",
      "Epoch 91/100\n",
      "67/67 [==============================] - 82s 1s/step - loss: 0.5789 - acc: 0.6834 - val_loss: 0.6890 - val_acc: 0.6745\n",
      "Epoch 92/100\n",
      "67/67 [==============================] - 82s 1s/step - loss: 0.5899 - acc: 0.6839 - val_loss: 0.6799 - val_acc: 0.6157\n",
      "Epoch 93/100\n",
      "67/67 [==============================] - 82s 1s/step - loss: 0.5719 - acc: 0.6970 - val_loss: 0.7055 - val_acc: 0.6353\n",
      "Epoch 94/100\n",
      "67/67 [==============================] - 81s 1s/step - loss: 0.5937 - acc: 0.6708 - val_loss: 0.6603 - val_acc: 0.6431\n",
      "Epoch 95/100\n",
      "67/67 [==============================] - 82s 1s/step - loss: 0.5661 - acc: 0.7063 - val_loss: 0.6742 - val_acc: 0.6196\n",
      "Epoch 96/100\n",
      "67/67 [==============================] - 82s 1s/step - loss: 0.5724 - acc: 0.7105 - val_loss: 0.6770 - val_acc: 0.6392\n",
      "Epoch 97/100\n",
      "67/67 [==============================] - 82s 1s/step - loss: 0.5801 - acc: 0.6858 - val_loss: 0.7193 - val_acc: 0.6471\n",
      "Epoch 98/100\n",
      "67/67 [==============================] - 85s 1s/step - loss: 0.5753 - acc: 0.6904 - val_loss: 0.6382 - val_acc: 0.6549\n",
      "Epoch 99/100\n",
      "67/67 [==============================] - 86s 1s/step - loss: 0.5836 - acc: 0.6918 - val_loss: 0.6733 - val_acc: 0.6667\n",
      "Epoch 100/100\n",
      "67/67 [==============================] - 87s 1s/step - loss: 0.5790 - acc: 0.6732 - val_loss: 0.6715 - val_acc: 0.6235\n"
     ]
    }
   ],
   "source": [
    "from keras.callbacks import EarlyStopping,ModelCheckpoint\n",
    "\n",
    "history = model.fit_generator(train_generator,\n",
    "                              steps_per_epoch= ntrain // batch_size,\n",
    "                              epochs=100,\n",
    "                              validation_data=val_generator,\n",
    "                              class_weight=class_weights, \n",
    "                              validation_steps=nval // batch_size\n",
    "                              ,callbacks=[ModelCheckpoint('learningrate100epoch1e-4.model', monitor='val_acc', save_best_only=True)]) "
   ]
  },
  {
   "cell_type": "code",
   "execution_count": null,
   "metadata": {
    "colab": {},
    "colab_type": "code",
    "id": "U46rZf0R4m81"
   },
   "outputs": [],
   "source": [
    "model.load_weights('learningrate100epoch1e-4.model')"
   ]
  },
  {
   "cell_type": "code",
   "execution_count": null,
   "metadata": {
    "colab": {
     "base_uri": "https://localhost:8080/",
     "height": 545
    },
    "colab_type": "code",
    "id": "8w7SjZdRkCr5",
    "outputId": "66a54d68-fa29-42f1-b563-2544fb2a2d8f"
   },
   "outputs": [
    {
     "data": {
      "image/png": "[encoded data removed]",
      "text/plain": [
       "<Figure size 432x288 with 1 Axes>"
      ]
     },
     "metadata": {
      "tags": []
     },
     "output_type": "display_data"
    },
    {
     "data": {
      "image/png": "[encoded data removed]",
      "text/plain": [
       "<Figure size 432x288 with 1 Axes>"
      ]
     },
     "metadata": {
      "tags": []
     },
     "output_type": "display_data"
    }
   ],
   "source": [
    "acc = history.history['acc']\n",
    "val_acc = history.history['val_acc']\n",
    "loss = history.history['loss']\n",
    "val_loss = history.history['val_loss']\n",
    "\n",
    "epochs = range(1, len(acc) + 1)\n",
    "\n",
    "\n",
    "plt.plot(epochs, acc, 'b', label='Training accurarcy')\n",
    "plt.plot(epochs, val_acc, 'r', label='Validation accurarcy')\n",
    "plt.title('Training and Validation accurarcy')\n",
    "plt.legend()\n",
    "\n",
    "plt.figure()\n",
    "\n",
    "plt.plot(epochs, loss, 'b', label='Training loss')\n",
    "plt.plot(epochs, val_loss, 'r', label='Validation loss')\n",
    "plt.title('Training and Validation loss')\n",
    "plt.legend()\n",
    "\n",
    "plt.show()"
   ]
  },
  {
   "cell_type": "markdown",
   "metadata": {},
   "source": [
    "The model trained for 100 epochs. The first graph above shows the training accuracy and validation accuracy change between the epochs and the second one shows the training and validation loss. \n",
    "\n",
    "Although some techniques are used to overfitting, it can be seen that there is overfitting. Training accurcay is increasing while validation accuracy is decreasing. "
   ]
  },
  {
   "cell_type": "markdown",
   "metadata": {},
   "source": [
    "In the cells below, test images are read and rescaled with ImageDataGenerator. Then the predictions are created for the unknown test images."
   ]
  },
  {
   "cell_type": "code",
   "execution_count": null,
   "metadata": {
    "colab": {},
    "colab_type": "code",
    "id": "-aikmL4ckCr9"
   },
   "outputs": [],
   "source": [
    "test_dir = 'drive/My Drive/adams-faces-ss19/testing/unknown'\n",
    "test_imgs = ['drive/My Drive/adams-faces-ss19/testing/unknown/{}'.format(i) for i in os.listdir(test_dir)] #get test images"
   ]
  },
  {
   "cell_type": "code",
   "execution_count": null,
   "metadata": {
    "colab": {},
    "colab_type": "code",
    "id": "nAlhyaiTkCsA"
   },
   "outputs": [],
   "source": [
    "X_test, y_test= read_image(test_imgs) #Y_test in this case will be empty.\n",
    "x = np.array(X_test)\n",
    "test_datagen = ImageDataGenerator(rescale=1./255)"
   ]
  },
  {
   "cell_type": "code",
   "execution_count": null,
   "metadata": {
    "colab": {},
    "colab_type": "code",
    "id": "Onpj1ZNBkCsD"
   },
   "outputs": [],
   "source": [
    "testset= test_datagen.flow(x,shuffle= False, batch_size=1)"
   ]
  },
  {
   "cell_type": "code",
   "execution_count": null,
   "metadata": {
    "colab": {},
    "colab_type": "code",
    "id": "4lbWcbCXkCsG"
   },
   "outputs": [],
   "source": [
    "probs=model.predict_generator(testset, steps= len(test_imgs))"
   ]
  },
  {
   "cell_type": "code",
   "execution_count": null,
   "metadata": {
    "colab": {
     "base_uri": "https://localhost:8080/",
     "height": 1000
    },
    "colab_type": "code",
    "id": "CO9uH_uAkCsJ",
    "outputId": "87e4c604-22bc-43f6-966f-b1de0f83455c"
   },
   "outputs": [
    {
     "data": {
      "text/plain": [
       "array([0.40165296, 0.3060777 , 0.33087662, 0.28863636, 0.36211267,\n",
       "       0.33003286, 0.37702435, 0.41556913, 0.39910737, 0.4339835 ,\n",
       "       0.41045386, 0.3528285 , 0.40051904, 0.2870574 , 0.41071486,\n",
       "       0.37007648, 0.31717283, 0.33947253, 0.37459773, 0.34447622,\n",
       "       0.45395923, 0.31287903, 0.40622962, 0.39212874, 0.4427722 ,\n",
       "       0.28969988, 0.28003225, 0.37354702, 0.2032317 , 0.3753341 ,\n",
       "       0.22721301, 0.39891568, 0.4004346 , 0.37397847, 0.17289276,\n",
       "       0.36220855, 0.39466345, 0.35641676, 0.40464962, 0.37434396,\n",
       "       0.28923658, 0.4307086 , 0.29674911, 0.41554996, 0.40530252,\n",
       "       0.3610758 , 0.3584099 , 0.36443365, 0.41848627, 0.46869567,\n",
       "       0.34197497, 0.42658794, 0.35793605, 0.3726504 , 0.26466697,\n",
       "       0.3275471 , 0.35995457, 0.4124109 , 0.40947276, 0.3700321 ,\n",
       "       0.3623778 , 0.29518646, 0.41360918, 0.2993428 , 0.48172942,\n",
       "       0.42433336, 0.43301836, 0.36035588, 0.39750078, 0.35082754,\n",
       "       0.39724845, 0.32781518, 0.45412716, 0.30758852, 0.31316364,\n",
       "       0.4673854 , 0.31372103, 0.39609113, 0.310859  , 0.3686709 ,\n",
       "       0.37814185, 0.42688113, 0.37800786, 0.39866537, 0.3514888 ,\n",
       "       0.46094972, 0.35765654, 0.41688818, 0.3150072 , 0.3957363 ,\n",
       "       0.33907774, 0.40862003, 0.44446647, 0.32138047, 0.40054855,\n",
       "       0.3827825 , 0.33344194, 0.41235453, 0.36112356, 0.38873088,\n",
       "       0.48062974, 0.3640889 , 0.26676267, 0.35300177, 0.42081884,\n",
       "       0.34828776, 0.31493872, 0.37174636, 0.40049535, 0.45056212,\n",
       "       0.40960455, 0.4321568 , 0.34734797, 0.34467277, 0.3054841 ,\n",
       "       0.36977535, 0.3122215 , 0.38438657, 0.3853549 , 0.40043217,\n",
       "       0.44102618, 0.3683877 , 0.3678438 , 0.27298272, 0.38966206,\n",
       "       0.44624507, 0.3493305 , 0.36339736, 0.34969106, 0.38417962,\n",
       "       0.401575  , 0.38845846, 0.393355  , 0.380317  , 0.38693327,\n",
       "       0.42123926, 0.37546217, 0.3821753 , 0.43599716, 0.35746858,\n",
       "       0.41324967, 0.38381857, 0.34325272, 0.40035492, 0.41144702,\n",
       "       0.3545222 , 0.30156928, 0.34836602, 0.3746791 , 0.37895128,\n",
       "       0.4135313 , 0.42558032, 0.42941648, 0.4031691 , 0.40690097,\n",
       "       0.29024616, 0.30880052, 0.11794239, 0.42122757, 0.39159372,\n",
       "       0.3368745 , 0.31142414, 0.4590042 , 0.38265198, 0.3234573 ,\n",
       "       0.31281003, 0.3359604 , 0.3499284 , 0.38304362, 0.38813096,\n",
       "       0.2790546 , 0.43326634, 0.3210137 , 0.32940093, 0.28273052,\n",
       "       0.28140503, 0.3529578 , 0.3476505 , 0.40344402, 0.3807804 ,\n",
       "       0.38599405, 0.3647995 , 0.37935203, 0.33648595, 0.16673356,\n",
       "       0.30121383, 0.3731556 , 0.3386141 , 0.38687882, 0.4371122 ,\n",
       "       0.43499252, 0.3977387 , 0.40898767, 0.3694077 , 0.3824461 ,\n",
       "       0.43101922, 0.3840363 , 0.37552485, 0.4119955 , 0.40819088,\n",
       "       0.3926648 , 0.29656246, 0.42642376, 0.36293575, 0.4485413 ,\n",
       "       0.36817765, 0.3752309 , 0.41445118, 0.38129842, 0.34225467,\n",
       "       0.41935962, 0.43756056, 0.31073788, 0.41696116, 0.3634343 ,\n",
       "       0.48417535, 0.41239527, 0.378718  , 0.4371995 , 0.34384346,\n",
       "       0.4484045 , 0.43736142, 0.35512477, 0.20942196, 0.3912498 ,\n",
       "       0.34415448, 0.32224813, 0.22553766, 0.40482098, 0.3296232 ,\n",
       "       0.36935103, 0.40811303, 0.40797117, 0.18098691, 0.38656545,\n",
       "       0.36752343, 0.08483016, 0.43068683, 0.45328867, 0.40425888,\n",
       "       0.4398633 , 0.45616034, 0.4247886 , 0.4151437 , 0.33836678,\n",
       "       0.42554116, 0.37501624, 0.3960588 , 0.35878155, 0.32892781,\n",
       "       0.3495146 , 0.45064223, 0.35233796, 0.4257136 , 0.43877456,\n",
       "       0.38908786, 0.37964368, 0.30258685, 0.34017935, 0.39765015,\n",
       "       0.34326807, 0.32815263, 0.4416751 , 0.3178493 , 0.39557427,\n",
       "       0.44133222, 0.42906138, 0.4211729 , 0.38768175, 0.41156772,\n",
       "       0.4082287 , 0.37557745, 0.3291696 , 0.36116526, 0.35638884,\n",
       "       0.3639131 , 0.40234137, 0.33770272, 0.38293642, 0.4287703 ,\n",
       "       0.36304638, 0.21649483, 0.4500468 , 0.39033747, 0.35755005,\n",
       "       0.38821796, 0.3859377 , 0.3751095 , 0.3152693 , 0.4130979 ,\n",
       "       0.32146314, 0.40171525, 0.31821668, 0.36722356, 0.32349226,\n",
       "       0.31417957, 0.32090884, 0.37514323, 0.32679254, 0.42781115,\n",
       "       0.33942115, 0.33511832, 0.42684913, 0.41913816, 0.33186993,\n",
       "       0.39565438, 0.42822406, 0.32227263, 0.4212518 , 0.36538115,\n",
       "       0.43388993, 0.45190915, 0.34392098, 0.32645968, 0.37547636,\n",
       "       0.42128226, 0.3575051 , 0.35954097, 0.35238594, 0.46299   ,\n",
       "       0.432139  , 0.39331263, 0.3861102 , 0.37470198, 0.37755007,\n",
       "       0.42982414, 0.39181265, 0.38758785, 0.38010627, 0.33249   ,\n",
       "       0.4217545 , 0.4342648 , 0.26764572, 0.3394307 , 0.42303586,\n",
       "       0.37529624, 0.3817017 , 0.34523243, 0.40509114, 0.341129  ,\n",
       "       0.15323488, 0.42489678, 0.3691892 , 0.40763235, 0.35707211,\n",
       "       0.43897238, 0.4079058 , 0.349892  , 0.2532116 , 0.39825216,\n",
       "       0.42570105, 0.28880635, 0.33194155, 0.39458597, 0.3267922 ,\n",
       "       0.4035193 , 0.41809237, 0.35254025, 0.36561388, 0.41568154,\n",
       "       0.45817846, 0.42562422, 0.37136638, 0.28279904, 0.37725875,\n",
       "       0.3980154 , 0.42661878, 0.3758117 , 0.26296073, 0.44929677,\n",
       "       0.42810902, 0.34233677, 0.29351172, 0.22644466, 0.44132024,\n",
       "       0.3055224 , 0.4272629 , 0.43483725, 0.37846977, 0.42896548,\n",
       "       0.1261229 , 0.44016272, 0.07271483, 0.3912813 , 0.32435653,\n",
       "       0.3420138 , 0.41167372, 0.19446997, 0.37937954, 0.2879884 ,\n",
       "       0.36503708, 0.37230816, 0.4158439 , 0.40101537, 0.37607065,\n",
       "       0.38179365, 0.37093988, 0.38332444, 0.36198178, 0.3177145 ,\n",
       "       0.3903378 , 0.39383066, 0.41470107, 0.44558328, 0.355179  ,\n",
       "       0.218253  , 0.47280002, 0.37129802, 0.31952053, 0.35715398,\n",
       "       0.40992555, 0.38870516, 0.39849347, 0.3482578 , 0.3885523 ,\n",
       "       0.35351446, 0.41802412, 0.32886684, 0.338381  , 0.29513246,\n",
       "       0.37780458, 0.417193  , 0.31999728, 0.31526434, 0.3236842 ,\n",
       "       0.38711753, 0.42735472, 0.25418726, 0.3679544 , 0.3626955 ,\n",
       "       0.20198238, 0.30450857, 0.3311952 , 0.38625202, 0.23584583,\n",
       "       0.38578895, 0.3548014 , 0.44564137, 0.28389257, 0.41202506,\n",
       "       0.20699598, 0.35865676, 0.40786824, 0.37378505, 0.37817907,\n",
       "       0.32332757, 0.4386276 , 0.22191653, 0.31398028, 0.39152616,\n",
       "       0.38871405, 0.40266237, 0.31501985, 0.41320238, 0.4362806 ,\n",
       "       0.40377918, 0.32508942, 0.3454113 , 0.48214468, 0.31642812,\n",
       "       0.40956065, 0.26991597, 0.13099554, 0.45307297, 0.363494  ,\n",
       "       0.3305234 , 0.3553869 , 0.43279788, 0.362422  , 0.37513137,\n",
       "       0.39777133, 0.27400708, 0.39369157, 0.40564507, 0.33284402,\n",
       "       0.3512836 , 0.32724965, 0.41926315, 0.39009044, 0.42869082,\n",
       "       0.44268766], dtype=float32)"
      ]
     },
     "execution_count": 30,
     "metadata": {
      "tags": []
     },
     "output_type": "execute_result"
    }
   ],
   "source": [
    "probs=probs.reshape((481,))\n",
    "probs"
   ]
  },
  {
   "cell_type": "code",
   "execution_count": null,
   "metadata": {
    "colab": {},
    "colab_type": "code",
    "id": "hE959b-qkCsL"
   },
   "outputs": [],
   "source": [
    "i=0\n",
    "predictions = []\n",
    "for i in probs: \n",
    "    if i > 0.5:\n",
    "        predictions.append(1)\n",
    "    else:\n",
    "        predictions.append(0)\n",
    "    i += 1\n",
    "    if i %  len(x) == 0:\n",
    "        break"
   ]
  },
  {
   "cell_type": "markdown",
   "metadata": {},
   "source": [
    "Probabilites are turning into 1 if they are greater than 0.5, and into 0 if they are smaller than 0.5. 1 means that the predictions is 'fake', 0 means that the prediction is 'real'."
   ]
  },
  {
   "cell_type": "code",
   "execution_count": null,
   "metadata": {
    "colab": {
     "base_uri": "https://localhost:8080/",
     "height": 35
    },
    "colab_type": "code",
    "id": "kAXZpQdlkCsN",
    "outputId": "44f270ed-3d53-4453-ae70-1f5f32e8e2a2"
   },
   "outputs": [
    {
     "data": {
      "text/plain": [
       "0"
      ]
     },
     "execution_count": 32,
     "metadata": {
      "tags": []
     },
     "output_type": "execute_result"
    }
   ],
   "source": [
    "sum(predictions)"
   ]
  },
  {
   "cell_type": "markdown",
   "metadata": {},
   "source": [
    "All the probabilities is below 0.5 and the sum of the predictions is 0, which means that the model is unable to predict some images as 'fake'. "
   ]
  },
  {
   "cell_type": "markdown",
   "metadata": {},
   "source": [
    "Since the model is not performing well, a pretrained model is used for further improvement."
   ]
  },
  {
   "cell_type": "markdown",
   "metadata": {
    "colab_type": "text",
    "id": "goBagR8KkCsl"
   },
   "source": [
    "### 3.2 VGG&Transfer Learning"
   ]
  },
  {
   "cell_type": "markdown",
   "metadata": {},
   "source": [
    "Instead of building models from scratch, one can start with some patterns that have been trained before. One can \"transfer\" learning to build accurate models at the same time save some time. Transfer learning can be done by the use of some pre-trained models that were trained for similar purposes before[3]. \n",
    "\n",
    "VGG16 is one of the models have been trained on the image net dataset[4]. VGG16 is used as the pre-trained model in this project."
   ]
  },
  {
   "cell_type": "code",
   "execution_count": null,
   "metadata": {
    "colab": {},
    "colab_type": "code",
    "id": "bcgjkuHFywEt"
   },
   "outputs": [],
   "source": [
    "from keras.applications.vgg16 import preprocess_input\n",
    "\n",
    "train_datagen = ImageDataGenerator( \n",
    "                                    rotation_range=40,\n",
    "                                    width_shift_range=0.2,\n",
    "                                    height_shift_range=0.2,\n",
    "                                    shear_range=0.2,\n",
    "                                   zoom_range=0.2,\n",
    "                                    horizontal_flip=True, preprocessing_function=preprocess_input)\n",
    "\n",
    "\n",
    "val_datagen = ImageDataGenerator(preprocessing_function=preprocess_input)  "
   ]
  },
  {
   "cell_type": "code",
   "execution_count": null,
   "metadata": {
    "colab": {},
    "colab_type": "code",
    "id": "GTcnzBacy5xr"
   },
   "outputs": [],
   "source": [
    "batch_size=16\n",
    "train_generator = train_datagen.flow(X_train, y_train, batch_size=batch_size)\n",
    "val_generator = val_datagen.flow(X_val, y_val, batch_size=batch_size)"
   ]
  },
  {
   "cell_type": "markdown",
   "metadata": {},
   "source": [
    "Until now, the training set and validation is created again with the ImageDataGenerator. Batch size is selected as 16."
   ]
  },
  {
   "cell_type": "code",
   "execution_count": null,
   "metadata": {
    "colab": {},
    "colab_type": "code",
    "id": "J2lEvZ4WkCsm"
   },
   "outputs": [],
   "source": [
    "from keras.applications.vgg16 import VGG16"
   ]
  },
  {
   "cell_type": "code",
   "execution_count": null,
   "metadata": {
    "colab": {
     "base_uri": "https://localhost:8080/",
     "height": 292
    },
    "colab_type": "code",
    "id": "0V69j70vkCsm",
    "outputId": "2e9ba0a3-432c-4fa0-b26b-6307c92149fb"
   },
   "outputs": [],
   "source": [
    "vgg = VGG16(weights='imagenet', include_top=False, input_shape=(600,600,3)) \n",
    "for layer in vgg.layers:\n",
    "    layer.trainable=False"
   ]
  },
  {
   "cell_type": "markdown",
   "metadata": {},
   "source": [
    "The layers that is coming from VGG16 is frozen, which means that they will not be trainable."
   ]
  },
  {
   "cell_type": "code",
   "execution_count": null,
   "metadata": {
    "colab": {},
    "colab_type": "code",
    "id": "_bn4aY4kn7JC"
   },
   "outputs": [],
   "source": [
    "from keras.layers import Dense,GlobalAveragePooling2D, Flatten\n",
    "from keras.models import Model\n",
    "from keras.regularizers import l2\n",
    "\n",
    "a=vgg.output\n",
    "a=Flatten()(a)\n",
    "a=Dense(16,activation='relu')(a)\n",
    "a=Dense(16,activation='relu')(a) \n",
    "preds1=Dense(1,activation='sigmoid')(a) "
   ]
  },
  {
   "cell_type": "markdown",
   "metadata": {},
   "source": [
    "On top the layers coming from VGG, Flatten and Dense layers are added.Those layers are the layers that will be trainable."
   ]
  },
  {
   "cell_type": "code",
   "execution_count": null,
   "metadata": {
    "colab": {},
    "colab_type": "code",
    "id": "RshgQFJxoBtB"
   },
   "outputs": [],
   "source": [
    "model1=Model(inputs=vgg.input,outputs=preds1)"
   ]
  },
  {
   "cell_type": "code",
   "execution_count": null,
   "metadata": {
    "colab": {
     "base_uri": "https://localhost:8080/",
     "height": 122
    },
    "colab_type": "code",
    "id": "zhzI0RFkoE6Y",
    "outputId": "13af2a2b-bbc1-431b-d908-25faa12b8955"
   },
   "outputs": [],
   "source": [
    "from keras import optimizers\n",
    "model1.compile(optimizer=optimizers.Adam(lr=1e-4),loss='binary_crossentropy',metrics=['accuracy']) "
   ]
  },
  {
   "cell_type": "markdown",
   "metadata": {},
   "source": [
    "Adam optimizer with learning rate 1e-4 is chosen. Loss is again binary_crossentropy because the problem is binary classification problem. Lastlly, accuracy is chosen as the metrics."
   ]
  },
  {
   "cell_type": "code",
   "execution_count": null,
   "metadata": {
    "colab": {
     "base_uri": "https://localhost:8080/",
     "height": 918
    },
    "colab_type": "code",
    "id": "m1NaND4TECZ3",
    "outputId": "e720052f-3a90-420d-d4b5-08e331203e67"
   },
   "outputs": [
    {
     "name": "stdout",
     "output_type": "stream",
     "text": [
      "_________________________________________________________________\n",
      "Layer (type)                 Output Shape              Param #   \n",
      "=================================================================\n",
      "input_1 (InputLayer)         (None, 600, 600, 3)       0         \n",
      "_________________________________________________________________\n",
      "block1_conv1 (Conv2D)        (None, 600, 600, 64)      1792      \n",
      "_________________________________________________________________\n",
      "block1_conv2 (Conv2D)        (None, 600, 600, 64)      36928     \n",
      "_________________________________________________________________\n",
      "block1_pool (MaxPooling2D)   (None, 300, 300, 64)      0         \n",
      "_________________________________________________________________\n",
      "block2_conv1 (Conv2D)        (None, 300, 300, 128)     73856     \n",
      "_________________________________________________________________\n",
      "block2_conv2 (Conv2D)        (None, 300, 300, 128)     147584    \n",
      "_________________________________________________________________\n",
      "block2_pool (MaxPooling2D)   (None, 150, 150, 128)     0         \n",
      "_________________________________________________________________\n",
      "block3_conv1 (Conv2D)        (None, 150, 150, 256)     295168    \n",
      "_________________________________________________________________\n",
      "block3_conv2 (Conv2D)        (None, 150, 150, 256)     590080    \n",
      "_________________________________________________________________\n",
      "block3_conv3 (Conv2D)        (None, 150, 150, 256)     590080    \n",
      "_________________________________________________________________\n",
      "block3_pool (MaxPooling2D)   (None, 75, 75, 256)       0         \n",
      "_________________________________________________________________\n",
      "block4_conv1 (Conv2D)        (None, 75, 75, 512)       1180160   \n",
      "_________________________________________________________________\n",
      "block4_conv2 (Conv2D)        (None, 75, 75, 512)       2359808   \n",
      "_________________________________________________________________\n",
      "block4_conv3 (Conv2D)        (None, 75, 75, 512)       2359808   \n",
      "_________________________________________________________________\n",
      "block4_pool (MaxPooling2D)   (None, 37, 37, 512)       0         \n",
      "_________________________________________________________________\n",
      "block5_conv1 (Conv2D)        (None, 37, 37, 512)       2359808   \n",
      "_________________________________________________________________\n",
      "block5_conv2 (Conv2D)        (None, 37, 37, 512)       2359808   \n",
      "_________________________________________________________________\n",
      "block5_conv3 (Conv2D)        (None, 37, 37, 512)       2359808   \n",
      "_________________________________________________________________\n",
      "block5_pool (MaxPooling2D)   (None, 18, 18, 512)       0         \n",
      "_________________________________________________________________\n",
      "flatten_1 (Flatten)          (None, 165888)            0         \n",
      "_________________________________________________________________\n",
      "dense_1 (Dense)              (None, 16)                2654224   \n",
      "_________________________________________________________________\n",
      "dense_2 (Dense)              (None, 16)                272       \n",
      "_________________________________________________________________\n",
      "dense_3 (Dense)              (None, 1)                 17        \n",
      "=================================================================\n",
      "Total params: 17,369,201\n",
      "Trainable params: 2,654,513\n",
      "Non-trainable params: 14,714,688\n",
      "_________________________________________________________________\n"
     ]
    }
   ],
   "source": [
    "model1.summary()"
   ]
  },
  {
   "cell_type": "code",
   "execution_count": null,
   "metadata": {
    "colab": {
     "base_uri": "https://localhost:8080/",
     "height": 35
    },
    "colab_type": "code",
    "id": "vW8joueoHyKG",
    "outputId": "5d6e555b-8877-4857-c808-63ab669fa3b6"
   },
   "outputs": [
    {
     "data": {
      "text/plain": [
       "array([0.75457571, 1.48202614])"
      ]
     },
     "execution_count": 21,
     "metadata": {
      "tags": []
     },
     "output_type": "execute_result"
    }
   ],
   "source": [
    "from sklearn.utils import class_weight\n",
    "class_weights = class_weight.compute_class_weight('balanced',\n",
    "                                                 np.unique(y_train),\n",
    "                                                 y_train)\n",
    "class_weights"
   ]
  },
  {
   "cell_type": "code",
   "execution_count": null,
   "metadata": {
    "colab": {
     "base_uri": "https://localhost:8080/",
     "height": 1000
    },
    "colab_type": "code",
    "id": "X7fCvH3PoKVc",
    "outputId": "0c971055-e5cf-428e-f4d4-2e38282ef9d9"
   },
   "outputs": [
    {
     "name": "stdout",
     "output_type": "stream",
     "text": [
      "Epoch 1/25\n",
      "67/67 [==============================] - 107s 2s/step - loss: 0.5840 - acc: 0.7106 - val_loss: 0.8615 - val_acc: 0.4375\n",
      "Epoch 2/25\n",
      "67/67 [==============================] - 104s 2s/step - loss: 0.6162 - acc: 0.7031 - val_loss: 0.4943 - val_acc: 0.7500\n",
      "Epoch 3/25\n",
      "67/67 [==============================] - 104s 2s/step - loss: 0.5874 - acc: 0.7324 - val_loss: 0.4685 - val_acc: 0.8125\n",
      "Epoch 4/25\n",
      "67/67 [==============================] - 103s 2s/step - loss: 0.6053 - acc: 0.7186 - val_loss: 0.3850 - val_acc: 0.8125\n",
      "Epoch 5/25\n",
      "67/67 [==============================] - 104s 2s/step - loss: 0.5653 - acc: 0.7325 - val_loss: 0.8395 - val_acc: 0.6875\n",
      "Epoch 6/25\n",
      "67/67 [==============================] - 104s 2s/step - loss: 0.5896 - acc: 0.7250 - val_loss: 1.4846 - val_acc: 0.3125\n",
      "Epoch 7/25\n",
      "67/67 [==============================] - 104s 2s/step - loss: 0.5790 - acc: 0.7262 - val_loss: 0.7668 - val_acc: 0.6250\n",
      "Epoch 8/25\n",
      "67/67 [==============================] - 104s 2s/step - loss: 0.5696 - acc: 0.7384 - val_loss: 0.3446 - val_acc: 0.7500\n",
      "Epoch 9/25\n",
      "67/67 [==============================] - 104s 2s/step - loss: 0.5578 - acc: 0.7360 - val_loss: 1.2003 - val_acc: 0.5000\n",
      "Epoch 10/25\n",
      "67/67 [==============================] - 105s 2s/step - loss: 0.5469 - acc: 0.7407 - val_loss: 0.4583 - val_acc: 0.8125\n",
      "Epoch 11/25\n",
      "67/67 [==============================] - 105s 2s/step - loss: 0.5322 - acc: 0.7449 - val_loss: 1.0248 - val_acc: 0.4375\n",
      "Epoch 12/25\n",
      "67/67 [==============================] - 107s 2s/step - loss: 0.5573 - acc: 0.7399 - val_loss: 1.1043 - val_acc: 0.6000\n",
      "Epoch 13/25\n",
      "67/67 [==============================] - 105s 2s/step - loss: 0.5356 - acc: 0.7460 - val_loss: 1.2163 - val_acc: 0.5000\n",
      "Epoch 14/25\n",
      "67/67 [==============================] - 104s 2s/step - loss: 0.5208 - acc: 0.7529 - val_loss: 0.6813 - val_acc: 0.8125\n",
      "Epoch 15/25\n",
      "67/67 [==============================] - 104s 2s/step - loss: 0.5122 - acc: 0.7459 - val_loss: 1.3412 - val_acc: 0.4375\n",
      "Epoch 16/25\n",
      "67/67 [==============================] - 106s 2s/step - loss: 0.5537 - acc: 0.7399 - val_loss: 0.7816 - val_acc: 0.6250\n",
      "Epoch 17/25\n",
      "67/67 [==============================] - 105s 2s/step - loss: 0.5107 - acc: 0.7589 - val_loss: 1.0061 - val_acc: 0.5000\n",
      "Epoch 18/25\n",
      "67/67 [==============================] - 104s 2s/step - loss: 0.5149 - acc: 0.7534 - val_loss: 0.6020 - val_acc: 0.6875\n",
      "Epoch 19/25\n",
      "67/67 [==============================] - 105s 2s/step - loss: 0.4839 - acc: 0.7729 - val_loss: 1.3537 - val_acc: 0.5000\n",
      "Epoch 20/25\n",
      "67/67 [==============================] - 104s 2s/step - loss: 0.4930 - acc: 0.7637 - val_loss: 0.8451 - val_acc: 0.5625\n",
      "Epoch 21/25\n",
      "67/67 [==============================] - 103s 2s/step - loss: 0.4957 - acc: 0.7627 - val_loss: 0.5209 - val_acc: 0.6875\n",
      "Epoch 22/25\n",
      "67/67 [==============================] - 105s 2s/step - loss: 0.5015 - acc: 0.7702 - val_loss: 0.9752 - val_acc: 0.5000\n",
      "Epoch 23/25\n",
      "67/67 [==============================] - 104s 2s/step - loss: 0.5011 - acc: 0.7674 - val_loss: 0.7007 - val_acc: 0.5625\n",
      "Epoch 24/25\n",
      "67/67 [==============================] - 104s 2s/step - loss: 0.4742 - acc: 0.7744 - val_loss: 0.9595 - val_acc: 0.5000\n",
      "Epoch 25/25\n",
      "67/67 [==============================] - 104s 2s/step - loss: 0.5082 - acc: 0.7677 - val_loss: 0.4033 - val_acc: 0.8125\n"
     ]
    }
   ],
   "source": [
    "from keras.callbacks import EarlyStopping,ModelCheckpoint\n",
    "step_size_train=train_generator.n // train_generator.batch_size\n",
    "model1.load_weights('50epocheniyimodelibul.model')\n",
    "history= model1.fit_generator(generator=train_generator,\n",
    "                   steps_per_epoch=step_size_train, \n",
    "                   epochs=25,\n",
    "                   #class_weight= class_weights,\n",
    "                   validation_data=val_generator,\n",
    "                   validation_steps= len(val_generator)//val_generator.batch_size,\n",
    "                    verbose=1\n",
    "                             ,callbacks=[ModelCheckpoint('50epocheniyimodelibulustune25daha.model', monitor='val_acc', save_best_only=True)]) #model saveleri buraya alınabilir, sadece bu cell çalışır durumda kalacagı için)"
   ]
  },
  {
   "cell_type": "code",
   "execution_count": null,
   "metadata": {
    "colab": {},
    "colab_type": "code",
    "id": "u0YPFGqHdJdF"
   },
   "outputs": [],
   "source": [
    "model1.save_weights(\"mybestmodel.h5\")"
   ]
  },
  {
   "cell_type": "code",
   "execution_count": null,
   "metadata": {
    "colab": {
     "base_uri": "https://localhost:8080/",
     "height": 545
    },
    "colab_type": "code",
    "id": "XxfKvy9SXqWZ",
    "outputId": "005a070b-d78c-4b1d-8c5f-7e60a9c9b984"
   },
   "outputs": [
    {
     "data": {
      "image/png": "[encoded data removed]",
      "text/plain": [
       "<Figure size 432x288 with 1 Axes>"
      ]
     },
     "metadata": {
      "tags": []
     },
     "output_type": "display_data"
    },
    {
     "data": {
      "image/png": "[encoded data removed]",
      "text/plain": [
       "<Figure size 432x288 with 1 Axes>"
      ]
     },
     "metadata": {
      "tags": []
     },
     "output_type": "display_data"
    }
   ],
   "source": [
    "acc = history.history['acc']\n",
    "val_acc = history.history['val_acc']\n",
    "loss = history.history['loss']\n",
    "val_loss = history.history['val_loss']\n",
    "\n",
    "epochs = range(1, len(acc) + 1)\n",
    "\n",
    "\n",
    "plt.plot(epochs, acc, 'b', label='Training accurarcy')\n",
    "plt.plot(epochs, val_acc, 'r', label='Validation accurarcy')\n",
    "plt.title('Training and Validation accurarcy')\n",
    "plt.legend()\n",
    "\n",
    "plt.figure()\n",
    "\n",
    "plt.plot(epochs, loss, 'b', label='Training loss')\n",
    "plt.plot(epochs, val_loss, 'r', label='Validation loss')\n",
    "plt.title('Training and Validation loss')\n",
    "plt.legend()\n",
    "\n",
    "plt.show()"
   ]
  },
  {
   "cell_type": "markdown",
   "metadata": {},
   "source": [
    "The model is trained for 50 epochs first. Then the weights are loaded and model is trained for another 25 epochs. The first graph above shows training and validation accuracy change between the epochs, while the second one shows the training and validation loss. The training accuracy is increasing gradually, while the validation accuracy is fluctuating. Between the epochs, only the best model in terms of validation accuracy is chosen and predictions are made according to that model."
   ]
  },
  {
   "cell_type": "code",
   "execution_count": null,
   "metadata": {
    "colab": {},
    "colab_type": "code",
    "id": "e0ClMsodizCr"
   },
   "outputs": [],
   "source": [
    "model1.load_weights('50epocheniyimodelibul.model')"
   ]
  },
  {
   "cell_type": "code",
   "execution_count": null,
   "metadata": {
    "colab": {},
    "colab_type": "code",
    "id": "wT16q3S-kj9F"
   },
   "outputs": [],
   "source": [
    "from keras.applications.vgg16 import preprocess_input"
   ]
  },
  {
   "cell_type": "markdown",
   "metadata": {},
   "source": [
    "In the cells below, test images are read and rescaled with ImageDataGenerator. Then the predictions are created for the unknown test images."
   ]
  },
  {
   "cell_type": "code",
   "execution_count": null,
   "metadata": {
    "colab": {},
    "colab_type": "code",
    "id": "UxQkEash0ZkM"
   },
   "outputs": [],
   "source": [
    "test_dir = 'drive/My Drive/adams-faces-ss19/testing/unknown'\n",
    "test_imgs = ['drive/My Drive/adams-faces-ss19/testing/unknown/{}'.format(i) for i in os.listdir(test_dir)] #get test images\n",
    "X_test, y_test= read_image(test_imgs) #Y_test in this case will be empty.\n",
    "x = np.array(X_test)\n",
    "test_datagen = ImageDataGenerator(preprocessing_function=preprocess_input)\n",
    "testset= test_datagen.flow(x,shuffle= False, batch_size=1)"
   ]
  },
  {
   "cell_type": "code",
   "execution_count": null,
   "metadata": {
    "colab": {
     "base_uri": "https://localhost:8080/",
     "height": 1000
    },
    "colab_type": "code",
    "id": "stNstNc3oPzU",
    "outputId": "9a9cc82e-f734-47a6-9de7-5f2d3fa876ef"
   },
   "outputs": [
    {
     "data": {
      "text/plain": [
       "array([[4.89526480e-01],\n",
       "       [1.20447561e-01],\n",
       "       [6.62890315e-01],\n",
       "       [6.01404533e-03],\n",
       "       [1.63655095e-02],\n",
       "       [4.82408970e-04],\n",
       "       [3.23242486e-01],\n",
       "       [5.61461411e-02],\n",
       "       [3.58763725e-01],\n",
       "       [4.42245126e-01],\n",
       "       [3.66770138e-04],\n",
       "       [3.20801437e-01],\n",
       "       [3.77007067e-01],\n",
       "       [1.10427998e-02],\n",
       "       [2.59313613e-01],\n",
       "       [2.98985466e-02],\n",
       "       [7.98167810e-02],\n",
       "       [6.28597587e-02],\n",
       "       [5.96651793e-01],\n",
       "       [5.15507102e-01],\n",
       "       [2.94388950e-01],\n",
       "       [1.42774537e-01],\n",
       "       [4.40820515e-01],\n",
       "       [1.63863987e-01],\n",
       "       [7.17652962e-02],\n",
       "       [9.60684270e-02],\n",
       "       [1.21176489e-01],\n",
       "       [7.36114025e-01],\n",
       "       [7.63733506e-01],\n",
       "       [9.81334925e-01],\n",
       "       [1.25530973e-01],\n",
       "       [7.43790507e-01],\n",
       "       [2.52115041e-01],\n",
       "       [9.02333856e-02],\n",
       "       [6.65798664e-01],\n",
       "       [6.87301397e-01],\n",
       "       [1.80412263e-01],\n",
       "       [1.88310057e-01],\n",
       "       [6.76222071e-02],\n",
       "       [1.32934615e-01],\n",
       "       [2.66852826e-02],\n",
       "       [4.85846438e-02],\n",
       "       [5.37654012e-02],\n",
       "       [6.65771663e-02],\n",
       "       [5.04330635e-01],\n",
       "       [6.42204881e-02],\n",
       "       [3.15140516e-01],\n",
       "       [7.65460253e-01],\n",
       "       [2.18973309e-01],\n",
       "       [8.67280185e-01],\n",
       "       [8.94772075e-03],\n",
       "       [2.41256163e-01],\n",
       "       [3.34277928e-01],\n",
       "       [1.18088573e-02],\n",
       "       [2.70223677e-01],\n",
       "       [2.92121053e-01],\n",
       "       [3.58334303e-01],\n",
       "       [8.82786751e-01],\n",
       "       [1.92793682e-01],\n",
       "       [1.11601569e-01],\n",
       "       [2.65622675e-01],\n",
       "       [4.27416386e-03],\n",
       "       [1.53888181e-01],\n",
       "       [4.14742887e-01],\n",
       "       [9.99172986e-01],\n",
       "       [8.54758263e-01],\n",
       "       [1.62287671e-02],\n",
       "       [8.19115192e-02],\n",
       "       [1.56293243e-01],\n",
       "       [3.04662436e-01],\n",
       "       [5.21806359e-01],\n",
       "       [2.51568764e-01],\n",
       "       [9.57133710e-01],\n",
       "       [4.42118138e-01],\n",
       "       [2.42205095e-02],\n",
       "       [3.48471552e-01],\n",
       "       [6.66333199e-01],\n",
       "       [6.61850721e-02],\n",
       "       [2.59492785e-01],\n",
       "       [3.67125899e-01],\n",
       "       [4.74444419e-01],\n",
       "       [9.00663912e-01],\n",
       "       [9.26879823e-01],\n",
       "       [3.07940692e-01],\n",
       "       [3.25513929e-01],\n",
       "       [1.76078454e-01],\n",
       "       [6.05775893e-01],\n",
       "       [3.49147856e-01],\n",
       "       [7.78110698e-03],\n",
       "       [2.96707032e-03],\n",
       "       [6.25228226e-01],\n",
       "       [9.01834965e-01],\n",
       "       [4.24151629e-01],\n",
       "       [2.78379209e-03],\n",
       "       [1.81821585e-01],\n",
       "       [9.06323493e-02],\n",
       "       [2.91462839e-01],\n",
       "       [4.87869859e-01],\n",
       "       [8.74414369e-02],\n",
       "       [8.79587471e-01],\n",
       "       [7.35984325e-01],\n",
       "       [1.07327826e-01],\n",
       "       [2.10976508e-03],\n",
       "       [8.87754187e-02],\n",
       "       [7.47327328e-01],\n",
       "       [9.07971323e-01],\n",
       "       [5.47781251e-02],\n",
       "       [9.52479303e-01],\n",
       "       [6.56383932e-01],\n",
       "       [6.77161038e-01],\n",
       "       [9.73014355e-01],\n",
       "       [7.47223973e-01],\n",
       "       [4.29115921e-01],\n",
       "       [8.16726983e-01],\n",
       "       [1.18990667e-01],\n",
       "       [8.29521239e-01],\n",
       "       [9.52769741e-02],\n",
       "       [4.61638272e-01],\n",
       "       [5.14709175e-01],\n",
       "       [7.77838290e-01],\n",
       "       [2.90225208e-01],\n",
       "       [5.44772949e-03],\n",
       "       [3.26348275e-01],\n",
       "       [5.62823415e-01],\n",
       "       [2.27524228e-02],\n",
       "       [3.67819145e-02],\n",
       "       [2.76669621e-01],\n",
       "       [8.03277642e-02],\n",
       "       [4.82172519e-01],\n",
       "       [4.97284114e-01],\n",
       "       [5.30906439e-01],\n",
       "       [2.59427577e-01],\n",
       "       [7.22829103e-01],\n",
       "       [9.56809819e-01],\n",
       "       [4.77954924e-01],\n",
       "       [3.10133487e-01],\n",
       "       [1.68315917e-01],\n",
       "       [7.44526923e-01],\n",
       "       [9.75843132e-01],\n",
       "       [1.66855708e-01],\n",
       "       [7.01749146e-01],\n",
       "       [3.73105139e-01],\n",
       "       [3.67896438e-01],\n",
       "       [6.61618173e-01],\n",
       "       [4.29375768e-01],\n",
       "       [9.88319516e-01],\n",
       "       [1.58178478e-01],\n",
       "       [6.21227801e-01],\n",
       "       [9.71816760e-03],\n",
       "       [2.77715176e-01],\n",
       "       [4.11196411e-01],\n",
       "       [9.66027141e-01],\n",
       "       [4.34288979e-01],\n",
       "       [5.80190539e-01],\n",
       "       [8.13905537e-01],\n",
       "       [9.91556662e-05],\n",
       "       [9.02858496e-01],\n",
       "       [3.11056495e-01],\n",
       "       [3.47151518e-01],\n",
       "       [1.48791686e-01],\n",
       "       [6.29441082e-01],\n",
       "       [5.58593683e-02],\n",
       "       [3.63944083e-01],\n",
       "       [5.09275913e-01],\n",
       "       [2.09306836e-01],\n",
       "       [4.91745859e-01],\n",
       "       [1.82713658e-01],\n",
       "       [3.15331101e-01],\n",
       "       [5.93777262e-02],\n",
       "       [9.11450446e-01],\n",
       "       [1.01288669e-02],\n",
       "       [5.47531307e-01],\n",
       "       [5.07187486e-01],\n",
       "       [9.42370415e-01],\n",
       "       [2.50949085e-01],\n",
       "       [9.79046881e-01],\n",
       "       [2.88396925e-01],\n",
       "       [1.87136531e-01],\n",
       "       [3.24663520e-02],\n",
       "       [6.00474954e-01],\n",
       "       [2.80278891e-01],\n",
       "       [1.62591636e-01],\n",
       "       [8.08171090e-03],\n",
       "       [1.02474786e-01],\n",
       "       [7.99171925e-01],\n",
       "       [2.06029147e-01],\n",
       "       [7.86781013e-01],\n",
       "       [5.92628002e-01],\n",
       "       [3.50206167e-01],\n",
       "       [3.31933528e-01],\n",
       "       [1.83973372e-01],\n",
       "       [4.96847302e-01],\n",
       "       [4.26992595e-01],\n",
       "       [1.44485027e-01],\n",
       "       [9.45071757e-01],\n",
       "       [7.26906061e-01],\n",
       "       [3.98095280e-01],\n",
       "       [9.17163715e-02],\n",
       "       [8.39852333e-01],\n",
       "       [2.87692070e-01],\n",
       "       [1.61209881e-01],\n",
       "       [8.81960616e-02],\n",
       "       [1.63071617e-01],\n",
       "       [8.93332720e-01],\n",
       "       [3.20017308e-01],\n",
       "       [3.48831505e-01],\n",
       "       [5.87298013e-02],\n",
       "       [2.44909078e-02],\n",
       "       [3.30776066e-01],\n",
       "       [1.08949900e-01],\n",
       "       [1.49552301e-01],\n",
       "       [7.98330903e-01],\n",
       "       [6.63949966e-01],\n",
       "       [8.79179597e-01],\n",
       "       [3.89507651e-01],\n",
       "       [4.97891545e-01],\n",
       "       [7.20482886e-01],\n",
       "       [3.48039091e-01],\n",
       "       [2.35231310e-01],\n",
       "       [9.79185641e-01],\n",
       "       [9.52792704e-01],\n",
       "       [4.62863632e-02],\n",
       "       [1.74811959e-01],\n",
       "       [1.98081821e-01],\n",
       "       [8.48439097e-01],\n",
       "       [1.16383381e-01],\n",
       "       [1.04278456e-02],\n",
       "       [9.63691950e-01],\n",
       "       [3.39466214e-01],\n",
       "       [6.64045274e-01],\n",
       "       [3.10962498e-01],\n",
       "       [7.95128644e-01],\n",
       "       [3.74909699e-01],\n",
       "       [9.81446981e-01],\n",
       "       [2.03570589e-01],\n",
       "       [1.22024208e-01],\n",
       "       [3.41973710e-03],\n",
       "       [7.04957843e-01],\n",
       "       [4.47924495e-01],\n",
       "       [3.23781401e-01],\n",
       "       [6.88196003e-01],\n",
       "       [7.72494301e-02],\n",
       "       [8.32345366e-01],\n",
       "       [4.55283880e-01],\n",
       "       [9.15679187e-02],\n",
       "       [9.79699790e-01],\n",
       "       [3.87384832e-01],\n",
       "       [1.24477418e-02],\n",
       "       [4.41752613e-01],\n",
       "       [4.30637926e-01],\n",
       "       [7.47206986e-01],\n",
       "       [7.01759458e-01],\n",
       "       [8.63621712e-01],\n",
       "       [7.27930188e-01],\n",
       "       [9.37197566e-01],\n",
       "       [2.72938132e-01],\n",
       "       [9.13284421e-01],\n",
       "       [4.95590717e-02],\n",
       "       [7.23438337e-02],\n",
       "       [6.16742134e-01],\n",
       "       [5.84182322e-01],\n",
       "       [9.85433161e-03],\n",
       "       [1.25674680e-01],\n",
       "       [1.68498352e-01],\n",
       "       [2.43862256e-01],\n",
       "       [9.42374706e-01],\n",
       "       [9.62181032e-01],\n",
       "       [1.25762112e-02],\n",
       "       [3.80070329e-01],\n",
       "       [8.35759699e-01],\n",
       "       [7.70090640e-01],\n",
       "       [2.04787359e-01],\n",
       "       [5.69258444e-02],\n",
       "       [4.08923142e-02],\n",
       "       [5.88466823e-02],\n",
       "       [4.52314854e-01],\n",
       "       [7.66699970e-01],\n",
       "       [1.65004730e-02],\n",
       "       [9.51937139e-01],\n",
       "       [6.70459628e-01],\n",
       "       [2.74017811e-01],\n",
       "       [9.27973568e-01],\n",
       "       [2.24070787e-01],\n",
       "       [1.92619935e-02],\n",
       "       [6.47288144e-01],\n",
       "       [8.35198686e-02],\n",
       "       [8.12464431e-02],\n",
       "       [8.86868984e-02],\n",
       "       [5.73143363e-01],\n",
       "       [5.35461381e-02],\n",
       "       [5.08233428e-01],\n",
       "       [4.36146468e-01],\n",
       "       [7.44546484e-03],\n",
       "       [8.98455739e-01],\n",
       "       [3.70966494e-02],\n",
       "       [1.15211271e-01],\n",
       "       [3.87050837e-01],\n",
       "       [9.89935219e-01],\n",
       "       [7.07053304e-01],\n",
       "       [7.38760471e-01],\n",
       "       [6.25985444e-01],\n",
       "       [1.62305132e-01],\n",
       "       [9.29360330e-01],\n",
       "       [7.46697962e-01],\n",
       "       [7.22074866e-01],\n",
       "       [3.80226254e-01],\n",
       "       [1.63222134e-01],\n",
       "       [1.64063483e-01],\n",
       "       [9.42006588e-01],\n",
       "       [1.97288021e-01],\n",
       "       [7.63256431e-01],\n",
       "       [5.41635677e-02],\n",
       "       [6.73775613e-01],\n",
       "       [3.79416674e-01],\n",
       "       [6.62403822e-01],\n",
       "       [5.04741609e-01],\n",
       "       [1.26663849e-01],\n",
       "       [2.52716094e-01],\n",
       "       [8.21573794e-01],\n",
       "       [8.65662873e-01],\n",
       "       [5.02460599e-01],\n",
       "       [5.07384837e-01],\n",
       "       [4.54567313e-01],\n",
       "       [2.17456043e-01],\n",
       "       [4.18516137e-02],\n",
       "       [5.51628113e-01],\n",
       "       [9.45207298e-01],\n",
       "       [1.69916734e-01],\n",
       "       [8.73535275e-01],\n",
       "       [9.18434322e-01],\n",
       "       [2.32056558e-01],\n",
       "       [6.55695319e-01],\n",
       "       [8.46951380e-02],\n",
       "       [8.73472869e-01],\n",
       "       [9.46550310e-01],\n",
       "       [3.78184676e-01],\n",
       "       [1.92073360e-02],\n",
       "       [6.29364610e-01],\n",
       "       [3.99404496e-01],\n",
       "       [6.68730795e-01],\n",
       "       [8.28300118e-02],\n",
       "       [7.64624059e-01],\n",
       "       [4.63056043e-02],\n",
       "       [8.58122017e-03],\n",
       "       [3.13646793e-02],\n",
       "       [6.16936944e-02],\n",
       "       [3.43009084e-01],\n",
       "       [1.91973403e-01],\n",
       "       [3.34407806e-01],\n",
       "       [8.25506806e-01],\n",
       "       [4.83056568e-02],\n",
       "       [1.81101507e-03],\n",
       "       [9.00031269e-01],\n",
       "       [9.87837553e-01],\n",
       "       [4.71959263e-02],\n",
       "       [3.29745799e-01],\n",
       "       [9.36173424e-02],\n",
       "       [6.64022326e-01],\n",
       "       [4.00312126e-01],\n",
       "       [1.18537515e-01],\n",
       "       [1.25339717e-01],\n",
       "       [5.83042800e-02],\n",
       "       [3.51051271e-01],\n",
       "       [2.92676147e-02],\n",
       "       [5.45660377e-01],\n",
       "       [3.40590239e-01],\n",
       "       [1.49551570e-01],\n",
       "       [7.84741223e-01],\n",
       "       [7.11618483e-01],\n",
       "       [8.15640152e-01],\n",
       "       [1.11443177e-01],\n",
       "       [7.26378679e-01],\n",
       "       [6.16936862e-01],\n",
       "       [8.63660946e-02],\n",
       "       [9.22586560e-01],\n",
       "       [6.05857372e-02],\n",
       "       [8.45784307e-01],\n",
       "       [2.67291088e-02],\n",
       "       [6.03325903e-01],\n",
       "       [9.22252655e-01],\n",
       "       [7.61453331e-01],\n",
       "       [6.70403957e-01],\n",
       "       [2.10288633e-02],\n",
       "       [9.52289641e-01],\n",
       "       [1.18174069e-02],\n",
       "       [6.81165874e-01],\n",
       "       [8.72980118e-01],\n",
       "       [7.80507475e-02],\n",
       "       [2.62966957e-02],\n",
       "       [3.59585173e-02],\n",
       "       [9.17950928e-01],\n",
       "       [2.16187373e-01],\n",
       "       [7.16645420e-02],\n",
       "       [5.99671185e-01],\n",
       "       [8.13210756e-02],\n",
       "       [6.44514943e-03],\n",
       "       [4.09636885e-01],\n",
       "       [9.65321839e-01],\n",
       "       [1.61950961e-01],\n",
       "       [8.36647451e-01],\n",
       "       [2.44526908e-01],\n",
       "       [5.14918745e-01],\n",
       "       [7.53864408e-01],\n",
       "       [2.99997747e-01],\n",
       "       [2.58008271e-01],\n",
       "       [7.37557948e-01],\n",
       "       [1.78493172e-01],\n",
       "       [4.15813141e-02],\n",
       "       [1.46084219e-01],\n",
       "       [7.15222895e-01],\n",
       "       [3.09723943e-01],\n",
       "       [4.96696621e-01],\n",
       "       [4.77488130e-01],\n",
       "       [6.68724060e-01],\n",
       "       [1.94235310e-01],\n",
       "       [3.56158048e-01],\n",
       "       [2.90412277e-01],\n",
       "       [3.05034798e-02],\n",
       "       [9.33409691e-01],\n",
       "       [4.40073782e-04],\n",
       "       [7.47066081e-01],\n",
       "       [1.93181932e-01],\n",
       "       [4.66377646e-01],\n",
       "       [9.17175889e-01],\n",
       "       [8.01246688e-02],\n",
       "       [8.31022486e-02],\n",
       "       [3.81843857e-02],\n",
       "       [9.31066722e-02],\n",
       "       [6.87619865e-01],\n",
       "       [7.54504740e-01],\n",
       "       [7.99254835e-01],\n",
       "       [2.36153062e-02],\n",
       "       [4.04762119e-01],\n",
       "       [3.66621703e-01],\n",
       "       [5.93990803e-01],\n",
       "       [7.62823701e-01],\n",
       "       [8.86903822e-01],\n",
       "       [5.28653264e-01],\n",
       "       [1.42251281e-03],\n",
       "       [2.95800626e-01],\n",
       "       [1.19164921e-01],\n",
       "       [3.23312581e-01],\n",
       "       [5.08372346e-03],\n",
       "       [6.19473636e-01],\n",
       "       [8.27454090e-01],\n",
       "       [1.41620627e-02],\n",
       "       [2.15187788e-01],\n",
       "       [2.93921269e-02],\n",
       "       [2.51221299e-01],\n",
       "       [4.99941945e-01],\n",
       "       [3.57536972e-01],\n",
       "       [2.82247275e-01],\n",
       "       [4.30664457e-02],\n",
       "       [8.42165709e-01],\n",
       "       [3.97450738e-02],\n",
       "       [1.09097481e-01],\n",
       "       [5.41576147e-01],\n",
       "       [5.04229546e-01],\n",
       "       [1.10539250e-01],\n",
       "       [9.41787660e-03],\n",
       "       [8.49658966e-01],\n",
       "       [5.11062860e-01],\n",
       "       [2.45599270e-01],\n",
       "       [5.14903486e-01],\n",
       "       [2.54417151e-01],\n",
       "       [2.30419248e-01],\n",
       "       [3.83947670e-01],\n",
       "       [4.41910654e-01],\n",
       "       [2.99232870e-01],\n",
       "       [8.97222161e-02],\n",
       "       [1.34453580e-01],\n",
       "       [2.83399016e-01],\n",
       "       [7.26474226e-01],\n",
       "       [9.07810569e-01],\n",
       "       [9.38499212e-01],\n",
       "       [7.72323608e-01],\n",
       "       [2.79791266e-01],\n",
       "       [2.38223389e-01],\n",
       "       [1.46461502e-01],\n",
       "       [1.49767369e-01],\n",
       "       [1.60127535e-01]], dtype=float32)"
      ]
     },
     "execution_count": 31,
     "metadata": {
      "tags": []
     },
     "output_type": "execute_result"
    }
   ],
   "source": [
    "probsVGG=model1.predict_generator(testset, steps= len(testset), workers=0)\n",
    "probsVGG"
   ]
  },
  {
   "cell_type": "code",
   "execution_count": null,
   "metadata": {
    "colab": {
     "base_uri": "https://localhost:8080/",
     "height": 34
    },
    "colab_type": "code",
    "id": "PKrpRXjuk9cd",
    "outputId": "8225561d-e1a5-4ef4-ca4a-3a00d94fa0b2"
   },
   "outputs": [
    {
     "name": "stdout",
     "output_type": "stream",
     "text": [
      "176.0\n"
     ]
    }
   ],
   "source": [
    "probsVGG[probsVGG>=0.5] = 1\n",
    "probsVGG[probsVGG<0.5] = 0\n",
    "print(sum(probsVGG))"
   ]
  },
  {
   "cell_type": "markdown",
   "metadata": {},
   "source": [
    "The probabilities are calculated with predict generator. The probability is greater than 0.5 means that the prediction is yielding 'fake'. The probsVGG is summed and the result is 176, which means that the model found 176 fake images in the unknown test set. "
   ]
  },
  {
   "cell_type": "markdown",
   "metadata": {},
   "source": [
    "In the cells below, the appropriate dataframe is created with one column for the names of the images and one column for the predictions."
   ]
  },
  {
   "cell_type": "code",
   "execution_count": null,
   "metadata": {
    "colab": {},
    "colab_type": "code",
    "id": "fCC1n6yXUkdG"
   },
   "outputs": [],
   "source": [
    "type(probsVGG)\n",
    "probsVGG.shape\n",
    "probsVGG=probsVGG.reshape(481,). astype('int')  "
   ]
  },
  {
   "cell_type": "code",
   "execution_count": null,
   "metadata": {
    "colab": {},
    "colab_type": "code",
    "id": "GrzytTPTTpRr"
   },
   "outputs": [],
   "source": [
    "test_imgs1= np.array(test_imgs)\n",
    "test_imgs2= pd.DataFrame(test_imgs1)\n",
    "s=test_imgs2.iloc[:, 0]\n",
    "s2=s.str.split('/', expand=True)\n",
    "s3= s2.iloc[:, 5]\n",
    "s4= s3.str.split('.', expand=True)\n",
    "names= s4.iloc[: , 0:1]"
   ]
  },
  {
   "cell_type": "code",
   "execution_count": null,
   "metadata": {
    "colab": {},
    "colab_type": "code",
    "id": "vqw1JB1MTqYz"
   },
   "outputs": [],
   "source": [
    "names = np.array(names)"
   ]
  },
  {
   "cell_type": "code",
   "execution_count": null,
   "metadata": {
    "colab": {},
    "colab_type": "code",
    "id": "Whr6X-dFT1Zq"
   },
   "outputs": [],
   "source": [
    "names=list(names)"
   ]
  },
  {
   "cell_type": "code",
   "execution_count": null,
   "metadata": {
    "colab": {},
    "colab_type": "code",
    "id": "r-1UW04eUFLx"
   },
   "outputs": [],
   "source": [
    "df_solution = pd.DataFrame({\"ID\": names, \"fake\": probsVGG })\n",
    "\n",
    "df_solution['ID'] = df_solution['ID'].map(lambda x: str(x).lstrip('[').rstrip(']'))\n",
    "\n",
    "\n"
   ]
  },
  {
   "cell_type": "code",
   "execution_count": null,
   "metadata": {
    "colab": {},
    "colab_type": "code",
    "id": "4zqUnoAMULY3"
   },
   "outputs": [],
   "source": [
    "import string\n",
    "df_solution['ID'] = df_solution['ID'].apply(lambda x:''.join([i for i in x \n",
    "                                                  if i not in string.punctuation]))\n",
    "df_solution.to_csv(\"sonmodelinteger.csv\", index = False)"
   ]
  },
  {
   "cell_type": "code",
   "execution_count": null,
   "metadata": {
    "colab": {
     "base_uri": "https://localhost:8080/",
     "height": 204
    },
    "colab_type": "code",
    "id": "ej8Lb3vvUQL6",
    "outputId": "70b5b88e-4b73-40dc-f2d1-336fce18064d"
   },
   "outputs": [
    {
     "data": {
      "text/html": [
       "<div>\n",
       "<style scoped>\n",
       "    .dataframe tbody tr th:only-of-type {\n",
       "        vertical-align: middle;\n",
       "    }\n",
       "\n",
       "    .dataframe tbody tr th {\n",
       "        vertical-align: top;\n",
       "    }\n",
       "\n",
       "    .dataframe thead th {\n",
       "        text-align: right;\n",
       "    }\n",
       "</style>\n",
       "<table border=\"1\" class=\"dataframe\">\n",
       "  <thead>\n",
       "    <tr style=\"text-align: right;\">\n",
       "      <th></th>\n",
       "      <th>ID</th>\n",
       "      <th>fake</th>\n",
       "    </tr>\n",
       "  </thead>\n",
       "  <tbody>\n",
       "    <tr>\n",
       "      <th>0</th>\n",
       "      <td>3aa9db1fcbef67e08785</td>\n",
       "      <td>0</td>\n",
       "    </tr>\n",
       "    <tr>\n",
       "      <th>1</th>\n",
       "      <td>0e235e504ac49fe5aa23</td>\n",
       "      <td>0</td>\n",
       "    </tr>\n",
       "    <tr>\n",
       "      <th>2</th>\n",
       "      <td>bc0fce481ee9997e04a5</td>\n",
       "      <td>1</td>\n",
       "    </tr>\n",
       "    <tr>\n",
       "      <th>3</th>\n",
       "      <td>42f817bfa06978b3bc54</td>\n",
       "      <td>0</td>\n",
       "    </tr>\n",
       "    <tr>\n",
       "      <th>4</th>\n",
       "      <td>c9e66c4a811a3767cc4f</td>\n",
       "      <td>0</td>\n",
       "    </tr>\n",
       "  </tbody>\n",
       "</table>\n",
       "</div>"
      ],
      "text/plain": [
       "                     ID  fake\n",
       "0  3aa9db1fcbef67e08785     0\n",
       "1  0e235e504ac49fe5aa23     0\n",
       "2  bc0fce481ee9997e04a5     1\n",
       "3  42f817bfa06978b3bc54     0\n",
       "4  c9e66c4a811a3767cc4f     0"
      ]
     },
     "execution_count": 57,
     "metadata": {
      "tags": []
     },
     "output_type": "execute_result"
    }
   ],
   "source": [
    "df_solution.head()"
   ]
  },
  {
   "cell_type": "markdown",
   "metadata": {
    "colab_type": "text",
    "id": "CCfiNY5QkWrM"
   },
   "source": [
    "#### Predictions for validation set and calculating confusion matrix and accuracy"
   ]
  },
  {
   "cell_type": "markdown",
   "metadata": {},
   "source": [
    "Below, the predictions are calculated for the validation set with the VGG&Transfer laerning model."
   ]
  },
  {
   "cell_type": "code",
   "execution_count": null,
   "metadata": {
    "colab": {},
    "colab_type": "code",
    "id": "cT-Caq0WdvJ3"
   },
   "outputs": [],
   "source": [
    "model1.load_weights('50epocheniyimodelibulustune25daha.model')"
   ]
  },
  {
   "cell_type": "code",
   "execution_count": null,
   "metadata": {
    "colab": {
     "base_uri": "https://localhost:8080/",
     "height": 1000
    },
    "colab_type": "code",
    "id": "lejS-cYXkeAK",
    "outputId": "c1a25dbf-0f44-4edb-ecf9-342034c70048"
   },
   "outputs": [
    {
     "data": {
      "text/plain": [
       "array([[1.30511522e-02],\n",
       "       [6.92729115e-01],\n",
       "       [5.47739863e-03],\n",
       "       [1.37114108e-01],\n",
       "       [1.90158278e-01],\n",
       "       [4.32519138e-01],\n",
       "       [6.73544705e-02],\n",
       "       [3.51756155e-01],\n",
       "       [8.96176279e-01],\n",
       "       [4.11954820e-02],\n",
       "       [2.21660435e-02],\n",
       "       [1.32380426e-02],\n",
       "       [4.23808098e-02],\n",
       "       [8.63155127e-01],\n",
       "       [2.92661667e-01],\n",
       "       [1.44780159e-01],\n",
       "       [3.23901206e-01],\n",
       "       [6.92787170e-01],\n",
       "       [9.03365135e-01],\n",
       "       [1.49287194e-01],\n",
       "       [1.22087330e-01],\n",
       "       [6.53390288e-01],\n",
       "       [2.76059687e-01],\n",
       "       [9.87283349e-01],\n",
       "       [5.80510259e-01],\n",
       "       [5.02614796e-01],\n",
       "       [6.37812614e-01],\n",
       "       [2.87725449e-01],\n",
       "       [4.59216624e-01],\n",
       "       [8.38966012e-01],\n",
       "       [2.33262777e-04],\n",
       "       [7.53448606e-01],\n",
       "       [5.39926052e-01],\n",
       "       [5.61884761e-01],\n",
       "       [1.42897695e-01],\n",
       "       [1.82490140e-01],\n",
       "       [5.61156571e-02],\n",
       "       [9.27545190e-01],\n",
       "       [4.37239885e-01],\n",
       "       [9.56189632e-01],\n",
       "       [9.82671738e-01],\n",
       "       [3.17074955e-01],\n",
       "       [9.11200166e-01],\n",
       "       [6.45106673e-01],\n",
       "       [9.66806114e-02],\n",
       "       [9.45654213e-01],\n",
       "       [9.03592825e-01],\n",
       "       [4.97766733e-02],\n",
       "       [3.28506559e-01],\n",
       "       [1.24580562e-02],\n",
       "       [9.54537392e-01],\n",
       "       [4.17080700e-01],\n",
       "       [9.74346757e-01],\n",
       "       [4.50206697e-02],\n",
       "       [6.47425890e-01],\n",
       "       [3.41332734e-01],\n",
       "       [9.59524512e-01],\n",
       "       [1.33905321e-01],\n",
       "       [4.11543846e-02],\n",
       "       [9.69970822e-01],\n",
       "       [2.02093422e-02],\n",
       "       [9.65848923e-01],\n",
       "       [5.85843682e-01],\n",
       "       [9.93547499e-01],\n",
       "       [8.74588311e-01],\n",
       "       [5.04895329e-01],\n",
       "       [9.32704568e-01],\n",
       "       [8.16035926e-01],\n",
       "       [1.81257427e-02],\n",
       "       [4.31539118e-01],\n",
       "       [9.65764880e-01],\n",
       "       [9.01010990e-01],\n",
       "       [9.18017626e-02],\n",
       "       [7.98814535e-01],\n",
       "       [2.73224711e-03],\n",
       "       [4.61271405e-02],\n",
       "       [5.23719668e-01],\n",
       "       [8.22587132e-01],\n",
       "       [8.80866528e-01],\n",
       "       [1.66271687e-01],\n",
       "       [9.32236552e-01],\n",
       "       [6.88068867e-01],\n",
       "       [1.95467025e-01],\n",
       "       [7.43737221e-01],\n",
       "       [3.01938653e-02],\n",
       "       [3.76674473e-01],\n",
       "       [5.24172187e-03],\n",
       "       [8.23354959e-01],\n",
       "       [7.41472125e-01],\n",
       "       [4.41981405e-01],\n",
       "       [2.71473765e-01],\n",
       "       [1.43508375e-01],\n",
       "       [7.18272626e-02],\n",
       "       [8.21886659e-02],\n",
       "       [9.99568224e-01],\n",
       "       [9.02914166e-01],\n",
       "       [4.86236066e-01],\n",
       "       [8.84716034e-01],\n",
       "       [7.52381444e-01],\n",
       "       [7.81690359e-01],\n",
       "       [1.42062306e-01],\n",
       "       [6.12798035e-02],\n",
       "       [7.22497702e-04],\n",
       "       [7.24355698e-01],\n",
       "       [9.22477782e-01],\n",
       "       [2.91268080e-01],\n",
       "       [5.63863218e-02],\n",
       "       [1.01117015e-01],\n",
       "       [4.97122616e-01],\n",
       "       [2.63432860e-01],\n",
       "       [1.62208378e-01],\n",
       "       [2.02736735e-01],\n",
       "       [2.01589078e-01],\n",
       "       [7.75980532e-01],\n",
       "       [9.09033537e-01],\n",
       "       [2.32517719e-04],\n",
       "       [2.44811863e-01],\n",
       "       [5.20191193e-02],\n",
       "       [6.22035027e-01],\n",
       "       [1.80800021e-01],\n",
       "       [5.40307403e-01],\n",
       "       [4.47463900e-01],\n",
       "       [5.59181571e-02],\n",
       "       [8.85608792e-01],\n",
       "       [4.83230948e-02],\n",
       "       [1.16904318e-01],\n",
       "       [9.08615887e-02],\n",
       "       [9.92730737e-01],\n",
       "       [2.50748873e-01],\n",
       "       [3.61938596e-01],\n",
       "       [8.43122005e-02],\n",
       "       [7.54244983e-01],\n",
       "       [7.28887975e-01],\n",
       "       [5.91340363e-02],\n",
       "       [4.92589355e-01],\n",
       "       [6.71252012e-01],\n",
       "       [7.54350126e-01],\n",
       "       [2.47883826e-01],\n",
       "       [7.22797751e-01],\n",
       "       [9.78988290e-01],\n",
       "       [1.02836192e-02],\n",
       "       [9.72600341e-01],\n",
       "       [7.14617670e-02],\n",
       "       [1.34747028e-01],\n",
       "       [2.89786905e-01],\n",
       "       [1.54291362e-01],\n",
       "       [3.13210338e-01],\n",
       "       [2.68078506e-01],\n",
       "       [2.54978120e-01],\n",
       "       [2.93125242e-01],\n",
       "       [4.56543267e-01],\n",
       "       [9.76693392e-01],\n",
       "       [9.48522329e-01],\n",
       "       [9.75188255e-01],\n",
       "       [4.00678664e-01],\n",
       "       [7.47202814e-01],\n",
       "       [4.73994911e-01],\n",
       "       [2.47861415e-01],\n",
       "       [1.43612951e-01],\n",
       "       [6.37564540e-01],\n",
       "       [3.97597253e-02],\n",
       "       [1.14880592e-01],\n",
       "       [2.48797059e-01],\n",
       "       [8.45531642e-01],\n",
       "       [2.18524933e-01],\n",
       "       [1.24864012e-01],\n",
       "       [6.06029332e-01],\n",
       "       [8.67230356e-01],\n",
       "       [6.50784373e-02],\n",
       "       [5.31944931e-02],\n",
       "       [2.21221566e-01],\n",
       "       [5.19265950e-01],\n",
       "       [4.55089629e-01],\n",
       "       [3.08089674e-01],\n",
       "       [1.30666554e-01],\n",
       "       [2.84047067e-01],\n",
       "       [9.89849567e-02],\n",
       "       [6.82297826e-01],\n",
       "       [8.96413445e-01],\n",
       "       [3.05350780e-01],\n",
       "       [6.53280139e-01],\n",
       "       [8.54947984e-01],\n",
       "       [7.75516033e-01],\n",
       "       [4.24389452e-01],\n",
       "       [4.12215710e-01],\n",
       "       [6.88996911e-03],\n",
       "       [9.21307445e-01],\n",
       "       [6.92759156e-01],\n",
       "       [6.08420312e-01],\n",
       "       [2.39732444e-01],\n",
       "       [1.12272561e-01],\n",
       "       [1.68191493e-01],\n",
       "       [3.72203887e-02],\n",
       "       [4.19940233e-01],\n",
       "       [8.53889823e-01],\n",
       "       [8.24663281e-01],\n",
       "       [2.23245621e-01],\n",
       "       [6.82814479e-01],\n",
       "       [1.14980340e-02],\n",
       "       [6.22546077e-01],\n",
       "       [3.26923609e-01],\n",
       "       [9.74936008e-01],\n",
       "       [1.40565872e-01],\n",
       "       [8.20122957e-01],\n",
       "       [7.22062409e-01],\n",
       "       [1.08447522e-01],\n",
       "       [3.23613048e-01],\n",
       "       [5.68283498e-02],\n",
       "       [6.01551533e-01],\n",
       "       [2.10285783e-02],\n",
       "       [9.99874771e-02],\n",
       "       [6.09299719e-01],\n",
       "       [4.71358985e-01],\n",
       "       [8.76024306e-01],\n",
       "       [9.65771437e-01],\n",
       "       [4.01347548e-01],\n",
       "       [5.23632824e-01],\n",
       "       [8.71216297e-01],\n",
       "       [4.97790635e-01],\n",
       "       [6.27129674e-02],\n",
       "       [9.57794905e-01],\n",
       "       [2.14372605e-01],\n",
       "       [3.19869339e-01],\n",
       "       [7.63040066e-01],\n",
       "       [5.22599518e-02],\n",
       "       [1.81434095e-01],\n",
       "       [8.67729962e-01],\n",
       "       [9.23361540e-01],\n",
       "       [7.12242603e-01],\n",
       "       [1.95485055e-01],\n",
       "       [9.14649367e-02],\n",
       "       [2.84906060e-01],\n",
       "       [2.51120299e-01],\n",
       "       [8.13149333e-01],\n",
       "       [2.05769837e-01],\n",
       "       [7.64772415e-01],\n",
       "       [8.80039215e-01],\n",
       "       [5.79089701e-01],\n",
       "       [6.22636199e-01],\n",
       "       [1.19600743e-01],\n",
       "       [1.95202470e-01],\n",
       "       [5.46301663e-01],\n",
       "       [6.18178725e-01],\n",
       "       [5.91064215e-01],\n",
       "       [1.46503299e-01],\n",
       "       [5.57476461e-01],\n",
       "       [6.56170905e-01],\n",
       "       [8.97896528e-01],\n",
       "       [9.33927059e-01],\n",
       "       [9.99066651e-01],\n",
       "       [6.12398088e-02],\n",
       "       [4.39365864e-01],\n",
       "       [9.78799343e-01],\n",
       "       [7.58785486e-01],\n",
       "       [5.69174886e-01],\n",
       "       [9.39605236e-01],\n",
       "       [6.54948056e-02],\n",
       "       [1.07671916e-01],\n",
       "       [4.54817206e-01],\n",
       "       [6.72142625e-01],\n",
       "       [8.65761638e-01],\n",
       "       [6.80252969e-01],\n",
       "       [1.61924392e-01],\n",
       "       [2.76416540e-03],\n",
       "       [6.47538424e-01],\n",
       "       [4.85801697e-02],\n",
       "       [8.47573340e-01],\n",
       "       [3.89737785e-01],\n",
       "       [4.88023460e-01],\n",
       "       [1.73564255e-01],\n",
       "       [9.33105767e-01]], dtype=float32)"
      ]
     },
     "execution_count": 22,
     "metadata": {
      "tags": []
     },
     "output_type": "execute_result"
    }
   ],
   "source": [
    "pred_val=model1.predict(X_val)\n",
    "pred_val"
   ]
  },
  {
   "cell_type": "code",
   "execution_count": null,
   "metadata": {
    "colab": {},
    "colab_type": "code",
    "id": "a3yY1UMSmX9G"
   },
   "outputs": [],
   "source": [
    "pred_val[pred_val>=0.5] = 1\n",
    "pred_val[pred_val<0.5] = 0"
   ]
  },
  {
   "cell_type": "code",
   "execution_count": null,
   "metadata": {
    "colab": {
     "base_uri": "https://localhost:8080/",
     "height": 51
    },
    "colab_type": "code",
    "id": "loLroM5Hn1kX",
    "outputId": "24d55ddd-f93b-4e2a-cf32-b4c8f11debb6"
   },
   "outputs": [
    {
     "data": {
      "text/plain": [
       "array([[114,  66],\n",
       "       [ 35,  56]])"
      ]
     },
     "execution_count": 24,
     "metadata": {
      "tags": []
     },
     "output_type": "execute_result"
    }
   ],
   "source": [
    "from sklearn.metrics import confusion_matrix,accuracy_score\n",
    "confusion_matrix(y_val, pred_val)"
   ]
  },
  {
   "cell_type": "code",
   "execution_count": null,
   "metadata": {
    "colab": {
     "base_uri": "https://localhost:8080/",
     "height": 34
    },
    "colab_type": "code",
    "id": "Ojn-fmzIoD0b",
    "outputId": "86184da8-4596-4081-d65b-9b34d49b3215"
   },
   "outputs": [
    {
     "name": "stdout",
     "output_type": "stream",
     "text": [
      "Accuracy: 0.6273062730627307\n"
     ]
    }
   ],
   "source": [
    "print(\"Accuracy:\", accuracy_score(y_val, pred_val))"
   ]
  },
  {
   "cell_type": "markdown",
   "metadata": {},
   "source": [
    "The confusion matrix and the accuracy is calculated according to validation set. According to confusion matrix, 114 real images are found by the model and those 114 images are really real. 56 fake images are found by the model and those 56 fake images are really fake. \n",
    "The validation accuracy is around 0.63."
   ]
  },
  {
   "cell_type": "markdown",
   "metadata": {},
   "source": [
    "The second model is chosen because it is performing better than the first simple CNN model."
   ]
  },
  {
   "cell_type": "markdown",
   "metadata": {
    "colab_type": "text",
    "id": "s5emdJgyVNmT"
   },
   "source": [
    "### 3.3 Benchmark"
   ]
  },
  {
   "cell_type": "markdown",
   "metadata": {},
   "source": [
    "As a benchmark model, DecisionTreeClassifier is used."
   ]
  },
  {
   "cell_type": "code",
   "execution_count": null,
   "metadata": {
    "colab": {},
    "colab_type": "code",
    "id": "1ZpwBY39VPrE"
   },
   "outputs": [],
   "source": [
    "from sklearn.tree import DecisionTreeClassifier\n",
    "from sklearn import metrics"
   ]
  },
  {
   "cell_type": "code",
   "execution_count": null,
   "metadata": {
    "colab": {
     "base_uri": "https://localhost:8080/",
     "height": 34
    },
    "colab_type": "code",
    "id": "TR7-NU-IYajq",
    "outputId": "58f6997c-39ca-488d-f26f-b8d758caaddb"
   },
   "outputs": [
    {
     "name": "stdout",
     "output_type": "stream",
     "text": [
      "(907, 600, 600, 3)\n"
     ]
    }
   ],
   "source": [
    "ntrain = X_train.shape[0]\n",
    "ntest = X_val.shape[0]\n",
    "print(X_train.shape)"
   ]
  },
  {
   "cell_type": "code",
   "execution_count": null,
   "metadata": {
    "colab": {
     "base_uri": "https://localhost:8080/",
     "height": 51
    },
    "colab_type": "code",
    "id": "lQwoXCgzYsju",
    "outputId": "ec5d7177-539a-4756-9ba9-db73738cbddb"
   },
   "outputs": [
    {
     "name": "stdout",
     "output_type": "stream",
     "text": [
      "(907, 1080000)\n",
      "(447, 1080000)\n"
     ]
    }
   ],
   "source": [
    "X_train = X_train.reshape(ntrain,X_train.shape[1]*X_train.shape[2]*3)\n",
    "X_val = X_val.reshape(ntest,X_val.shape[1]*X_val.shape[2]*3)\n",
    "print(X_train.shape)\n",
    "print(X_val.shape)"
   ]
  },
  {
   "cell_type": "code",
   "execution_count": null,
   "metadata": {
    "colab": {},
    "colab_type": "code",
    "id": "aFKo_Z2FapL6"
   },
   "outputs": [],
   "source": [
    "y_train=y_train.reshape(ntrain,1)\n",
    "y_val=y_val.reshape(ntest,1)"
   ]
  },
  {
   "cell_type": "code",
   "execution_count": null,
   "metadata": {
    "colab": {},
    "colab_type": "code",
    "id": "ol9vWdz-VhEb"
   },
   "outputs": [],
   "source": [
    "tree = DecisionTreeClassifier()\n",
    "tree = tree.fit(X_train,y_train)"
   ]
  },
  {
   "cell_type": "code",
   "execution_count": null,
   "metadata": {
    "colab": {},
    "colab_type": "code",
    "id": "mBoWAfG1Wlbx"
   },
   "outputs": [],
   "source": [
    "y_pred = tree.predict(X_val)"
   ]
  },
  {
   "cell_type": "code",
   "execution_count": null,
   "metadata": {
    "colab": {
     "base_uri": "https://localhost:8080/",
     "height": 34
    },
    "colab_type": "code",
    "id": "148fV94gdxEQ",
    "outputId": "56bab424-620e-4935-a7ee-e9fa2add0222"
   },
   "outputs": [
    {
     "name": "stdout",
     "output_type": "stream",
     "text": [
      "Accuracy: 0.5749440715883669\n"
     ]
    }
   ],
   "source": [
    "print(\"Accuracy:\",metrics.accuracy_score(y_val, y_pred))"
   ]
  },
  {
   "cell_type": "markdown",
   "metadata": {},
   "source": [
    "Prediction is made on validation set. The accuracy is 0.57 with the benchmark model. "
   ]
  },
  {
   "cell_type": "markdown",
   "metadata": {},
   "source": [
    "The second model with VGG and transfer learning is performing better than the benchmark model."
   ]
  },
  {
   "cell_type": "markdown",
   "metadata": {},
   "source": [
    "# 4.Discussion"
   ]
  },
  {
   "cell_type": "markdown",
   "metadata": {},
   "source": [
    "Firstly, fine tuning is made by hand. Secondly, there is no solution found to the fluctuations in validation accuracies. The reason for this behavior may be the small size of validation set. For further improvement, some regularization techniques may be tried."
   ]
  },
  {
   "cell_type": "markdown",
   "metadata": {},
   "source": [
    "# 5.Conclusion"
   ]
  },
  {
   "cell_type": "markdown",
   "metadata": {},
   "source": [
    "In conlusion, 3 models are built in this project. A CNN model, CNN-based pretrained model and a benchmark model. The comparison is made according to their accuracies. VGG&Transfer learning model is selected as the best performing one. The predictions is submitted via Kaggle page. The auc score acquired from Kaggle is 0.60028. "
   ]
  },
  {
   "cell_type": "markdown",
   "metadata": {},
   "source": [
    "# 6.References"
   ]
  },
  {
   "cell_type": "markdown",
   "metadata": {},
   "source": [
    "[1]Deep Fakes: Let's Not Go Off The Deep End, Jeffrey Westling, Wed, Jan 30th 2019 12:05pm. https://www.techdirt.com/articles/20190128/13215341478/deep-fakes-lets-not-go-off-deep-end.shtml\n",
    "\n",
    "[2]Adobe Shows Off First Research for Tools to Detect Manipulated Photos,Andrew Liszewski, 6/14/19 11:35am. https://gizmodo.com/adobe-shows-off-first-research-for-tools-to-detect-mani-1835516127\n",
    "\n",
    "[3]Transfer learning from pre-trained models, Pedro Marcelino, Oct 23, 2018. https://towardsdatascience.com/transfer-learning-from-pre-trained-models-f2393f124751\n",
    "\n",
    "[4]Deep Learning For Beginners Using Transfer Learning In Keras, Aditya Ananthram, Oct 17, 2018. https://towardsdatascience.com/keras-transfer-learning-for-beginners-6c9b8b7143e\n",
    "\n",
    "\n"
   ]
  },
  {
   "cell_type": "code",
   "execution_count": null,
   "metadata": {},
   "outputs": [],
   "source": []
  }
 ],
 "metadata": {
  "accelerator": "GPU",
  "colab": {
   "collapsed_sections": [],
   "name": "ADAMS_FinalAssignment.ipynb",
   "provenance": [],
   "toc_visible": true,
   "version": "0.3.2"
  },
  "kernelspec": {
   "display_name": "Python 3",
   "language": "python",
   "name": "python3"
  },
  "language_info": {
   "codemirror_mode": {
    "name": "ipython",
    "version": 3
   },
   "file_extension": ".py",
   "mimetype": "text/x-python",
   "name": "python",
   "nbconvert_exporter": "python",
   "pygments_lexer": "ipython3",
   "version": "3.7.1"
  }
 },
 "nbformat": 4,
 "nbformat_minor": 2
}
